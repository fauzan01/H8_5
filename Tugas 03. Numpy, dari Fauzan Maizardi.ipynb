{
 "cells": [
  {
   "cell_type": "markdown",
   "id": "b0c41a7c",
   "metadata": {},
   "source": [
    "# jawaban nomor 1"
   ]
  },
  {
   "cell_type": "code",
   "execution_count": 1,
   "id": "2831af1b",
   "metadata": {},
   "outputs": [
    {
     "name": "stdout",
     "output_type": "stream",
     "text": [
      "nilai awal: 1\n",
      "nilai akhir: 28\n",
      "Array Satu Dimensi:\n",
      "[ 1  2  3  4  5  6  7  8  9 10 11 12 13 14 15 16 17 18 19 20 21 22 23 24\n",
      " 25 26 27 28]\n",
      "Array Dua Dimensi:\n",
      "[[ 1  2  3  4  5  6  7  8  9 10 11 12 13 14]\n",
      " [15 16 17 18 19 20 21 22 23 24 25 26 27 28]]\n",
      "Array Tiga Dimensi:\n",
      "[[[ 1  2  3  4  5  6  7]\n",
      "  [ 8  9 10 11 12 13 14]]\n",
      "\n",
      " [[15 16 17 18 19 20 21]\n",
      "  [22 23 24 25 26 27 28]]]\n"
     ]
    }
   ],
   "source": [
    "import numpy as np\n",
    "\n",
    "start = int(input(\"nilai awal: \"))\n",
    "end  = int(input(\"nilai akhir: \"))\n",
    "\n",
    "one_dimensional_array = np.arange(start, end+1)\n",
    "two_dimensional_array = one_dimensional_array.reshape(2, -1)\n",
    "three_dimensional_array = one_dimensional_array.reshape(2, 2, -1)\n",
    "\n",
    "print(\"Array Satu Dimensi:\")\n",
    "print(one_dimensional_array)\n",
    "\n",
    "print(\"Array Dua Dimensi:\")\n",
    "print(two_dimensional_array)\n",
    "\n",
    "print(\"Array Tiga Dimensi:\")\n",
    "print(three_dimensional_array)\n",
    "\n"
   ]
  }
 ],
 "metadata": {
  "kernelspec": {
   "display_name": "Python 3 (ipykernel)",
   "language": "python",
   "name": "python3"
  },
  "language_info": {
   "codemirror_mode": {
    "name": "ipython",
    "version": 3
   },
   "file_extension": ".py",
   "mimetype": "text/x-python",
   "name": "python",
   "nbconvert_exporter": "python",
   "pygments_lexer": "ipython3",
   "version": "3.11.3"
  }
 },
 "nbformat": 4,
 "nbformat_minor": 5
}
