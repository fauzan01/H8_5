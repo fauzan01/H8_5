{
 "cells": [
  {
   "cell_type": "code",
   "execution_count": 9,
   "id": "b77a57a6",
   "metadata": {},
   "outputs": [
    {
     "data": {
      "text/plain": [
       "3.05375"
      ]
     },
     "execution_count": 9,
     "metadata": {},
     "output_type": "execute_result"
    }
   ],
   "source": [
    "import statistics\n",
    "ip = [3.01,2.88,3.14,2.68,2.58,3.29,3.45,3.40]\n",
    "statistics.mean(ip)"
   ]
  }
 ],
 "metadata": {
  "kernelspec": {
   "display_name": "Python 3 (ipykernel)",
   "language": "python",
   "name": "python3"
  },
  "language_info": {
   "codemirror_mode": {
    "name": "ipython",
    "version": 3
   },
   "file_extension": ".py",
   "mimetype": "text/x-python",
   "name": "python",
   "nbconvert_exporter": "python",
   "pygments_lexer": "ipython3",
   "version": "3.11.4"
  }
 },
 "nbformat": 4,
 "nbformat_minor": 5
}
