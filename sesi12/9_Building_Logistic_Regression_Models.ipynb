{
 "cells": [
  {
   "cell_type": "code",
   "execution_count": 9,
   "metadata": {
    "id": "eGp5uHOyxwIK"
   },
   "outputs": [],
   "source": [
    "import pandas as pd\n",
    "import numpy as np\n",
    "import matplotlib.pyplot as plt\n",
    "import seaborn as sns"
   ]
  },
  {
   "cell_type": "code",
   "execution_count": 8,
   "metadata": {
    "colab": {
     "base_uri": "https://localhost:8080/",
     "height": 223
    },
    "id": "miFYJI5Mx_C_",
    "outputId": "e0233e97-9b42-404e-e784-43294952c379"
   },
   "outputs": [
    {
     "data": {
      "text/html": [
       "<div>\n",
       "<style scoped>\n",
       "    .dataframe tbody tr th:only-of-type {\n",
       "        vertical-align: middle;\n",
       "    }\n",
       "\n",
       "    .dataframe tbody tr th {\n",
       "        vertical-align: top;\n",
       "    }\n",
       "\n",
       "    .dataframe thead th {\n",
       "        text-align: right;\n",
       "    }\n",
       "</style>\n",
       "<table border=\"1\" class=\"dataframe\">\n",
       "  <thead>\n",
       "    <tr style=\"text-align: right;\">\n",
       "      <th></th>\n",
       "      <th>target</th>\n",
       "      <th>gender_F</th>\n",
       "      <th>income_high</th>\n",
       "      <th>income_low</th>\n",
       "      <th>country_USA</th>\n",
       "      <th>country_India</th>\n",
       "      <th>country_UK</th>\n",
       "      <th>age</th>\n",
       "      <th>time_since_last_gift</th>\n",
       "      <th>time_since_first_gift</th>\n",
       "      <th>max_gift</th>\n",
       "      <th>min_gift</th>\n",
       "      <th>mean_gift</th>\n",
       "      <th>number_gift</th>\n",
       "    </tr>\n",
       "  </thead>\n",
       "  <tbody>\n",
       "    <tr>\n",
       "      <th>0</th>\n",
       "      <td>0</td>\n",
       "      <td>1</td>\n",
       "      <td>0</td>\n",
       "      <td>1</td>\n",
       "      <td>0</td>\n",
       "      <td>1</td>\n",
       "      <td>0</td>\n",
       "      <td>65</td>\n",
       "      <td>530</td>\n",
       "      <td>2265</td>\n",
       "      <td>166</td>\n",
       "      <td>87</td>\n",
       "      <td>116.000000</td>\n",
       "      <td>7</td>\n",
       "    </tr>\n",
       "    <tr>\n",
       "      <th>1</th>\n",
       "      <td>0</td>\n",
       "      <td>1</td>\n",
       "      <td>0</td>\n",
       "      <td>0</td>\n",
       "      <td>0</td>\n",
       "      <td>1</td>\n",
       "      <td>0</td>\n",
       "      <td>71</td>\n",
       "      <td>715</td>\n",
       "      <td>715</td>\n",
       "      <td>90</td>\n",
       "      <td>90</td>\n",
       "      <td>90.000000</td>\n",
       "      <td>1</td>\n",
       "    </tr>\n",
       "    <tr>\n",
       "      <th>2</th>\n",
       "      <td>0</td>\n",
       "      <td>1</td>\n",
       "      <td>0</td>\n",
       "      <td>0</td>\n",
       "      <td>0</td>\n",
       "      <td>1</td>\n",
       "      <td>0</td>\n",
       "      <td>28</td>\n",
       "      <td>150</td>\n",
       "      <td>1806</td>\n",
       "      <td>125</td>\n",
       "      <td>74</td>\n",
       "      <td>96.000000</td>\n",
       "      <td>9</td>\n",
       "    </tr>\n",
       "    <tr>\n",
       "      <th>3</th>\n",
       "      <td>0</td>\n",
       "      <td>1</td>\n",
       "      <td>0</td>\n",
       "      <td>1</td>\n",
       "      <td>1</td>\n",
       "      <td>0</td>\n",
       "      <td>0</td>\n",
       "      <td>52</td>\n",
       "      <td>725</td>\n",
       "      <td>2274</td>\n",
       "      <td>117</td>\n",
       "      <td>97</td>\n",
       "      <td>104.250000</td>\n",
       "      <td>4</td>\n",
       "    </tr>\n",
       "    <tr>\n",
       "      <th>4</th>\n",
       "      <td>0</td>\n",
       "      <td>1</td>\n",
       "      <td>1</td>\n",
       "      <td>0</td>\n",
       "      <td>1</td>\n",
       "      <td>0</td>\n",
       "      <td>0</td>\n",
       "      <td>82</td>\n",
       "      <td>805</td>\n",
       "      <td>805</td>\n",
       "      <td>80</td>\n",
       "      <td>80</td>\n",
       "      <td>80.000000</td>\n",
       "      <td>1</td>\n",
       "    </tr>\n",
       "    <tr>\n",
       "      <th>5</th>\n",
       "      <td>0</td>\n",
       "      <td>1</td>\n",
       "      <td>1</td>\n",
       "      <td>0</td>\n",
       "      <td>1</td>\n",
       "      <td>0</td>\n",
       "      <td>0</td>\n",
       "      <td>42</td>\n",
       "      <td>907</td>\n",
       "      <td>2287</td>\n",
       "      <td>114</td>\n",
       "      <td>67</td>\n",
       "      <td>86.666667</td>\n",
       "      <td>6</td>\n",
       "    </tr>\n",
       "    <tr>\n",
       "      <th>6</th>\n",
       "      <td>0</td>\n",
       "      <td>0</td>\n",
       "      <td>0</td>\n",
       "      <td>0</td>\n",
       "      <td>1</td>\n",
       "      <td>0</td>\n",
       "      <td>0</td>\n",
       "      <td>52</td>\n",
       "      <td>673</td>\n",
       "      <td>2212</td>\n",
       "      <td>118</td>\n",
       "      <td>72</td>\n",
       "      <td>93.250000</td>\n",
       "      <td>4</td>\n",
       "    </tr>\n",
       "    <tr>\n",
       "      <th>7</th>\n",
       "      <td>0</td>\n",
       "      <td>0</td>\n",
       "      <td>0</td>\n",
       "      <td>0</td>\n",
       "      <td>1</td>\n",
       "      <td>0</td>\n",
       "      <td>0</td>\n",
       "      <td>72</td>\n",
       "      <td>710</td>\n",
       "      <td>2455</td>\n",
       "      <td>111</td>\n",
       "      <td>74</td>\n",
       "      <td>98.500000</td>\n",
       "      <td>6</td>\n",
       "    </tr>\n",
       "    <tr>\n",
       "      <th>8</th>\n",
       "      <td>0</td>\n",
       "      <td>1</td>\n",
       "      <td>1</td>\n",
       "      <td>0</td>\n",
       "      <td>0</td>\n",
       "      <td>1</td>\n",
       "      <td>0</td>\n",
       "      <td>77</td>\n",
       "      <td>813</td>\n",
       "      <td>2336</td>\n",
       "      <td>53</td>\n",
       "      <td>46</td>\n",
       "      <td>50.500000</td>\n",
       "      <td>4</td>\n",
       "    </tr>\n",
       "    <tr>\n",
       "      <th>9</th>\n",
       "      <td>0</td>\n",
       "      <td>1</td>\n",
       "      <td>0</td>\n",
       "      <td>0</td>\n",
       "      <td>0</td>\n",
       "      <td>0</td>\n",
       "      <td>1</td>\n",
       "      <td>48</td>\n",
       "      <td>812</td>\n",
       "      <td>2718</td>\n",
       "      <td>107</td>\n",
       "      <td>74</td>\n",
       "      <td>88.333333</td>\n",
       "      <td>9</td>\n",
       "    </tr>\n",
       "  </tbody>\n",
       "</table>\n",
       "</div>"
      ],
      "text/plain": [
       "   target  gender_F  income_high  income_low  country_USA  country_India  \\\n",
       "0       0         1            0           1            0              1   \n",
       "1       0         1            0           0            0              1   \n",
       "2       0         1            0           0            0              1   \n",
       "3       0         1            0           1            1              0   \n",
       "4       0         1            1           0            1              0   \n",
       "5       0         1            1           0            1              0   \n",
       "6       0         0            0           0            1              0   \n",
       "7       0         0            0           0            1              0   \n",
       "8       0         1            1           0            0              1   \n",
       "9       0         1            0           0            0              0   \n",
       "\n",
       "   country_UK  age  time_since_last_gift  time_since_first_gift  max_gift  \\\n",
       "0           0   65                   530                   2265       166   \n",
       "1           0   71                   715                    715        90   \n",
       "2           0   28                   150                   1806       125   \n",
       "3           0   52                   725                   2274       117   \n",
       "4           0   82                   805                    805        80   \n",
       "5           0   42                   907                   2287       114   \n",
       "6           0   52                   673                   2212       118   \n",
       "7           0   72                   710                   2455       111   \n",
       "8           0   77                   813                   2336        53   \n",
       "9           1   48                   812                   2718       107   \n",
       "\n",
       "   min_gift   mean_gift  number_gift  \n",
       "0        87  116.000000            7  \n",
       "1        90   90.000000            1  \n",
       "2        74   96.000000            9  \n",
       "3        97  104.250000            4  \n",
       "4        80   80.000000            1  \n",
       "5        67   86.666667            6  \n",
       "6        72   93.250000            4  \n",
       "7        74   98.500000            6  \n",
       "8        46   50.500000            4  \n",
       "9        74   88.333333            9  "
      ]
     },
     "execution_count": 8,
     "metadata": {},
     "output_type": "execute_result"
    }
   ],
   "source": [
    "basetable = pd.read_csv('basetable_ex2_4.csv')\n",
    "basetable.head(10)"
   ]
  },
  {
   "cell_type": "markdown",
   "metadata": {
    "id": "uo6ZeM--yaWm"
   },
   "source": [
    "## Exploring the base table\n",
    "\n",
    "1. The basetable is loaded in a pandas object basetable. Assign the number of rows to the variable population_size and print it.\n",
    "2. Assign the number of targets equal to one to the variable targets_count and print it.\n",
    "3. Print the target incidence, this is the ratio of targets_count and population_size."
   ]
  },
  {
   "cell_type": "code",
   "execution_count": 12,
   "metadata": {
    "colab": {
     "base_uri": "https://localhost:8080/"
    },
    "id": "mrDkiZeYyP4i",
    "outputId": "d83e13e1-958b-4db2-f7b2-b944ef57324d"
   },
   "outputs": [
    {
     "name": "stdout",
     "output_type": "stream",
     "text": [
      "25000\n",
      "1187\n",
      "0.04748\n"
     ]
    }
   ],
   "source": [
    "# Assign the number of rows in the basetable to the variable 'population_size'.\n",
    "population_size = len(basetable)\n",
    "print(population_size)\n",
    "\n",
    "# Assign the number of targets to the variable 'targets_count'.\n",
    "targets_count = sum(basetable['target'])\n",
    "print(targets_count)\n",
    "\n",
    "# Print the number of targets.\n",
    "target_incidence = targets_count / population_size\n",
    "print(target_incidence)\n",
    "\n"
   ]
  },
  {
   "cell_type": "markdown",
   "metadata": {
    "id": "tp5jLd1Ny2D_"
   },
   "source": [
    "## Exploring the predictive variables\n",
    "\n",
    "1. Count and print the number of females.\n",
    "2. Count and print the number of males."
   ]
  },
  {
   "cell_type": "code",
   "execution_count": 13,
   "metadata": {
    "colab": {
     "base_uri": "https://localhost:8080/"
    },
    "id": "Nl6Ns-jcy7HL",
    "outputId": "f3aa2a70-453a-46f2-c32d-f0bed413a4cf"
   },
   "outputs": [
    {
     "name": "stdout",
     "output_type": "stream",
     "text": [
      "12579\n",
      "12421\n"
     ]
    }
   ],
   "source": [
    "# Count and print the number of females.\n",
    "num_females = len(basetable[basetable['gender_F'] == 1])\n",
    "print(num_females)\n",
    "\n",
    "# Count and print the number of males.\n",
    "num_males = len(basetable[basetable['gender_F'] == 0])\n",
    "print(num_males)"
   ]
  },
  {
   "cell_type": "markdown",
   "metadata": {
    "id": "tUnnOqci0_gx"
   },
   "source": [
    "## Building a logistic regression model\n",
    "\n",
    "1. Import the methodlinear_model from sklearn.\n",
    "2. Construct a dataframe X that contains the predictors age, gender_F and time_since_last_gift.\n",
    "3. Construct a dataframe y that contains the target.\n",
    "4. Create a logistic regression model.\n",
    "5. Fit the logistic regression model on the given basetable."
   ]
  },
  {
   "cell_type": "code",
   "execution_count": 21,
   "metadata": {
    "colab": {
     "base_uri": "https://localhost:8080/"
    },
    "id": "Jg8gxvWI0VJZ",
    "outputId": "d23723a7-5efa-4fa8-dbd1-12442b760608"
   },
   "outputs": [
    {
     "name": "stderr",
     "output_type": "stream",
     "text": [
      "C:\\Users\\zanma\\anaconda3\\Lib\\site-packages\\sklearn\\utils\\validation.py:1184: DataConversionWarning: A column-vector y was passed when a 1d array was expected. Please change the shape of y to (n_samples, ), for example using ravel().\n",
      "  y = column_or_1d(y, warn=True)\n"
     ]
    },
    {
     "data": {
      "text/html": [
       "<style>#sk-container-id-4 {color: black;}#sk-container-id-4 pre{padding: 0;}#sk-container-id-4 div.sk-toggleable {background-color: white;}#sk-container-id-4 label.sk-toggleable__label {cursor: pointer;display: block;width: 100%;margin-bottom: 0;padding: 0.3em;box-sizing: border-box;text-align: center;}#sk-container-id-4 label.sk-toggleable__label-arrow:before {content: \"▸\";float: left;margin-right: 0.25em;color: #696969;}#sk-container-id-4 label.sk-toggleable__label-arrow:hover:before {color: black;}#sk-container-id-4 div.sk-estimator:hover label.sk-toggleable__label-arrow:before {color: black;}#sk-container-id-4 div.sk-toggleable__content {max-height: 0;max-width: 0;overflow: hidden;text-align: left;background-color: #f0f8ff;}#sk-container-id-4 div.sk-toggleable__content pre {margin: 0.2em;color: black;border-radius: 0.25em;background-color: #f0f8ff;}#sk-container-id-4 input.sk-toggleable__control:checked~div.sk-toggleable__content {max-height: 200px;max-width: 100%;overflow: auto;}#sk-container-id-4 input.sk-toggleable__control:checked~label.sk-toggleable__label-arrow:before {content: \"▾\";}#sk-container-id-4 div.sk-estimator input.sk-toggleable__control:checked~label.sk-toggleable__label {background-color: #d4ebff;}#sk-container-id-4 div.sk-label input.sk-toggleable__control:checked~label.sk-toggleable__label {background-color: #d4ebff;}#sk-container-id-4 input.sk-hidden--visually {border: 0;clip: rect(1px 1px 1px 1px);clip: rect(1px, 1px, 1px, 1px);height: 1px;margin: -1px;overflow: hidden;padding: 0;position: absolute;width: 1px;}#sk-container-id-4 div.sk-estimator {font-family: monospace;background-color: #f0f8ff;border: 1px dotted black;border-radius: 0.25em;box-sizing: border-box;margin-bottom: 0.5em;}#sk-container-id-4 div.sk-estimator:hover {background-color: #d4ebff;}#sk-container-id-4 div.sk-parallel-item::after {content: \"\";width: 100%;border-bottom: 1px solid gray;flex-grow: 1;}#sk-container-id-4 div.sk-label:hover label.sk-toggleable__label {background-color: #d4ebff;}#sk-container-id-4 div.sk-serial::before {content: \"\";position: absolute;border-left: 1px solid gray;box-sizing: border-box;top: 0;bottom: 0;left: 50%;z-index: 0;}#sk-container-id-4 div.sk-serial {display: flex;flex-direction: column;align-items: center;background-color: white;padding-right: 0.2em;padding-left: 0.2em;position: relative;}#sk-container-id-4 div.sk-item {position: relative;z-index: 1;}#sk-container-id-4 div.sk-parallel {display: flex;align-items: stretch;justify-content: center;background-color: white;position: relative;}#sk-container-id-4 div.sk-item::before, #sk-container-id-4 div.sk-parallel-item::before {content: \"\";position: absolute;border-left: 1px solid gray;box-sizing: border-box;top: 0;bottom: 0;left: 50%;z-index: -1;}#sk-container-id-4 div.sk-parallel-item {display: flex;flex-direction: column;z-index: 1;position: relative;background-color: white;}#sk-container-id-4 div.sk-parallel-item:first-child::after {align-self: flex-end;width: 50%;}#sk-container-id-4 div.sk-parallel-item:last-child::after {align-self: flex-start;width: 50%;}#sk-container-id-4 div.sk-parallel-item:only-child::after {width: 0;}#sk-container-id-4 div.sk-dashed-wrapped {border: 1px dashed gray;margin: 0 0.4em 0.5em 0.4em;box-sizing: border-box;padding-bottom: 0.4em;background-color: white;}#sk-container-id-4 div.sk-label label {font-family: monospace;font-weight: bold;display: inline-block;line-height: 1.2em;}#sk-container-id-4 div.sk-label-container {text-align: center;}#sk-container-id-4 div.sk-container {/* jupyter's `normalize.less` sets `[hidden] { display: none; }` but bootstrap.min.css set `[hidden] { display: none !important; }` so we also need the `!important` here to be able to override the default hidden behavior on the sphinx rendered scikit-learn.org. See: https://github.com/scikit-learn/scikit-learn/issues/21755 */display: inline-block !important;position: relative;}#sk-container-id-4 div.sk-text-repr-fallback {display: none;}</style><div id=\"sk-container-id-4\" class=\"sk-top-container\"><div class=\"sk-text-repr-fallback\"><pre>LogisticRegression()</pre><b>In a Jupyter environment, please rerun this cell to show the HTML representation or trust the notebook. <br />On GitHub, the HTML representation is unable to render, please try loading this page with nbviewer.org.</b></div><div class=\"sk-container\" hidden><div class=\"sk-item\"><div class=\"sk-estimator sk-toggleable\"><input class=\"sk-toggleable__control sk-hidden--visually\" id=\"sk-estimator-id-4\" type=\"checkbox\" checked><label for=\"sk-estimator-id-4\" class=\"sk-toggleable__label sk-toggleable__label-arrow\">LogisticRegression</label><div class=\"sk-toggleable__content\"><pre>LogisticRegression()</pre></div></div></div></div></div>"
      ],
      "text/plain": [
       "LogisticRegression()"
      ]
     },
     "execution_count": 21,
     "metadata": {},
     "output_type": "execute_result"
    }
   ],
   "source": [
    "#Import linear_model from sklearn.\n",
    "from sklearn import linear_model\n",
    "\n",
    "#Create a dataframe X that only contains the candidate predictors age, gender_F and time_since_last_gift.\n",
    "X = basetable[[\"age\", \"gender_F\", \"time_since_last_gift\"]]\n",
    "\n",
    "#Create a dataframe y that contains the target.\n",
    "Y = basetable[[\"target\"]]\n",
    "\n",
    "#Create a logistic regression model logreg and fit it to the data.\n",
    "logreg = linear_model.LogisticRegression()\n",
    "logreg.fit(X, Y)"
   ]
  },
  {
   "cell_type": "markdown",
   "metadata": {
    "id": "K_8ii-ih1IcF"
   },
   "source": [
    "## Showing the coefficients and intercept\n",
    "\n",
    "1. Assign the coefficients of the logistic regression model to the list coef.\n",
    "2. Assign the intercept of the logistic regression model to the variable intercept."
   ]
  },
  {
   "cell_type": "code",
   "execution_count": 28,
   "metadata": {
    "colab": {
     "base_uri": "https://localhost:8080/"
    },
    "id": "S4zN2VbP1N1M",
    "outputId": "ece7c42a-65e9-4475-f0ec-8e19d775bd9b"
   },
   "outputs": [
    {
     "name": "stdout",
     "output_type": "stream",
     "text": [
      "age\t0.007801469599050616\n",
      "gender_F\t0.10964341264652427\n",
      "time_since_last_gift\t-0.0012872607039949395\n",
      "[-2.59072469]\n"
     ]
    }
   ],
   "source": [
    "# Construct a logistic regression model that predicts the target using age, gender_F and time_since_last_gift\n",
    "predictors = [\"age\", \"gender_F\", \"time_since_last_gift\"]\n",
    "X = basetable[predictors]\n",
    "y = basetable['target']\n",
    "logreg = linear_model.LogisticRegression()\n",
    "logreg.fit(X, y)\n",
    "\n",
    "# Assign the coefficients to a list coef\n",
    "coef = logreg.coef_\n",
    "for p, c in zip(predictors, coef[0]):\n",
    "    print(p + '\\t' + str(c))\n",
    "\n",
    "# Assign the intercept to the variable intercept\n",
    "intercept = logreg.intercept_\n",
    "print(intercept)\n"
   ]
  },
  {
   "cell_type": "markdown",
   "metadata": {
    "id": "ODWLrtTr1qvy"
   },
   "source": [
    "## Making predictions\n",
    "\n",
    "1. Create a data frame new_data that selects the relevant columns from current data.\n",
    "2. Assign to predictions the predictions for the observations in new_data."
   ]
  },
  {
   "cell_type": "code",
   "execution_count": 32,
   "metadata": {
    "colab": {
     "base_uri": "https://localhost:8080/"
    },
    "id": "qUb-F_xk2GYm",
    "outputId": "9b78b419-208c-411c-935c-d7635edd9fe0"
   },
   "outputs": [
    {
     "ename": "NameError",
     "evalue": "name 'predictions' is not defined",
     "output_type": "error",
     "traceback": [
      "\u001b[1;31m---------------------------------------------------------------------------\u001b[0m",
      "\u001b[1;31mNameError\u001b[0m                                 Traceback (most recent call last)",
      "Cell \u001b[1;32mIn[32], line 2\u001b[0m\n\u001b[0;32m      1\u001b[0m \u001b[38;5;66;03m#Sort the predictions\u001b[39;00m\n\u001b[1;32m----> 2\u001b[0m predictions_sorted \u001b[38;5;241m=\u001b[39m predictions\u001b[38;5;241m.\u001b[39msort_values([\u001b[38;5;124m'\u001b[39m\u001b[38;5;124mprobability\u001b[39m\u001b[38;5;124m'\u001b[39m])\n\u001b[0;32m      4\u001b[0m \u001b[38;5;66;03m#Print the row of predictions_sorted that has the donor that is most likely to donate\u001b[39;00m\n\u001b[0;32m      5\u001b[0m \u001b[38;5;28mprint\u001b[39m(predictions_sorted\u001b[38;5;241m.\u001b[39mtail(\u001b[38;5;241m1\u001b[39m))\n",
      "\u001b[1;31mNameError\u001b[0m: name 'predictions' is not defined"
     ]
    }
   ],
   "source": [
    "#Sort the predictions\n",
    "predictions_sorted = predictions.sort_values(['probability'])\n",
    "\n",
    "#Print the row of predictions_sorted that has the donor that is most likely to donate\n",
    "print(predictions_sorted.tail(1))"
   ]
  },
  {
   "cell_type": "code",
   "execution_count": 27,
   "metadata": {
    "colab": {
     "base_uri": "https://localhost:8080/"
    },
    "id": "r39P3gRn1-pB",
    "outputId": "517fa9dc-ebbf-4bd9-8e4b-22e36dbe760d"
   },
   "outputs": [
    {
     "ename": "NameError",
     "evalue": "name 'linearmodel' is not defined",
     "output_type": "error",
     "traceback": [
      "\u001b[1;31m---------------------------------------------------------------------------\u001b[0m",
      "\u001b[1;31mNameError\u001b[0m                                 Traceback (most recent call last)",
      "Cell \u001b[1;32mIn[27], line 5\u001b[0m\n\u001b[0;32m      3\u001b[0m X \u001b[38;5;241m=\u001b[39m basetable[[\u001b[38;5;124m\"\u001b[39m\u001b[38;5;124mage\u001b[39m\u001b[38;5;124m\"\u001b[39m,\u001b[38;5;124m\"\u001b[39m\u001b[38;5;124mgender_F\u001b[39m\u001b[38;5;124m\"\u001b[39m,\u001b[38;5;124m\"\u001b[39m\u001b[38;5;124mtime_since_last_gift\u001b[39m\u001b[38;5;124m\"\u001b[39m]]\n\u001b[0;32m      4\u001b[0m y \u001b[38;5;241m=\u001b[39m basetable[[\u001b[38;5;124m\"\u001b[39m\u001b[38;5;124mtarget\u001b[39m\u001b[38;5;124m\"\u001b[39m]]\n\u001b[1;32m----> 5\u001b[0m logreg \u001b[38;5;241m=\u001b[39m linearmodel\u001b[38;5;241m.\u001b[39mLogisticRegression()\n\u001b[0;32m      6\u001b[0m logreg\u001b[38;5;241m.\u001b[39mfit(X, y)\n\u001b[0;32m      8\u001b[0m \u001b[38;5;66;03m# Create a dataframe new_data from current_data that has only the relevant predictors \u001b[39;00m\n",
      "\u001b[1;31mNameError\u001b[0m: name 'linearmodel' is not defined"
     ]
    }
   ],
   "source": [
    "# Fit a logistic regression model\n",
    "from sklearn import linear_model\n",
    "X = basetable[[\"age\",\"gender_F\",\"time_since_last_gift\"]]\n",
    "y = basetable[[\"target\"]]\n",
    "logreg = linearmodel.LogisticRegression()\n",
    "logreg.fit(X, y)\n",
    "\n",
    "# Create a dataframe new_data from current_data that has only the relevant predictors \n",
    "new_data = ____[[____, ____, ____]]\n",
    "\n",
    "# Make a prediction for each observation in new_data and assign it to predictions\n",
    "predictions = ____.____(____)\n",
    "print(predictions[0:5])"
   ]
  },
  {
   "cell_type": "markdown",
   "metadata": {
    "id": "s3tlovbk2rv3"
   },
   "source": [
    "## Donor that is most likely to donate\n",
    "\n",
    "1. The predictions are in a pandas dataframe predictions that has two columns: the donor ID and the probability to be target. Sort these predictions such that the donors with lowest probability to donate are first.\n",
    "2. Select and print the row in this sorted dataframe that has the donor that is most likely to donate more than 50 Euro according to the model."
   ]
  },
  {
   "cell_type": "code",
   "execution_count": 26,
   "metadata": {
    "colab": {
     "base_uri": "https://localhost:8080/",
     "height": 203
    },
    "id": "cxiMJ3Ez3RW8",
    "outputId": "0de10a52-a392-44c8-ab86-366fc779dedb"
   },
   "outputs": [
    {
     "data": {
      "text/html": [
       "<div>\n",
       "<style scoped>\n",
       "    .dataframe tbody tr th:only-of-type {\n",
       "        vertical-align: middle;\n",
       "    }\n",
       "\n",
       "    .dataframe tbody tr th {\n",
       "        vertical-align: top;\n",
       "    }\n",
       "\n",
       "    .dataframe thead th {\n",
       "        text-align: right;\n",
       "    }\n",
       "</style>\n",
       "<table border=\"1\" class=\"dataframe\">\n",
       "  <thead>\n",
       "    <tr style=\"text-align: right;\">\n",
       "      <th></th>\n",
       "      <th>donor_ID</th>\n",
       "      <th>probability</th>\n",
       "    </tr>\n",
       "  </thead>\n",
       "  <tbody>\n",
       "    <tr>\n",
       "      <th>0</th>\n",
       "      <td>0.960135</td>\n",
       "      <td>0.039865</td>\n",
       "    </tr>\n",
       "    <tr>\n",
       "      <th>1</th>\n",
       "      <td>0.940262</td>\n",
       "      <td>0.059738</td>\n",
       "    </tr>\n",
       "    <tr>\n",
       "      <th>2</th>\n",
       "      <td>0.968655</td>\n",
       "      <td>0.031345</td>\n",
       "    </tr>\n",
       "    <tr>\n",
       "      <th>3</th>\n",
       "      <td>0.947543</td>\n",
       "      <td>0.052457</td>\n",
       "    </tr>\n",
       "    <tr>\n",
       "      <th>4</th>\n",
       "      <td>0.879696</td>\n",
       "      <td>0.120304</td>\n",
       "    </tr>\n",
       "  </tbody>\n",
       "</table>\n",
       "</div>"
      ],
      "text/plain": [
       "   donor_ID  probability\n",
       "0  0.960135     0.039865\n",
       "1  0.940262     0.059738\n",
       "2  0.968655     0.031345\n",
       "3  0.947543     0.052457\n",
       "4  0.879696     0.120304"
      ]
     },
     "execution_count": 26,
     "metadata": {},
     "output_type": "execute_result"
    }
   ],
   "source": [
    "predictions = pd.DataFrame(predictions, columns = ['donor_ID', 'probability'])\n",
    "predictions.head()"
   ]
  },
  {
   "cell_type": "code",
   "execution_count": 28,
   "metadata": {
    "colab": {
     "base_uri": "https://localhost:8080/"
    },
    "id": "LGG8hAnB2-5n",
    "outputId": "ce6c0271-5d08-47af-d513-d23d7697db1c"
   },
   "outputs": [
    {
     "name": "stdout",
     "output_type": "stream",
     "text": [
      "      donor_ID  probability\n",
      "6373  0.850223     0.149777\n"
     ]
    }
   ],
   "source": [
    "# Sort the predictions\n",
    "predictions_sorted = ____.____([____])\n",
    "\n",
    "# Print the row of predictions_sorted that has the donor that is most likely to donate\n",
    "print(____.____(____))"
   ]
  }
 ],
 "metadata": {
  "colab": {
   "name": "9. Building Logistic Regression Models.ipynb",
   "provenance": []
  },
  "kernelspec": {
   "display_name": "Python 3 (ipykernel)",
   "language": "python",
   "name": "python3"
  },
  "language_info": {
   "codemirror_mode": {
    "name": "ipython",
    "version": 3
   },
   "file_extension": ".py",
   "mimetype": "text/x-python",
   "name": "python",
   "nbconvert_exporter": "python",
   "pygments_lexer": "ipython3",
   "version": "3.11.4"
  }
 },
 "nbformat": 4,
 "nbformat_minor": 1
}
