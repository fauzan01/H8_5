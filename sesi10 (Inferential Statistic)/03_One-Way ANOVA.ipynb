{
 "cells": [
  {
   "cell_type": "code",
   "execution_count": 11,
   "metadata": {
    "colab": {
     "base_uri": "https://localhost:8080/",
     "height": 72
    },
    "colab_type": "code",
    "executionInfo": {
     "elapsed": 1262,
     "status": "ok",
     "timestamp": 1594183267522,
     "user": {
      "displayName": "Fathi Muhyi",
      "photoUrl": "https://lh3.googleusercontent.com/a-/AOh14GhChUnD9lp0uYHDjzFDqClMEcljUKZtuV7ArMBsmA=s64",
      "userId": "15936908794749616962"
     },
     "user_tz": -420
    },
    "id": "vsMIwCfn-Kkk",
    "outputId": "b35b8a52-6329-45a8-cc04-d977e92b533d"
   },
   "outputs": [],
   "source": [
    "#Import the usual library\n",
    "import pandas as pd\n",
    "import numpy as np\n",
    "import matplotlib.pyplot as plt\n",
    "import seaborn as sns\n",
    "%matplotlib inline\n",
    "import random"
   ]
  },
  {
   "cell_type": "markdown",
   "metadata": {
    "colab_type": "text",
    "id": "E-3oXbJq-Kls"
   },
   "source": [
    "# Inferential Statistics"
   ]
  },
  {
   "cell_type": "markdown",
   "metadata": {
    "colab_type": "text",
    "id": "Glg7ECfR-Klt"
   },
   "source": [
    "1. T test single population mean\n",
    "1. T test independence double population mean\n",
    "    1. equal variance\n",
    "    1. non equal variance\n",
    "1. T test paired \n",
    "1. F test for more than two population mean\n",
    "1. Proportion Test"
   ]
  },
  {
   "cell_type": "markdown",
   "metadata": {
    "colab_type": "text",
    "id": "NnNiay66-KmW"
   },
   "source": [
    "## One-Way ANOVA\n",
    "Let's create the dataset"
   ]
  },
  {
   "cell_type": "code",
   "execution_count": 12,
   "metadata": {
    "ExecuteTime": {
     "end_time": "2019-08-21T03:33:42.963397Z",
     "start_time": "2019-08-21T03:33:42.959438Z"
    },
    "colab": {},
    "colab_type": "code",
    "id": "f9qaYW48-KmX"
   },
   "outputs": [],
   "source": [
    "transport = []\n",
    "method = ['Walking ', 'Public ', 'Private ']\n",
    "for i in method:\n",
    "    transport.extend((i*10).split())"
   ]
  },
  {
   "cell_type": "code",
   "execution_count": 13,
   "metadata": {
    "ExecuteTime": {
     "end_time": "2019-08-21T03:43:05.346483Z",
     "start_time": "2019-08-21T03:43:05.336513Z"
    },
    "colab": {
     "base_uri": "https://localhost:8080/",
     "height": 194
    },
    "colab_type": "code",
    "executionInfo": {
     "elapsed": 9255,
     "status": "ok",
     "timestamp": 1593758200010,
     "user": {
      "displayName": "Fathi Muhyi",
      "photoUrl": "https://lh3.googleusercontent.com/a-/AOh14GhChUnD9lp0uYHDjzFDqClMEcljUKZtuV7ArMBsmA=s64",
      "userId": "15936908794749616962"
     },
     "user_tz": -420
    },
    "id": "1yjHLkqr-KmY",
    "outputId": "e5a42a4b-cd62-4d9d-b7b0-e6d9ed8fb2c6"
   },
   "outputs": [
    {
     "data": {
      "text/html": [
       "<div>\n",
       "<style scoped>\n",
       "    .dataframe tbody tr th:only-of-type {\n",
       "        vertical-align: middle;\n",
       "    }\n",
       "\n",
       "    .dataframe tbody tr th {\n",
       "        vertical-align: top;\n",
       "    }\n",
       "\n",
       "    .dataframe thead th {\n",
       "        text-align: right;\n",
       "    }\n",
       "</style>\n",
       "<table border=\"1\" class=\"dataframe\">\n",
       "  <thead>\n",
       "    <tr style=\"text-align: right;\">\n",
       "      <th></th>\n",
       "      <th>Transportation</th>\n",
       "      <th>Study Hour</th>\n",
       "    </tr>\n",
       "  </thead>\n",
       "  <tbody>\n",
       "    <tr>\n",
       "      <th>29</th>\n",
       "      <td>Private</td>\n",
       "      <td>7</td>\n",
       "    </tr>\n",
       "    <tr>\n",
       "      <th>11</th>\n",
       "      <td>Public</td>\n",
       "      <td>7</td>\n",
       "    </tr>\n",
       "    <tr>\n",
       "      <th>21</th>\n",
       "      <td>Private</td>\n",
       "      <td>4</td>\n",
       "    </tr>\n",
       "    <tr>\n",
       "      <th>1</th>\n",
       "      <td>Walking</td>\n",
       "      <td>4</td>\n",
       "    </tr>\n",
       "    <tr>\n",
       "      <th>0</th>\n",
       "      <td>Walking</td>\n",
       "      <td>5</td>\n",
       "    </tr>\n",
       "  </tbody>\n",
       "</table>\n",
       "</div>"
      ],
      "text/plain": [
       "   Transportation  Study Hour\n",
       "29        Private           7\n",
       "11         Public           7\n",
       "21        Private           4\n",
       "1         Walking           4\n",
       "0         Walking           5"
      ]
     },
     "execution_count": 13,
     "metadata": {},
     "output_type": "execute_result"
    }
   ],
   "source": [
    "transportdf = pd.concat([pd.Series(transport, name = 'Transportation'), \n",
    "                     pd.Series([5,4,5,6,5,3,2,4,5,5,7,7,5,6,4,6,5,5,6,7,5,4,5,6,6,5,5,5,7,7], name = 'Study Hour')], axis =1)\n",
    "transportdf.sample(5)"
   ]
  },
  {
   "cell_type": "code",
   "execution_count": 14,
   "metadata": {
    "ExecuteTime": {
     "end_time": "2019-08-21T03:48:23.438036Z",
     "start_time": "2019-08-21T03:48:23.281457Z"
    },
    "colab": {
     "base_uri": "https://localhost:8080/",
     "height": 300
    },
    "colab_type": "code",
    "executionInfo": {
     "elapsed": 9246,
     "status": "ok",
     "timestamp": 1593758200013,
     "user": {
      "displayName": "Fathi Muhyi",
      "photoUrl": "https://lh3.googleusercontent.com/a-/AOh14GhChUnD9lp0uYHDjzFDqClMEcljUKZtuV7ArMBsmA=s64",
      "userId": "15936908794749616962"
     },
     "user_tz": -420
    },
    "id": "Ejmfbhkd-Kma",
    "outputId": "734f39d5-ff25-4753-cd25-9766a161dde5"
   },
   "outputs": [
    {
     "data": {
      "text/plain": [
       "Text(0, 0.5, 'Frequency')"
      ]
     },
     "execution_count": 14,
     "metadata": {},
     "output_type": "execute_result"
    },
    {
     "data": {
      "image/png": "[encoded data removed]",
      "text/plain": [
       "<Figure size 432x288 with 1 Axes>"
      ]
     },
     "metadata": {
      "needs_background": "light"
     },
     "output_type": "display_data"
    }
   ],
   "source": [
    "sns.distplot(transportdf[transportdf['Transportation'] == 'Walking']['Study Hour'], color = 'red', label = 'Walking')\n",
    "sns.distplot(transportdf[transportdf['Transportation'] == 'Public']['Study Hour'], color = 'green', label = 'Public')\n",
    "sns.distplot(transportdf[transportdf['Transportation'] == 'Private']['Study Hour'], color = 'blue', label = 'Private')\n",
    "plt.legend()\n",
    "plt.ylabel('Frequency')"
   ]
  },
  {
   "cell_type": "code",
   "execution_count": 15,
   "metadata": {
    "colab": {
     "base_uri": "https://localhost:8080/",
     "height": 297
    },
    "colab_type": "code",
    "executionInfo": {
     "elapsed": 9238,
     "status": "ok",
     "timestamp": 1593758200015,
     "user": {
      "displayName": "Fathi Muhyi",
      "photoUrl": "https://lh3.googleusercontent.com/a-/AOh14GhChUnD9lp0uYHDjzFDqClMEcljUKZtuV7ArMBsmA=s64",
      "userId": "15936908794749616962"
     },
     "user_tz": -420
    },
    "id": "tbHx-0X3-Kmb",
    "outputId": "73348f95-bcbd-4542-c7e0-4068bdbd0d11"
   },
   "outputs": [
    {
     "data": {
      "text/plain": [
       "<matplotlib.axes._subplots.AxesSubplot at 0x3f6e4c0>"
      ]
     },
     "execution_count": 15,
     "metadata": {},
     "output_type": "execute_result"
    },
    {
     "data": {
      "image/png": "[encoded data removed]",
      "text/plain": [
       "<Figure size 432x288 with 1 Axes>"
      ]
     },
     "metadata": {
      "needs_background": "light"
     },
     "output_type": "display_data"
    }
   ],
   "source": [
    "sns.set_palette(['red','green','blue'])\n",
    "sns.boxplot(x = 'Transportation', y = 'Study Hour', data = transportdf)"
   ]
  },
  {
   "cell_type": "code",
   "execution_count": 16,
   "metadata": {
    "ExecuteTime": {
     "end_time": "2019-08-21T06:45:38.026509Z",
     "start_time": "2019-08-21T06:45:38.019537Z"
    },
    "colab": {
     "base_uri": "https://localhost:8080/",
     "height": 70
    },
    "colab_type": "code",
    "executionInfo": {
     "elapsed": 9228,
     "status": "ok",
     "timestamp": 1593758200016,
     "user": {
      "displayName": "Fathi Muhyi",
      "photoUrl": "https://lh3.googleusercontent.com/a-/AOh14GhChUnD9lp0uYHDjzFDqClMEcljUKZtuV7ArMBsmA=s64",
      "userId": "15936908794749616962"
     },
     "user_tz": -420
    },
    "id": "7MlO4p4r-Kmc",
    "outputId": "76b72bc0-8062-459d-ff21-79b5912929e8"
   },
   "outputs": [
    {
     "name": "stdout",
     "output_type": "stream",
     "text": [
      "Mean of Study Hour Group Walking: 4.4\n",
      "Mean of Study Hour Group Public: 5.8\n",
      "Mean of Study Hour Group Private: 5.5\n"
     ]
    }
   ],
   "source": [
    "for i in transportdf['Transportation'].unique():\n",
    "    print('Mean of Study Hour Group {}: {}'.format(i,transportdf[transportdf['Transportation'] == i]['Study Hour'].mean()))"
   ]
  },
  {
   "cell_type": "code",
   "execution_count": 17,
   "metadata": {
    "ExecuteTime": {
     "end_time": "2019-08-21T06:45:17.743977Z",
     "start_time": "2019-08-21T06:45:17.739990Z"
    },
    "colab": {
     "base_uri": "https://localhost:8080/",
     "height": 35
    },
    "colab_type": "code",
    "executionInfo": {
     "elapsed": 10082,
     "status": "ok",
     "timestamp": 1593758200880,
     "user": {
      "displayName": "Fathi Muhyi",
      "photoUrl": "https://lh3.googleusercontent.com/a-/AOh14GhChUnD9lp0uYHDjzFDqClMEcljUKZtuV7ArMBsmA=s64",
      "userId": "15936908794749616962"
     },
     "user_tz": -420
    },
    "id": "KZOw-ZYH-Kme",
    "outputId": "9079a477-720d-4c5d-bc2b-1375f9e9d9ea"
   },
   "outputs": [
    {
     "name": "stdout",
     "output_type": "stream",
     "text": [
      "Total Study Hour Mean:  5.233333333333333\n"
     ]
    }
   ],
   "source": [
    "print('Total Study Hour Mean: ', transportdf['Study Hour'].mean())"
   ]
  },
  {
   "cell_type": "code",
   "execution_count": 18,
   "metadata": {
    "ExecuteTime": {
     "end_time": "2019-08-21T06:49:43.333809Z",
     "start_time": "2019-08-21T06:49:43.310869Z"
    },
    "colab": {},
    "colab_type": "code",
    "id": "sZbCdvIC-Kmf"
   },
   "outputs": [],
   "source": [
    "from math import pow\n",
    "total = 0\n",
    "for i, j in zip(transportdf['Transportation'], transportdf['Study Hour']):\n",
    "    total += (pow(((transportdf[transportdf['Transportation'] == i]['Study Hour'].mean()) - j), 2))"
   ]
  },
  {
   "cell_type": "code",
   "execution_count": 19,
   "metadata": {
    "ExecuteTime": {
     "end_time": "2019-08-21T06:51:39.427883Z",
     "start_time": "2019-08-21T06:51:39.422900Z"
    },
    "colab": {
     "base_uri": "https://localhost:8080/",
     "height": 35
    },
    "colab_type": "code",
    "executionInfo": {
     "elapsed": 10075,
     "status": "ok",
     "timestamp": 1593758200887,
     "user": {
      "displayName": "Fathi Muhyi",
      "photoUrl": "https://lh3.googleusercontent.com/a-/AOh14GhChUnD9lp0uYHDjzFDqClMEcljUKZtuV7ArMBsmA=s64",
      "userId": "15936908794749616962"
     },
     "user_tz": -420
    },
    "id": "rPqQ1rx8-Kmh",
    "outputId": "a499f2c7-edea-4822-932b-81cfd22f2a65"
   },
   "outputs": [
    {
     "name": "stdout",
     "output_type": "stream",
     "text": [
      "MSwithin:  30.500000000000004\n"
     ]
    }
   ],
   "source": [
    "print('MSwithin: ',total)"
   ]
  },
  {
   "cell_type": "code",
   "execution_count": 20,
   "metadata": {
    "ExecuteTime": {
     "end_time": "2019-08-21T06:58:46.375385Z",
     "start_time": "2019-08-21T06:58:46.366443Z"
    },
    "colab": {
     "base_uri": "https://localhost:8080/",
     "height": 35
    },
    "colab_type": "code",
    "executionInfo": {
     "elapsed": 10067,
     "status": "ok",
     "timestamp": 1593758200889,
     "user": {
      "displayName": "Fathi Muhyi",
      "photoUrl": "https://lh3.googleusercontent.com/a-/AOh14GhChUnD9lp0uYHDjzFDqClMEcljUKZtuV7ArMBsmA=s64",
      "userId": "15936908794749616962"
     },
     "user_tz": -420
    },
    "id": "AjAbU1yw-Kmi",
    "outputId": "e2d49c56-d30a-4ffb-82f4-d82824ab7519"
   },
   "outputs": [
    {
     "data": {
      "text/plain": [
       "F_onewayResult(statistic=4.809836065573772, pvalue=0.0163405142361861)"
      ]
     },
     "execution_count": 20,
     "metadata": {},
     "output_type": "execute_result"
    }
   ],
   "source": [
    "#Importing One-Way ANOVA from Scipy. One-Way ANOVA is called F one-way as well because the test follow the F- Distribution\n",
    "from scipy.stats import f_oneway\n",
    "f_oneway(transportdf[transportdf['Transportation'] == 'Walking']['Study Hour'], \n",
    "        transportdf[transportdf['Transportation'] == 'Public']['Study Hour'],\n",
    "        transportdf[transportdf['Transportation'] == 'Private']['Study Hour'])"
   ]
  },
  {
   "cell_type": "markdown",
   "metadata": {
    "colab_type": "text",
    "id": "u3h6pX9G-Kml"
   },
   "source": [
    "The P-value is lower than our significant level 0.05, it means wehave enough evidence to reject the Null Hypothesis. So,at least one pair of the population are not equal"
   ]
  },
  {
   "cell_type": "markdown",
   "metadata": {
    "colab_type": "text",
    "id": "LrYNS9le1EXi"
   },
   "source": [
    "## Manual Calculation one way Anova"
   ]
  },
  {
   "cell_type": "code",
   "execution_count": 21,
   "metadata": {
    "ExecuteTime": {
     "end_time": "2019-08-21T03:33:42.963397Z",
     "start_time": "2019-08-21T03:33:42.959438Z"
    },
    "colab": {},
    "colab_type": "code",
    "id": "OfXIEvGu6DfS"
   },
   "outputs": [],
   "source": [
    "transport = []\n",
    "method = ['Walking ', 'Public ', 'Private ']\n",
    "for i in method:\n",
    "    transport.extend((i*10).split())"
   ]
  },
  {
   "cell_type": "code",
   "execution_count": 22,
   "metadata": {
    "ExecuteTime": {
     "end_time": "2019-08-21T03:43:05.346483Z",
     "start_time": "2019-08-21T03:43:05.336513Z"
    },
    "colab": {
     "base_uri": "https://localhost:8080/",
     "height": 194
    },
    "colab_type": "code",
    "executionInfo": {
     "elapsed": 12363,
     "status": "ok",
     "timestamp": 1593758203518,
     "user": {
      "displayName": "Fathi Muhyi",
      "photoUrl": "https://lh3.googleusercontent.com/a-/AOh14GhChUnD9lp0uYHDjzFDqClMEcljUKZtuV7ArMBsmA=s64",
      "userId": "15936908794749616962"
     },
     "user_tz": -420
    },
    "id": "OgrpwqTo6DfU",
    "outputId": "6260d060-80b8-42e5-a5a5-03a1ae493713"
   },
   "outputs": [
    {
     "data": {
      "text/html": [
       "<div>\n",
       "<style scoped>\n",
       "    .dataframe tbody tr th:only-of-type {\n",
       "        vertical-align: middle;\n",
       "    }\n",
       "\n",
       "    .dataframe tbody tr th {\n",
       "        vertical-align: top;\n",
       "    }\n",
       "\n",
       "    .dataframe thead th {\n",
       "        text-align: right;\n",
       "    }\n",
       "</style>\n",
       "<table border=\"1\" class=\"dataframe\">\n",
       "  <thead>\n",
       "    <tr style=\"text-align: right;\">\n",
       "      <th></th>\n",
       "      <th>Transportation</th>\n",
       "      <th>Study Hour</th>\n",
       "    </tr>\n",
       "  </thead>\n",
       "  <tbody>\n",
       "    <tr>\n",
       "      <th>26</th>\n",
       "      <td>Private</td>\n",
       "      <td>5</td>\n",
       "    </tr>\n",
       "    <tr>\n",
       "      <th>6</th>\n",
       "      <td>Walking</td>\n",
       "      <td>2</td>\n",
       "    </tr>\n",
       "    <tr>\n",
       "      <th>18</th>\n",
       "      <td>Public</td>\n",
       "      <td>6</td>\n",
       "    </tr>\n",
       "    <tr>\n",
       "      <th>19</th>\n",
       "      <td>Public</td>\n",
       "      <td>7</td>\n",
       "    </tr>\n",
       "    <tr>\n",
       "      <th>21</th>\n",
       "      <td>Private</td>\n",
       "      <td>4</td>\n",
       "    </tr>\n",
       "  </tbody>\n",
       "</table>\n",
       "</div>"
      ],
      "text/plain": [
       "   Transportation  Study Hour\n",
       "26        Private           5\n",
       "6         Walking           2\n",
       "18         Public           6\n",
       "19         Public           7\n",
       "21        Private           4"
      ]
     },
     "execution_count": 22,
     "metadata": {},
     "output_type": "execute_result"
    }
   ],
   "source": [
    "transportdf = pd.concat([pd.Series(transport, name = 'Transportation'), \n",
    "                     pd.Series([5,4,5,6,5,3,2,4,5,5,7,7,5,6,4,6,5,5,6,7,5,4,5,6,6,5,5,5,7,7], name = 'Study Hour')], axis =1)\n",
    "transportdf.sample(5)"
   ]
  },
  {
   "cell_type": "code",
   "execution_count": 23,
   "metadata": {
    "colab": {
     "base_uri": "https://localhost:8080/",
     "height": 927
    },
    "colab_type": "code",
    "executionInfo": {
     "elapsed": 12349,
     "status": "ok",
     "timestamp": 1593758203519,
     "user": {
      "displayName": "Fathi Muhyi",
      "photoUrl": "https://lh3.googleusercontent.com/a-/AOh14GhChUnD9lp0uYHDjzFDqClMEcljUKZtuV7ArMBsmA=s64",
      "userId": "15936908794749616962"
     },
     "user_tz": -420
    },
    "id": "YQyp5uCk6Hto",
    "outputId": "f1ae0e5e-e236-488f-8a82-15e73cf91a5f"
   },
   "outputs": [
    {
     "data": {
      "text/html": [
       "<div>\n",
       "<style scoped>\n",
       "    .dataframe tbody tr th:only-of-type {\n",
       "        vertical-align: middle;\n",
       "    }\n",
       "\n",
       "    .dataframe tbody tr th {\n",
       "        vertical-align: top;\n",
       "    }\n",
       "\n",
       "    .dataframe thead th {\n",
       "        text-align: right;\n",
       "    }\n",
       "</style>\n",
       "<table border=\"1\" class=\"dataframe\">\n",
       "  <thead>\n",
       "    <tr style=\"text-align: right;\">\n",
       "      <th></th>\n",
       "      <th>Transportation</th>\n",
       "      <th>Study Hour</th>\n",
       "    </tr>\n",
       "  </thead>\n",
       "  <tbody>\n",
       "    <tr>\n",
       "      <th>0</th>\n",
       "      <td>Walking</td>\n",
       "      <td>5</td>\n",
       "    </tr>\n",
       "    <tr>\n",
       "      <th>1</th>\n",
       "      <td>Walking</td>\n",
       "      <td>4</td>\n",
       "    </tr>\n",
       "    <tr>\n",
       "      <th>2</th>\n",
       "      <td>Walking</td>\n",
       "      <td>5</td>\n",
       "    </tr>\n",
       "    <tr>\n",
       "      <th>3</th>\n",
       "      <td>Walking</td>\n",
       "      <td>6</td>\n",
       "    </tr>\n",
       "    <tr>\n",
       "      <th>4</th>\n",
       "      <td>Walking</td>\n",
       "      <td>5</td>\n",
       "    </tr>\n",
       "    <tr>\n",
       "      <th>5</th>\n",
       "      <td>Walking</td>\n",
       "      <td>3</td>\n",
       "    </tr>\n",
       "    <tr>\n",
       "      <th>6</th>\n",
       "      <td>Walking</td>\n",
       "      <td>2</td>\n",
       "    </tr>\n",
       "    <tr>\n",
       "      <th>7</th>\n",
       "      <td>Walking</td>\n",
       "      <td>4</td>\n",
       "    </tr>\n",
       "    <tr>\n",
       "      <th>8</th>\n",
       "      <td>Walking</td>\n",
       "      <td>5</td>\n",
       "    </tr>\n",
       "    <tr>\n",
       "      <th>9</th>\n",
       "      <td>Walking</td>\n",
       "      <td>5</td>\n",
       "    </tr>\n",
       "    <tr>\n",
       "      <th>10</th>\n",
       "      <td>Public</td>\n",
       "      <td>7</td>\n",
       "    </tr>\n",
       "    <tr>\n",
       "      <th>11</th>\n",
       "      <td>Public</td>\n",
       "      <td>7</td>\n",
       "    </tr>\n",
       "    <tr>\n",
       "      <th>12</th>\n",
       "      <td>Public</td>\n",
       "      <td>5</td>\n",
       "    </tr>\n",
       "    <tr>\n",
       "      <th>13</th>\n",
       "      <td>Public</td>\n",
       "      <td>6</td>\n",
       "    </tr>\n",
       "    <tr>\n",
       "      <th>14</th>\n",
       "      <td>Public</td>\n",
       "      <td>4</td>\n",
       "    </tr>\n",
       "    <tr>\n",
       "      <th>15</th>\n",
       "      <td>Public</td>\n",
       "      <td>6</td>\n",
       "    </tr>\n",
       "    <tr>\n",
       "      <th>16</th>\n",
       "      <td>Public</td>\n",
       "      <td>5</td>\n",
       "    </tr>\n",
       "    <tr>\n",
       "      <th>17</th>\n",
       "      <td>Public</td>\n",
       "      <td>5</td>\n",
       "    </tr>\n",
       "    <tr>\n",
       "      <th>18</th>\n",
       "      <td>Public</td>\n",
       "      <td>6</td>\n",
       "    </tr>\n",
       "    <tr>\n",
       "      <th>19</th>\n",
       "      <td>Public</td>\n",
       "      <td>7</td>\n",
       "    </tr>\n",
       "    <tr>\n",
       "      <th>20</th>\n",
       "      <td>Private</td>\n",
       "      <td>5</td>\n",
       "    </tr>\n",
       "    <tr>\n",
       "      <th>21</th>\n",
       "      <td>Private</td>\n",
       "      <td>4</td>\n",
       "    </tr>\n",
       "    <tr>\n",
       "      <th>22</th>\n",
       "      <td>Private</td>\n",
       "      <td>5</td>\n",
       "    </tr>\n",
       "    <tr>\n",
       "      <th>23</th>\n",
       "      <td>Private</td>\n",
       "      <td>6</td>\n",
       "    </tr>\n",
       "    <tr>\n",
       "      <th>24</th>\n",
       "      <td>Private</td>\n",
       "      <td>6</td>\n",
       "    </tr>\n",
       "    <tr>\n",
       "      <th>25</th>\n",
       "      <td>Private</td>\n",
       "      <td>5</td>\n",
       "    </tr>\n",
       "    <tr>\n",
       "      <th>26</th>\n",
       "      <td>Private</td>\n",
       "      <td>5</td>\n",
       "    </tr>\n",
       "    <tr>\n",
       "      <th>27</th>\n",
       "      <td>Private</td>\n",
       "      <td>5</td>\n",
       "    </tr>\n",
       "    <tr>\n",
       "      <th>28</th>\n",
       "      <td>Private</td>\n",
       "      <td>7</td>\n",
       "    </tr>\n",
       "    <tr>\n",
       "      <th>29</th>\n",
       "      <td>Private</td>\n",
       "      <td>7</td>\n",
       "    </tr>\n",
       "  </tbody>\n",
       "</table>\n",
       "</div>"
      ],
      "text/plain": [
       "   Transportation  Study Hour\n",
       "0         Walking           5\n",
       "1         Walking           4\n",
       "2         Walking           5\n",
       "3         Walking           6\n",
       "4         Walking           5\n",
       "5         Walking           3\n",
       "6         Walking           2\n",
       "7         Walking           4\n",
       "8         Walking           5\n",
       "9         Walking           5\n",
       "10         Public           7\n",
       "11         Public           7\n",
       "12         Public           5\n",
       "13         Public           6\n",
       "14         Public           4\n",
       "15         Public           6\n",
       "16         Public           5\n",
       "17         Public           5\n",
       "18         Public           6\n",
       "19         Public           7\n",
       "20        Private           5\n",
       "21        Private           4\n",
       "22        Private           5\n",
       "23        Private           6\n",
       "24        Private           6\n",
       "25        Private           5\n",
       "26        Private           5\n",
       "27        Private           5\n",
       "28        Private           7\n",
       "29        Private           7"
      ]
     },
     "execution_count": 23,
     "metadata": {},
     "output_type": "execute_result"
    }
   ],
   "source": [
    "transportdf"
   ]
  },
  {
   "cell_type": "code",
   "execution_count": 24,
   "metadata": {
    "colab": {
     "base_uri": "https://localhost:8080/",
     "height": 164
    },
    "colab_type": "code",
    "executionInfo": {
     "elapsed": 12333,
     "status": "ok",
     "timestamp": 1593758203520,
     "user": {
      "displayName": "Fathi Muhyi",
      "photoUrl": "https://lh3.googleusercontent.com/a-/AOh14GhChUnD9lp0uYHDjzFDqClMEcljUKZtuV7ArMBsmA=s64",
      "userId": "15936908794749616962"
     },
     "user_tz": -420
    },
    "id": "uUIAQIZh6Hws",
    "outputId": "5b0b0c71-534d-4caf-d589-5417955e531a"
   },
   "outputs": [
    {
     "data": {
      "text/html": [
       "<div>\n",
       "<style scoped>\n",
       "    .dataframe tbody tr th:only-of-type {\n",
       "        vertical-align: middle;\n",
       "    }\n",
       "\n",
       "    .dataframe tbody tr th {\n",
       "        vertical-align: top;\n",
       "    }\n",
       "\n",
       "    .dataframe thead th {\n",
       "        text-align: right;\n",
       "    }\n",
       "</style>\n",
       "<table border=\"1\" class=\"dataframe\">\n",
       "  <thead>\n",
       "    <tr style=\"text-align: right;\">\n",
       "      <th></th>\n",
       "      <th>Study Hour</th>\n",
       "    </tr>\n",
       "    <tr>\n",
       "      <th>Transportation</th>\n",
       "      <th></th>\n",
       "    </tr>\n",
       "  </thead>\n",
       "  <tbody>\n",
       "    <tr>\n",
       "      <th>Private</th>\n",
       "      <td>5.5</td>\n",
       "    </tr>\n",
       "    <tr>\n",
       "      <th>Public</th>\n",
       "      <td>5.8</td>\n",
       "    </tr>\n",
       "    <tr>\n",
       "      <th>Walking</th>\n",
       "      <td>4.4</td>\n",
       "    </tr>\n",
       "  </tbody>\n",
       "</table>\n",
       "</div>"
      ],
      "text/plain": [
       "                Study Hour\n",
       "Transportation            \n",
       "Private                5.5\n",
       "Public                 5.8\n",
       "Walking                4.4"
      ]
     },
     "execution_count": 24,
     "metadata": {},
     "output_type": "execute_result"
    }
   ],
   "source": [
    "transportdf.pivot_table(index = 'Transportation', aggfunc='mean')"
   ]
  },
  {
   "cell_type": "code",
   "execution_count": 25,
   "metadata": {
    "colab": {
     "base_uri": "https://localhost:8080/",
     "height": 35
    },
    "colab_type": "code",
    "executionInfo": {
     "elapsed": 12316,
     "status": "ok",
     "timestamp": 1593758203520,
     "user": {
      "displayName": "Fathi Muhyi",
      "photoUrl": "https://lh3.googleusercontent.com/a-/AOh14GhChUnD9lp0uYHDjzFDqClMEcljUKZtuV7ArMBsmA=s64",
      "userId": "15936908794749616962"
     },
     "user_tz": -420
    },
    "id": "H1o6OkHEXJKX",
    "outputId": "6fe66373-b603-4274-ac27-76d1d744827c"
   },
   "outputs": [
    {
     "data": {
      "text/plain": [
       "5.233333333333333"
      ]
     },
     "execution_count": 25,
     "metadata": {},
     "output_type": "execute_result"
    }
   ],
   "source": [
    "transportdf['Study Hour'].mean()"
   ]
  },
  {
   "cell_type": "code",
   "execution_count": 26,
   "metadata": {
    "colab": {
     "base_uri": "https://localhost:8080/",
     "height": 88
    },
    "colab_type": "code",
    "executionInfo": {
     "elapsed": 12301,
     "status": "ok",
     "timestamp": 1593758203521,
     "user": {
      "displayName": "Fathi Muhyi",
      "photoUrl": "https://lh3.googleusercontent.com/a-/AOh14GhChUnD9lp0uYHDjzFDqClMEcljUKZtuV7ArMBsmA=s64",
      "userId": "15936908794749616962"
     },
     "user_tz": -420
    },
    "id": "A4s0CxULV3qb",
    "outputId": "dfc2540a-036c-445e-a5e6-d0654ecaf877"
   },
   "outputs": [
    {
     "data": {
      "text/plain": [
       "Public     10\n",
       "Private    10\n",
       "Walking    10\n",
       "Name: Transportation, dtype: int64"
      ]
     },
     "execution_count": 26,
     "metadata": {},
     "output_type": "execute_result"
    }
   ],
   "source": [
    "transportdf['Transportation'].value_counts()"
   ]
  },
  {
   "cell_type": "markdown",
   "metadata": {
    "colab_type": "text",
    "id": "SbyIeXg88jni"
   },
   "source": [
    "### MSBeetween"
   ]
  },
  {
   "cell_type": "markdown",
   "metadata": {
    "colab_type": "text",
    "id": "8KMvJUvaT8Ii"
   },
   "source": [
    "\\begin{align}\n",
    "SS_{between} = \\sum_{j=1}^{k} n_j (\\bar{x}_{.j}-\\bar{x})^2 = n_1 (\\bar{x}_{.1}-\\bar{x})^2 + n_2 (\\bar{x}_{.2}-\\bar{x})^2 + n_3 (\\bar{x}_{.3}-\\bar{x})^2 \n",
    "\\end{align}"
   ]
  },
  {
   "cell_type": "markdown",
   "metadata": {
    "colab_type": "text",
    "id": "3ScbK-Ikaixj"
   },
   "source": [
    "\\begin{align}\n",
    "MS_{between} = \\frac{SS_{between}} {k-1}\n",
    "\\end{align}"
   ]
  },
  {
   "cell_type": "markdown",
   "metadata": {
    "colab_type": "text",
    "id": "AhByZ0q-WNiQ"
   },
   "source": [
    "\\begin{gather*}\n",
    "n_1, n_2, n_3 = 10 \\\\\n",
    "\\bar{x}_{.1}, \\bar{x}_{.2}, \\bar{x}_{.3} = 5.4, 5.8, 4.4 \\\\\n",
    "\\bar{x} = 5.2333333.. \\\\\n",
    "k =3 \n",
    "\\end{gather*}\n"
   ]
  },
  {
   "cell_type": "markdown",
   "metadata": {
    "colab_type": "text",
    "id": "jEoC6s_hXYZA"
   },
   "source": [
    "\\begin{equation}\n",
    "\\begin{split}\n",
    "SS_{between} & = 10 (5.4-5.23333)^2 + 10 (5.8-5.23333)^2 + 10 (4.4-5.23333)^2 \\\\\n",
    "             & = 6.889 + 3.249 + 0.729 \\\\\n",
    "             & = 10.876\n",
    "\\end{split}\n",
    "\\end{equation}"
   ]
  },
  {
   "cell_type": "markdown",
   "metadata": {
    "colab_type": "text",
    "id": "uKRBROSXaWmG"
   },
   "source": [
    "\\begin{align}\n",
    "MS_{between} = \\frac{10.876} {2} = 5.4335\n",
    "\\end{align}"
   ]
  },
  {
   "cell_type": "code",
   "execution_count": 27,
   "metadata": {
    "colab": {},
    "colab_type": "code",
    "id": "3sfQ1fiMU6s4"
   },
   "outputs": [],
   "source": [
    "x_1 = transportdf[transportdf['Transportation']=='Public']['Study Hour'].mean()\n",
    "x_2 = transportdf[transportdf['Transportation']=='Private']['Study Hour'].mean()\n",
    "x_3 = transportdf[transportdf['Transportation']=='Walking']['Study Hour'].mean()\n",
    "n1,n2,n3 = 10,10,10\n",
    "x_bar = transportdf['Study Hour'].mean()\n",
    "k = 3"
   ]
  },
  {
   "cell_type": "code",
   "execution_count": 28,
   "metadata": {
    "colab": {},
    "colab_type": "code",
    "id": "9SPU5tUtaseE"
   },
   "outputs": [],
   "source": [
    "SS_between = n1*(x_1-x_bar)**2 + n2*(x_2-x_bar)**2 + n3*(x_3-x_bar)**2"
   ]
  },
  {
   "cell_type": "code",
   "execution_count": 29,
   "metadata": {
    "colab": {},
    "colab_type": "code",
    "id": "SfgpHNGUU60b"
   },
   "outputs": [],
   "source": [
    "MS_between = SS_between/(k-1)"
   ]
  },
  {
   "cell_type": "code",
   "execution_count": 30,
   "metadata": {
    "colab": {
     "base_uri": "https://localhost:8080/",
     "height": 35
    },
    "colab_type": "code",
    "executionInfo": {
     "elapsed": 12280,
     "status": "ok",
     "timestamp": 1593758203524,
     "user": {
      "displayName": "Fathi Muhyi",
      "photoUrl": "https://lh3.googleusercontent.com/a-/AOh14GhChUnD9lp0uYHDjzFDqClMEcljUKZtuV7ArMBsmA=s64",
      "userId": "15936908794749616962"
     },
     "user_tz": -420
    },
    "id": "2iqPfAZ-bt5l",
    "outputId": "52d43d46-a107-44bd-b365-daf0f9ffc03d"
   },
   "outputs": [
    {
     "data": {
      "text/plain": [
       "5.433333333333329"
      ]
     },
     "execution_count": 30,
     "metadata": {},
     "output_type": "execute_result"
    }
   ],
   "source": [
    "MS_between"
   ]
  },
  {
   "cell_type": "markdown",
   "metadata": {
    "colab_type": "text",
    "id": "AKO5NsPV8mJ7"
   },
   "source": [
    "### MSWithin"
   ]
  },
  {
   "cell_type": "code",
   "execution_count": 31,
   "metadata": {
    "colab": {
     "base_uri": "https://localhost:8080/",
     "height": 927
    },
    "colab_type": "code",
    "executionInfo": {
     "elapsed": 12264,
     "status": "ok",
     "timestamp": 1593758203524,
     "user": {
      "displayName": "Fathi Muhyi",
      "photoUrl": "https://lh3.googleusercontent.com/a-/AOh14GhChUnD9lp0uYHDjzFDqClMEcljUKZtuV7ArMBsmA=s64",
      "userId": "15936908794749616962"
     },
     "user_tz": -420
    },
    "id": "I_bDEVzney7-",
    "outputId": "575b95a9-b0d4-40f0-fbd3-84d7dd33c3ef"
   },
   "outputs": [
    {
     "data": {
      "text/html": [
       "<div>\n",
       "<style scoped>\n",
       "    .dataframe tbody tr th:only-of-type {\n",
       "        vertical-align: middle;\n",
       "    }\n",
       "\n",
       "    .dataframe tbody tr th {\n",
       "        vertical-align: top;\n",
       "    }\n",
       "\n",
       "    .dataframe thead th {\n",
       "        text-align: right;\n",
       "    }\n",
       "</style>\n",
       "<table border=\"1\" class=\"dataframe\">\n",
       "  <thead>\n",
       "    <tr style=\"text-align: right;\">\n",
       "      <th></th>\n",
       "      <th>Transportation</th>\n",
       "      <th>Study Hour</th>\n",
       "    </tr>\n",
       "  </thead>\n",
       "  <tbody>\n",
       "    <tr>\n",
       "      <th>0</th>\n",
       "      <td>Walking</td>\n",
       "      <td>5</td>\n",
       "    </tr>\n",
       "    <tr>\n",
       "      <th>1</th>\n",
       "      <td>Walking</td>\n",
       "      <td>4</td>\n",
       "    </tr>\n",
       "    <tr>\n",
       "      <th>2</th>\n",
       "      <td>Walking</td>\n",
       "      <td>5</td>\n",
       "    </tr>\n",
       "    <tr>\n",
       "      <th>3</th>\n",
       "      <td>Walking</td>\n",
       "      <td>6</td>\n",
       "    </tr>\n",
       "    <tr>\n",
       "      <th>4</th>\n",
       "      <td>Walking</td>\n",
       "      <td>5</td>\n",
       "    </tr>\n",
       "    <tr>\n",
       "      <th>5</th>\n",
       "      <td>Walking</td>\n",
       "      <td>3</td>\n",
       "    </tr>\n",
       "    <tr>\n",
       "      <th>6</th>\n",
       "      <td>Walking</td>\n",
       "      <td>2</td>\n",
       "    </tr>\n",
       "    <tr>\n",
       "      <th>7</th>\n",
       "      <td>Walking</td>\n",
       "      <td>4</td>\n",
       "    </tr>\n",
       "    <tr>\n",
       "      <th>8</th>\n",
       "      <td>Walking</td>\n",
       "      <td>5</td>\n",
       "    </tr>\n",
       "    <tr>\n",
       "      <th>9</th>\n",
       "      <td>Walking</td>\n",
       "      <td>5</td>\n",
       "    </tr>\n",
       "    <tr>\n",
       "      <th>10</th>\n",
       "      <td>Public</td>\n",
       "      <td>7</td>\n",
       "    </tr>\n",
       "    <tr>\n",
       "      <th>11</th>\n",
       "      <td>Public</td>\n",
       "      <td>7</td>\n",
       "    </tr>\n",
       "    <tr>\n",
       "      <th>12</th>\n",
       "      <td>Public</td>\n",
       "      <td>5</td>\n",
       "    </tr>\n",
       "    <tr>\n",
       "      <th>13</th>\n",
       "      <td>Public</td>\n",
       "      <td>6</td>\n",
       "    </tr>\n",
       "    <tr>\n",
       "      <th>14</th>\n",
       "      <td>Public</td>\n",
       "      <td>4</td>\n",
       "    </tr>\n",
       "    <tr>\n",
       "      <th>15</th>\n",
       "      <td>Public</td>\n",
       "      <td>6</td>\n",
       "    </tr>\n",
       "    <tr>\n",
       "      <th>16</th>\n",
       "      <td>Public</td>\n",
       "      <td>5</td>\n",
       "    </tr>\n",
       "    <tr>\n",
       "      <th>17</th>\n",
       "      <td>Public</td>\n",
       "      <td>5</td>\n",
       "    </tr>\n",
       "    <tr>\n",
       "      <th>18</th>\n",
       "      <td>Public</td>\n",
       "      <td>6</td>\n",
       "    </tr>\n",
       "    <tr>\n",
       "      <th>19</th>\n",
       "      <td>Public</td>\n",
       "      <td>7</td>\n",
       "    </tr>\n",
       "    <tr>\n",
       "      <th>20</th>\n",
       "      <td>Private</td>\n",
       "      <td>5</td>\n",
       "    </tr>\n",
       "    <tr>\n",
       "      <th>21</th>\n",
       "      <td>Private</td>\n",
       "      <td>4</td>\n",
       "    </tr>\n",
       "    <tr>\n",
       "      <th>22</th>\n",
       "      <td>Private</td>\n",
       "      <td>5</td>\n",
       "    </tr>\n",
       "    <tr>\n",
       "      <th>23</th>\n",
       "      <td>Private</td>\n",
       "      <td>6</td>\n",
       "    </tr>\n",
       "    <tr>\n",
       "      <th>24</th>\n",
       "      <td>Private</td>\n",
       "      <td>6</td>\n",
       "    </tr>\n",
       "    <tr>\n",
       "      <th>25</th>\n",
       "      <td>Private</td>\n",
       "      <td>5</td>\n",
       "    </tr>\n",
       "    <tr>\n",
       "      <th>26</th>\n",
       "      <td>Private</td>\n",
       "      <td>5</td>\n",
       "    </tr>\n",
       "    <tr>\n",
       "      <th>27</th>\n",
       "      <td>Private</td>\n",
       "      <td>5</td>\n",
       "    </tr>\n",
       "    <tr>\n",
       "      <th>28</th>\n",
       "      <td>Private</td>\n",
       "      <td>7</td>\n",
       "    </tr>\n",
       "    <tr>\n",
       "      <th>29</th>\n",
       "      <td>Private</td>\n",
       "      <td>7</td>\n",
       "    </tr>\n",
       "  </tbody>\n",
       "</table>\n",
       "</div>"
      ],
      "text/plain": [
       "   Transportation  Study Hour\n",
       "0         Walking           5\n",
       "1         Walking           4\n",
       "2         Walking           5\n",
       "3         Walking           6\n",
       "4         Walking           5\n",
       "5         Walking           3\n",
       "6         Walking           2\n",
       "7         Walking           4\n",
       "8         Walking           5\n",
       "9         Walking           5\n",
       "10         Public           7\n",
       "11         Public           7\n",
       "12         Public           5\n",
       "13         Public           6\n",
       "14         Public           4\n",
       "15         Public           6\n",
       "16         Public           5\n",
       "17         Public           5\n",
       "18         Public           6\n",
       "19         Public           7\n",
       "20        Private           5\n",
       "21        Private           4\n",
       "22        Private           5\n",
       "23        Private           6\n",
       "24        Private           6\n",
       "25        Private           5\n",
       "26        Private           5\n",
       "27        Private           5\n",
       "28        Private           7\n",
       "29        Private           7"
      ]
     },
     "execution_count": 31,
     "metadata": {},
     "output_type": "execute_result"
    }
   ],
   "source": [
    "transportdf"
   ]
  },
  {
   "cell_type": "code",
   "execution_count": 32,
   "metadata": {
    "colab": {
     "base_uri": "https://localhost:8080/",
     "height": 164
    },
    "colab_type": "code",
    "executionInfo": {
     "elapsed": 12249,
     "status": "ok",
     "timestamp": 1593758203525,
     "user": {
      "displayName": "Fathi Muhyi",
      "photoUrl": "https://lh3.googleusercontent.com/a-/AOh14GhChUnD9lp0uYHDjzFDqClMEcljUKZtuV7ArMBsmA=s64",
      "userId": "15936908794749616962"
     },
     "user_tz": -420
    },
    "id": "w-tWK1NVe3pW",
    "outputId": "01e5c891-8dac-455f-9444-a6a370a6d0d6"
   },
   "outputs": [
    {
     "data": {
      "text/html": [
       "<div>\n",
       "<style scoped>\n",
       "    .dataframe tbody tr th:only-of-type {\n",
       "        vertical-align: middle;\n",
       "    }\n",
       "\n",
       "    .dataframe tbody tr th {\n",
       "        vertical-align: top;\n",
       "    }\n",
       "\n",
       "    .dataframe thead th {\n",
       "        text-align: right;\n",
       "    }\n",
       "</style>\n",
       "<table border=\"1\" class=\"dataframe\">\n",
       "  <thead>\n",
       "    <tr style=\"text-align: right;\">\n",
       "      <th></th>\n",
       "      <th>Study Hour</th>\n",
       "    </tr>\n",
       "    <tr>\n",
       "      <th>Transportation</th>\n",
       "      <th></th>\n",
       "    </tr>\n",
       "  </thead>\n",
       "  <tbody>\n",
       "    <tr>\n",
       "      <th>Private</th>\n",
       "      <td>5.5</td>\n",
       "    </tr>\n",
       "    <tr>\n",
       "      <th>Public</th>\n",
       "      <td>5.8</td>\n",
       "    </tr>\n",
       "    <tr>\n",
       "      <th>Walking</th>\n",
       "      <td>4.4</td>\n",
       "    </tr>\n",
       "  </tbody>\n",
       "</table>\n",
       "</div>"
      ],
      "text/plain": [
       "                Study Hour\n",
       "Transportation            \n",
       "Private                5.5\n",
       "Public                 5.8\n",
       "Walking                4.4"
      ]
     },
     "execution_count": 32,
     "metadata": {},
     "output_type": "execute_result"
    }
   ],
   "source": [
    "transportdf.pivot_table(index = 'Transportation', aggfunc='mean')"
   ]
  },
  {
   "cell_type": "markdown",
   "metadata": {
    "colab_type": "text",
    "id": "2Vg6yIprciyv"
   },
   "source": [
    "\\begin{align}\n",
    "SS_{within} = \\sum_{i=1}^{n_1} (x_{i1}-\\bar{x}_{.1})^2 + \\sum_{i=1}^{n_2} (x_{i1}-\\bar{x}_{.2})^2 + \\sum_{i=1}^{n_3} (x_{i1}-\\bar{x}_{.3})^2\n",
    "\\end{align}"
   ]
  },
  {
   "cell_type": "markdown",
   "metadata": {
    "colab_type": "text",
    "id": "FijS0FFKdMlA"
   },
   "source": [
    "\\begin{align}\n",
    "MS_{within} = \\frac{SS_{within}}{((n_1-1) + (n_2-1) + (n_3-1))}\n",
    "\\end{align}"
   ]
  },
  {
   "cell_type": "markdown",
   "metadata": {
    "colab_type": "text",
    "id": "2_Dn26sGeAK8"
   },
   "source": [
    "\\begin{equation}\n",
    "\\begin{split}\n",
    "SS_{within} & =  (5-5.5)^2 + ... + (7-5.5)^2 + (7-5.8)^2 + ... + (7-5.8)^2 + (5-4.4)^2 + ... + (5-4.4)^2\\\\\n",
    "             & = 9.6 + 8.5 + 12.39 \\\\\n",
    "             & = 30.5\n",
    "\\end{split}\n",
    "\\end{equation}"
   ]
  },
  {
   "cell_type": "markdown",
   "metadata": {
    "colab_type": "text",
    "id": "EaW30fjdhPCo"
   },
   "source": [
    "\\begin{align}\n",
    "MS_{within} = \\frac{30.5}{27} = 1.1296\n",
    "\\end{align}"
   ]
  },
  {
   "cell_type": "code",
   "execution_count": 33,
   "metadata": {
    "colab": {
     "base_uri": "https://localhost:8080/",
     "height": 35
    },
    "colab_type": "code",
    "executionInfo": {
     "elapsed": 12232,
     "status": "ok",
     "timestamp": 1593758203526,
     "user": {
      "displayName": "Fathi Muhyi",
      "photoUrl": "https://lh3.googleusercontent.com/a-/AOh14GhChUnD9lp0uYHDjzFDqClMEcljUKZtuV7ArMBsmA=s64",
      "userId": "15936908794749616962"
     },
     "user_tz": -420
    },
    "id": "fU786C3M6H81",
    "outputId": "f2191915-fc8f-4bdd-8706-8ff3df9740b7"
   },
   "outputs": [
    {
     "data": {
      "text/plain": [
       "30.5"
      ]
     },
     "execution_count": 33,
     "metadata": {},
     "output_type": "execute_result"
    }
   ],
   "source": [
    "SS_within = sum([(i-transportdf[transportdf['Transportation']=='Public']['Study Hour'].mean())**2 for i in transportdf[transportdf['Transportation']=='Public']['Study Hour']]) + sum([(i-transportdf[transportdf['Transportation']=='Private']['Study Hour'].mean())**2 for i in transportdf[transportdf['Transportation']=='Private']['Study Hour']]) + sum([(i-transportdf[transportdf['Transportation']=='Walking']['Study Hour'].mean())**2 for i in transportdf[transportdf['Transportation']=='Walking']['Study Hour']])\n",
    "SS_within"
   ]
  },
  {
   "cell_type": "code",
   "execution_count": 34,
   "metadata": {
    "colab": {
     "base_uri": "https://localhost:8080/",
     "height": 35
    },
    "colab_type": "code",
    "executionInfo": {
     "elapsed": 12214,
     "status": "ok",
     "timestamp": 1593758203526,
     "user": {
      "displayName": "Fathi Muhyi",
      "photoUrl": "https://lh3.googleusercontent.com/a-/AOh14GhChUnD9lp0uYHDjzFDqClMEcljUKZtuV7ArMBsmA=s64",
      "userId": "15936908794749616962"
     },
     "user_tz": -420
    },
    "id": "Tes_7WQxhoSl",
    "outputId": "754e0072-0a03-4d03-dc1a-4f1351ad0685"
   },
   "outputs": [
    {
     "data": {
      "text/plain": [
       "1.1296296296296295"
      ]
     },
     "execution_count": 34,
     "metadata": {},
     "output_type": "execute_result"
    }
   ],
   "source": [
    "MS_within = SS_within/27\n",
    "MS_within"
   ]
  },
  {
   "cell_type": "markdown",
   "metadata": {
    "colab_type": "text",
    "id": "avzG156gby9L"
   },
   "source": [
    "### F Statistics"
   ]
  },
  {
   "cell_type": "markdown",
   "metadata": {
    "colab_type": "text",
    "id": "vHyusl4miKeI"
   },
   "source": [
    "\\begin{align}\n",
    "F_{stat} = \\frac {MS_{between}}{MS_{within}}\n",
    "\\end{align}"
   ]
  },
  {
   "cell_type": "code",
   "execution_count": 35,
   "metadata": {
    "colab": {
     "base_uri": "https://localhost:8080/"
    },
    "colab_type": "code",
    "executionInfo": {
     "elapsed": 12197,
     "status": "ok",
     "timestamp": 1593758203527,
     "user": {
      "displayName": "Fathi Muhyi",
      "photoUrl": "https://lh3.googleusercontent.com/a-/AOh14GhChUnD9lp0uYHDjzFDqClMEcljUKZtuV7ArMBsmA=s64",
      "userId": "15936908794749616962"
     },
     "user_tz": -420
    },
    "id": "9cgxWckoh6yD",
    "outputId": "9b49fcb1-6b00-4895-d1ec-6c6f98fd42f1"
   },
   "outputs": [
    {
     "data": {
      "text/plain": [
       "4.8098360655737675"
      ]
     },
     "execution_count": 35,
     "metadata": {},
     "output_type": "execute_result"
    }
   ],
   "source": [
    "F_stat = MS_between/MS_within\n",
    "F_stat"
   ]
  },
  {
   "cell_type": "markdown",
   "metadata": {
    "colab_type": "text",
    "id": "G86zzjznkiit"
   },
   "source": [
    "### Rejection Region"
   ]
  },
  {
   "cell_type": "markdown",
   "metadata": {
    "colab_type": "text",
    "id": "BunP6ALGkmO5"
   },
   "source": [
    "\\begin{align}\n",
    "F_{stat} > F_{\\alpha,db_1,db_2}\n",
    "\\end{align}"
   ]
  },
  {
   "cell_type": "markdown",
   "metadata": {
    "colab_type": "text",
    "id": "X9Sw-dgUifBA"
   },
   "source": [
    "Critical Value (reject Ho)"
   ]
  },
  {
   "cell_type": "markdown",
   "metadata": {
    "colab_type": "text",
    "id": "cn92_15liuf5"
   },
   "source": [
    "\\begin{gather}\n",
    "F_{\\alpha,db_1,db_2} \\\\\n",
    "alpha = 0.05 \\\\\n",
    "db_1 = k-1 \\\\\n",
    "db_2 = ((n_1-1) + (n_2-1) + (n_3-1))\n",
    "\\end{gather}"
   ]
  },
  {
   "cell_type": "code",
   "execution_count": 38,
   "metadata": {},
   "outputs": [],
   "source": [
    "from scipy import stats"
   ]
  },
  {
   "cell_type": "code",
   "execution_count": 39,
   "metadata": {
    "colab": {
     "base_uri": "https://localhost:8080/",
     "height": 35
    },
    "colab_type": "code",
    "executionInfo": {
     "elapsed": 12183,
     "status": "ok",
     "timestamp": 1593758203527,
     "user": {
      "displayName": "Fathi Muhyi",
      "photoUrl": "https://lh3.googleusercontent.com/a-/AOh14GhChUnD9lp0uYHDjzFDqClMEcljUKZtuV7ArMBsmA=s64",
      "userId": "15936908794749616962"
     },
     "user_tz": -420
    },
    "id": "XQuPRMu2h_kI",
    "outputId": "860a9b90-14c0-44d1-a89a-071cca8c8fa5"
   },
   "outputs": [
    {
     "name": "stdout",
     "output_type": "stream",
     "text": [
      "critical value F_alpha 0.05139086243879718\n"
     ]
    }
   ],
   "source": [
    "print(\"critical value F_alpha\",stats.f.ppf(0.05,2,27))"
   ]
  },
  {
   "cell_type": "markdown",
   "metadata": {
    "colab_type": "text",
    "id": "98E24l4Xlm9o"
   },
   "source": [
    "\\begin{align}\n",
    "F_{stat}  = 4.80983 > F_{\\alpha,db_1,db_2} = 0.0513\n",
    "\\end{align}"
   ]
  },
  {
   "cell_type": "markdown",
   "metadata": {
    "colab_type": "text",
    "id": "8BxcHS9Cjxq8"
   },
   "source": [
    "p-value (reject Ho)"
   ]
  },
  {
   "cell_type": "code",
   "execution_count": 40,
   "metadata": {
    "colab": {
     "base_uri": "https://localhost:8080/",
     "height": 35
    },
    "colab_type": "code",
    "executionInfo": {
     "elapsed": 12172,
     "status": "ok",
     "timestamp": 1593758203528,
     "user": {
      "displayName": "Fathi Muhyi",
      "photoUrl": "https://lh3.googleusercontent.com/a-/AOh14GhChUnD9lp0uYHDjzFDqClMEcljUKZtuV7ArMBsmA=s64",
      "userId": "15936908794749616962"
     },
     "user_tz": -420
    },
    "id": "0HZrdo90j4qX",
    "outputId": "a9d1a253-7d58-4d74-cf47-17d7c84c5df6"
   },
   "outputs": [
    {
     "name": "stdout",
     "output_type": "stream",
     "text": [
      "p-value 0.01634051423618613\n"
     ]
    }
   ],
   "source": [
    "print('p-value',stats.f.sf(F_stat,2,27))"
   ]
  },
  {
   "cell_type": "markdown",
   "metadata": {
    "colab_type": "text",
    "id": "Pvz_mALSk2X8"
   },
   "source": [
    "ANOVA scipy (reject Ho)"
   ]
  },
  {
   "cell_type": "code",
   "execution_count": 41,
   "metadata": {
    "colab": {
     "base_uri": "https://localhost:8080/",
     "height": 35
    },
    "colab_type": "code",
    "executionInfo": {
     "elapsed": 12157,
     "status": "ok",
     "timestamp": 1593758203529,
     "user": {
      "displayName": "Fathi Muhyi",
      "photoUrl": "https://lh3.googleusercontent.com/a-/AOh14GhChUnD9lp0uYHDjzFDqClMEcljUKZtuV7ArMBsmA=s64",
      "userId": "15936908794749616962"
     },
     "user_tz": -420
    },
    "id": "CXAH6SltlWWy",
    "outputId": "f3c5518a-e0d9-4ad4-c7a9-3f9d58691129"
   },
   "outputs": [
    {
     "data": {
      "text/plain": [
       "F_onewayResult(statistic=4.809836065573772, pvalue=0.0163405142361861)"
      ]
     },
     "execution_count": 41,
     "metadata": {},
     "output_type": "execute_result"
    }
   ],
   "source": [
    "#Importing One-Way ANOVA from Scipy. One-Way ANOVA is called F one-way as well because the test follow the F- Distribution\n",
    "from scipy.stats import f_oneway\n",
    "f_oneway(transportdf[transportdf['Transportation'] == 'Walking']['Study Hour'], \n",
    "        transportdf[transportdf['Transportation'] == 'Public']['Study Hour'],\n",
    "        transportdf[transportdf['Transportation'] == 'Private']['Study Hour'])"
   ]
  }
 ],
 "metadata": {
  "colab": {
   "name": "Basic Statitsic v2.ipynb",
   "provenance": [],
   "toc_visible": true
  },
  "hide_input": false,
  "kernelspec": {
   "display_name": "Python 3",
   "language": "python",
   "name": "python3"
  },
  "language_info": {
   "codemirror_mode": {
    "name": "ipython",
    "version": 3
   },
   "file_extension": ".py",
   "mimetype": "text/x-python",
   "name": "python",
   "nbconvert_exporter": "python",
   "pygments_lexer": "ipython3",
   "version": "3.8.6"
  },
  "varInspector": {
   "cols": {
    "lenName": 16,
    "lenType": 16,
    "lenVar": 40
   },
   "kernels_config": {
    "python": {
     "delete_cmd_postfix": "",
     "delete_cmd_prefix": "del ",
     "library": "var_list.py",
     "varRefreshCmd": "print(var_dic_list())"
    },
    "r": {
     "delete_cmd_postfix": ") ",
     "delete_cmd_prefix": "rm(",
     "library": "var_list.r",
     "varRefreshCmd": "cat(var_dic_list()) "
    }
   },
   "types_to_exclude": [
    "module",
    "function",
    "builtin_function_or_method",
    "instance",
    "_Feature"
   ],
   "window_display": false
  }
 },
 "nbformat": 4,
 "nbformat_minor": 4
}
