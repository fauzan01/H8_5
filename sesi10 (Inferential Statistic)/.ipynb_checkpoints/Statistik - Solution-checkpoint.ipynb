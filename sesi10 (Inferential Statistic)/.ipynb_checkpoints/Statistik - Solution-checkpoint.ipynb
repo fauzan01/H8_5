{
 "cells": [
  {
   "cell_type": "markdown",
   "metadata": {},
   "source": [
    "# ``Statistics Exercise`` - **``Solution``**"
   ]
  },
  {
   "cell_type": "markdown",
   "metadata": {},
   "source": [
    "## __Import Library__"
   ]
  },
  {
   "cell_type": "code",
   "execution_count": 1,
   "metadata": {},
   "outputs": [],
   "source": [
    "import pandas as pd\n",
    "pd.set_option('display.max_columns', None)"
   ]
  },
  {
   "cell_type": "markdown",
   "metadata": {},
   "source": [
    "## __Open Dataset__"
   ]
  },
  {
   "cell_type": "code",
   "execution_count": 2,
   "metadata": {},
   "outputs": [
    {
     "data": {
      "text/html": [
       "<div>\n",
       "<style scoped>\n",
       "    .dataframe tbody tr th:only-of-type {\n",
       "        vertical-align: middle;\n",
       "    }\n",
       "\n",
       "    .dataframe tbody tr th {\n",
       "        vertical-align: top;\n",
       "    }\n",
       "\n",
       "    .dataframe thead th {\n",
       "        text-align: right;\n",
       "    }\n",
       "</style>\n",
       "<table border=\"1\" class=\"dataframe\">\n",
       "  <thead>\n",
       "    <tr style=\"text-align: right;\">\n",
       "      <th></th>\n",
       "      <th>Suburb</th>\n",
       "      <th>Address</th>\n",
       "      <th>Rooms</th>\n",
       "      <th>Type</th>\n",
       "      <th>Price</th>\n",
       "      <th>Method</th>\n",
       "      <th>SellerG</th>\n",
       "      <th>Date</th>\n",
       "      <th>Distance</th>\n",
       "      <th>Postcode</th>\n",
       "      <th>Bedroom2</th>\n",
       "      <th>Bathroom</th>\n",
       "      <th>Car</th>\n",
       "      <th>Landsize</th>\n",
       "      <th>BuildingArea</th>\n",
       "      <th>YearBuilt</th>\n",
       "      <th>CouncilArea</th>\n",
       "      <th>Lattitude</th>\n",
       "      <th>Longtitude</th>\n",
       "      <th>Regionname</th>\n",
       "      <th>Propertycount</th>\n",
       "    </tr>\n",
       "  </thead>\n",
       "  <tbody>\n",
       "    <tr>\n",
       "      <th>0</th>\n",
       "      <td>Abbotsford</td>\n",
       "      <td>85 Turner St</td>\n",
       "      <td>2</td>\n",
       "      <td>h</td>\n",
       "      <td>1480000.0</td>\n",
       "      <td>S</td>\n",
       "      <td>Biggin</td>\n",
       "      <td>3/12/2016</td>\n",
       "      <td>2.5</td>\n",
       "      <td>3067.0</td>\n",
       "      <td>2.0</td>\n",
       "      <td>1.0</td>\n",
       "      <td>1.0</td>\n",
       "      <td>202.0</td>\n",
       "      <td>NaN</td>\n",
       "      <td>NaN</td>\n",
       "      <td>Yarra</td>\n",
       "      <td>-37.7996</td>\n",
       "      <td>144.9984</td>\n",
       "      <td>Northern Metropolitan</td>\n",
       "      <td>4019.0</td>\n",
       "    </tr>\n",
       "    <tr>\n",
       "      <th>1</th>\n",
       "      <td>Abbotsford</td>\n",
       "      <td>25 Bloomburg St</td>\n",
       "      <td>2</td>\n",
       "      <td>h</td>\n",
       "      <td>1035000.0</td>\n",
       "      <td>S</td>\n",
       "      <td>Biggin</td>\n",
       "      <td>4/02/2016</td>\n",
       "      <td>2.5</td>\n",
       "      <td>3067.0</td>\n",
       "      <td>2.0</td>\n",
       "      <td>1.0</td>\n",
       "      <td>0.0</td>\n",
       "      <td>156.0</td>\n",
       "      <td>79.0</td>\n",
       "      <td>1900.0</td>\n",
       "      <td>Yarra</td>\n",
       "      <td>-37.8079</td>\n",
       "      <td>144.9934</td>\n",
       "      <td>Northern Metropolitan</td>\n",
       "      <td>4019.0</td>\n",
       "    </tr>\n",
       "    <tr>\n",
       "      <th>2</th>\n",
       "      <td>Abbotsford</td>\n",
       "      <td>5 Charles St</td>\n",
       "      <td>3</td>\n",
       "      <td>h</td>\n",
       "      <td>1465000.0</td>\n",
       "      <td>SP</td>\n",
       "      <td>Biggin</td>\n",
       "      <td>4/03/2017</td>\n",
       "      <td>2.5</td>\n",
       "      <td>3067.0</td>\n",
       "      <td>3.0</td>\n",
       "      <td>2.0</td>\n",
       "      <td>0.0</td>\n",
       "      <td>134.0</td>\n",
       "      <td>150.0</td>\n",
       "      <td>1900.0</td>\n",
       "      <td>Yarra</td>\n",
       "      <td>-37.8093</td>\n",
       "      <td>144.9944</td>\n",
       "      <td>Northern Metropolitan</td>\n",
       "      <td>4019.0</td>\n",
       "    </tr>\n",
       "    <tr>\n",
       "      <th>3</th>\n",
       "      <td>Abbotsford</td>\n",
       "      <td>40 Federation La</td>\n",
       "      <td>3</td>\n",
       "      <td>h</td>\n",
       "      <td>850000.0</td>\n",
       "      <td>PI</td>\n",
       "      <td>Biggin</td>\n",
       "      <td>4/03/2017</td>\n",
       "      <td>2.5</td>\n",
       "      <td>3067.0</td>\n",
       "      <td>3.0</td>\n",
       "      <td>2.0</td>\n",
       "      <td>1.0</td>\n",
       "      <td>94.0</td>\n",
       "      <td>NaN</td>\n",
       "      <td>NaN</td>\n",
       "      <td>Yarra</td>\n",
       "      <td>-37.7969</td>\n",
       "      <td>144.9969</td>\n",
       "      <td>Northern Metropolitan</td>\n",
       "      <td>4019.0</td>\n",
       "    </tr>\n",
       "    <tr>\n",
       "      <th>4</th>\n",
       "      <td>Abbotsford</td>\n",
       "      <td>55a Park St</td>\n",
       "      <td>4</td>\n",
       "      <td>h</td>\n",
       "      <td>1600000.0</td>\n",
       "      <td>VB</td>\n",
       "      <td>Nelson</td>\n",
       "      <td>4/06/2016</td>\n",
       "      <td>2.5</td>\n",
       "      <td>3067.0</td>\n",
       "      <td>3.0</td>\n",
       "      <td>1.0</td>\n",
       "      <td>2.0</td>\n",
       "      <td>120.0</td>\n",
       "      <td>142.0</td>\n",
       "      <td>2014.0</td>\n",
       "      <td>Yarra</td>\n",
       "      <td>-37.8072</td>\n",
       "      <td>144.9941</td>\n",
       "      <td>Northern Metropolitan</td>\n",
       "      <td>4019.0</td>\n",
       "    </tr>\n",
       "  </tbody>\n",
       "</table>\n",
       "</div>"
      ],
      "text/plain": [
       "       Suburb           Address  Rooms Type      Price Method SellerG  \\\n",
       "0  Abbotsford      85 Turner St      2    h  1480000.0      S  Biggin   \n",
       "1  Abbotsford   25 Bloomburg St      2    h  1035000.0      S  Biggin   \n",
       "2  Abbotsford      5 Charles St      3    h  1465000.0     SP  Biggin   \n",
       "3  Abbotsford  40 Federation La      3    h   850000.0     PI  Biggin   \n",
       "4  Abbotsford       55a Park St      4    h  1600000.0     VB  Nelson   \n",
       "\n",
       "        Date  Distance  Postcode  Bedroom2  Bathroom  Car  Landsize  \\\n",
       "0  3/12/2016       2.5    3067.0       2.0       1.0  1.0     202.0   \n",
       "1  4/02/2016       2.5    3067.0       2.0       1.0  0.0     156.0   \n",
       "2  4/03/2017       2.5    3067.0       3.0       2.0  0.0     134.0   \n",
       "3  4/03/2017       2.5    3067.0       3.0       2.0  1.0      94.0   \n",
       "4  4/06/2016       2.5    3067.0       3.0       1.0  2.0     120.0   \n",
       "\n",
       "   BuildingArea  YearBuilt CouncilArea  Lattitude  Longtitude  \\\n",
       "0           NaN        NaN       Yarra   -37.7996    144.9984   \n",
       "1          79.0     1900.0       Yarra   -37.8079    144.9934   \n",
       "2         150.0     1900.0       Yarra   -37.8093    144.9944   \n",
       "3           NaN        NaN       Yarra   -37.7969    144.9969   \n",
       "4         142.0     2014.0       Yarra   -37.8072    144.9941   \n",
       "\n",
       "              Regionname  Propertycount  \n",
       "0  Northern Metropolitan         4019.0  \n",
       "1  Northern Metropolitan         4019.0  \n",
       "2  Northern Metropolitan         4019.0  \n",
       "3  Northern Metropolitan         4019.0  \n",
       "4  Northern Metropolitan         4019.0  "
      ]
     },
     "execution_count": 2,
     "metadata": {},
     "output_type": "execute_result"
    }
   ],
   "source": [
    "df = pd.read_csv('melb_data.csv')\n",
    "df.head()"
   ]
  },
  {
   "cell_type": "markdown",
   "metadata": {},
   "source": [
    "<hr>\n",
    "\n",
    "## **Nomor 1**\n",
    "\n",
    "Tampilkan statistik deskriptif pada variabel **Rooms, Distance, Landsize**, dan **Price**!"
   ]
  },
  {
   "cell_type": "code",
   "execution_count": 3,
   "metadata": {},
   "outputs": [
    {
     "data": {
      "text/html": [
       "<div>\n",
       "<style scoped>\n",
       "    .dataframe tbody tr th:only-of-type {\n",
       "        vertical-align: middle;\n",
       "    }\n",
       "\n",
       "    .dataframe tbody tr th {\n",
       "        vertical-align: top;\n",
       "    }\n",
       "\n",
       "    .dataframe thead th {\n",
       "        text-align: right;\n",
       "    }\n",
       "</style>\n",
       "<table border=\"1\" class=\"dataframe\">\n",
       "  <thead>\n",
       "    <tr style=\"text-align: right;\">\n",
       "      <th></th>\n",
       "      <th>Rooms</th>\n",
       "      <th>Distance</th>\n",
       "      <th>Landsize</th>\n",
       "      <th>Price</th>\n",
       "    </tr>\n",
       "  </thead>\n",
       "  <tbody>\n",
       "    <tr>\n",
       "      <th>count</th>\n",
       "      <td>13580.000000</td>\n",
       "      <td>13580.000000</td>\n",
       "      <td>13580.000000</td>\n",
       "      <td>1.358000e+04</td>\n",
       "    </tr>\n",
       "    <tr>\n",
       "      <th>mean</th>\n",
       "      <td>2.937997</td>\n",
       "      <td>10.137776</td>\n",
       "      <td>558.416127</td>\n",
       "      <td>1.075684e+06</td>\n",
       "    </tr>\n",
       "    <tr>\n",
       "      <th>std</th>\n",
       "      <td>0.955748</td>\n",
       "      <td>5.868725</td>\n",
       "      <td>3990.669241</td>\n",
       "      <td>6.393107e+05</td>\n",
       "    </tr>\n",
       "    <tr>\n",
       "      <th>min</th>\n",
       "      <td>1.000000</td>\n",
       "      <td>0.000000</td>\n",
       "      <td>0.000000</td>\n",
       "      <td>8.500000e+04</td>\n",
       "    </tr>\n",
       "    <tr>\n",
       "      <th>25%</th>\n",
       "      <td>2.000000</td>\n",
       "      <td>6.100000</td>\n",
       "      <td>177.000000</td>\n",
       "      <td>6.500000e+05</td>\n",
       "    </tr>\n",
       "    <tr>\n",
       "      <th>50%</th>\n",
       "      <td>3.000000</td>\n",
       "      <td>9.200000</td>\n",
       "      <td>440.000000</td>\n",
       "      <td>9.030000e+05</td>\n",
       "    </tr>\n",
       "    <tr>\n",
       "      <th>75%</th>\n",
       "      <td>3.000000</td>\n",
       "      <td>13.000000</td>\n",
       "      <td>651.000000</td>\n",
       "      <td>1.330000e+06</td>\n",
       "    </tr>\n",
       "    <tr>\n",
       "      <th>max</th>\n",
       "      <td>10.000000</td>\n",
       "      <td>48.100000</td>\n",
       "      <td>433014.000000</td>\n",
       "      <td>9.000000e+06</td>\n",
       "    </tr>\n",
       "  </tbody>\n",
       "</table>\n",
       "</div>"
      ],
      "text/plain": [
       "              Rooms      Distance       Landsize         Price\n",
       "count  13580.000000  13580.000000   13580.000000  1.358000e+04\n",
       "mean       2.937997     10.137776     558.416127  1.075684e+06\n",
       "std        0.955748      5.868725    3990.669241  6.393107e+05\n",
       "min        1.000000      0.000000       0.000000  8.500000e+04\n",
       "25%        2.000000      6.100000     177.000000  6.500000e+05\n",
       "50%        3.000000      9.200000     440.000000  9.030000e+05\n",
       "75%        3.000000     13.000000     651.000000  1.330000e+06\n",
       "max       10.000000     48.100000  433014.000000  9.000000e+06"
      ]
     },
     "execution_count": 3,
     "metadata": {},
     "output_type": "execute_result"
    }
   ],
   "source": [
    "df[['Rooms', 'Distance', 'Landsize', 'Price']].describe()"
   ]
  },
  {
   "cell_type": "markdown",
   "metadata": {},
   "source": [
    "<hr>\n",
    "\n",
    "## **Nomor 2**"
   ]
  },
  {
   "cell_type": "markdown",
   "metadata": {},
   "source": [
    "a) Berapa jumlah **Rooms** pada rumah yang harganya paling mahal?\n"
   ]
  },
  {
   "cell_type": "code",
   "execution_count": 4,
   "metadata": {},
   "outputs": [
    {
     "data": {
      "text/html": [
       "<div>\n",
       "<style scoped>\n",
       "    .dataframe tbody tr th:only-of-type {\n",
       "        vertical-align: middle;\n",
       "    }\n",
       "\n",
       "    .dataframe tbody tr th {\n",
       "        vertical-align: top;\n",
       "    }\n",
       "\n",
       "    .dataframe thead th {\n",
       "        text-align: right;\n",
       "    }\n",
       "</style>\n",
       "<table border=\"1\" class=\"dataframe\">\n",
       "  <thead>\n",
       "    <tr style=\"text-align: right;\">\n",
       "      <th></th>\n",
       "      <th>Rooms</th>\n",
       "    </tr>\n",
       "  </thead>\n",
       "  <tbody>\n",
       "    <tr>\n",
       "      <th>12094</th>\n",
       "      <td>3</td>\n",
       "    </tr>\n",
       "  </tbody>\n",
       "</table>\n",
       "</div>"
      ],
      "text/plain": [
       "       Rooms\n",
       "12094      3"
      ]
     },
     "execution_count": 4,
     "metadata": {},
     "output_type": "execute_result"
    }
   ],
   "source": [
    "df[df['Price'] == df['Price'].max()][['Rooms']]"
   ]
  },
  {
   "cell_type": "markdown",
   "metadata": {},
   "source": [
    "b) Berapa rata-rata harga rumah yang jarak ke CBD (variabel **Distance**) terdekat?\n"
   ]
  },
  {
   "cell_type": "code",
   "execution_count": 5,
   "metadata": {},
   "outputs": [
    {
     "data": {
      "text/plain": [
       "671166.6666666666"
      ]
     },
     "execution_count": 5,
     "metadata": {},
     "output_type": "execute_result"
    }
   ],
   "source": [
    "df[df['Distance'] == df['Distance'].min()]['Price'].mean()"
   ]
  },
  {
   "cell_type": "markdown",
   "metadata": {},
   "source": [
    "c) Berapa rata-rata harga rumah yang luas tanahnya (variabel **Landsize**) 1 kali standar deviasi di atas rata-rata luas tanah?\n"
   ]
  },
  {
   "cell_type": "code",
   "execution_count": 6,
   "metadata": {},
   "outputs": [
    {
     "data": {
      "text/plain": [
       "880776.6666666666"
      ]
     },
     "execution_count": 6,
     "metadata": {},
     "output_type": "execute_result"
    }
   ],
   "source": [
    "land_mean = df['Landsize'].mean()\n",
    "land_std = df['Landsize'].std()\n",
    "\n",
    "df[df['Landsize'] > (land_mean + land_std)]['Price'].mean()"
   ]
  },
  {
   "cell_type": "markdown",
   "metadata": {},
   "source": [
    "d) Berapa rentang (_range_) harga rumah (variabel **Price**) pada region ``Southern Metropolitan ``?"
   ]
  },
  {
   "cell_type": "code",
   "execution_count": 7,
   "metadata": {},
   "outputs": [
    {
     "data": {
      "text/plain": [
       "7869000.0"
      ]
     },
     "execution_count": 7,
     "metadata": {},
     "output_type": "execute_result"
    }
   ],
   "source": [
    "df_sm = df[df['Regionname'] == 'Southern Metropolitan']\n",
    "\n",
    "price_range = df_sm['Price'].max() - df_sm['Price'].min()\n",
    "price_range"
   ]
  },
  {
   "cell_type": "markdown",
   "metadata": {},
   "source": [
    "<hr>\n",
    "\n",
    "## **Nomor 3**"
   ]
  },
  {
   "cell_type": "markdown",
   "metadata": {},
   "source": [
    "* Nilai outlier adalah nilai yang berada di bawah ``Q1 - (1.5 * IQR)`` atau di atas ``Q3 + (1.5 * IQR)``\n",
    "* Hitung dulu Q1, Q2, dan IQR pada pada kolom **Price** (harga rumah)\n",
    "* Hitung ada berapa nilai outlier pada kolom **Price**!"
   ]
  },
  {
   "cell_type": "code",
   "execution_count": 8,
   "metadata": {},
   "outputs": [],
   "source": [
    "import numpy as np\n",
    "\n",
    "df['Price'] = df['Price'].apply(np.int64)"
   ]
  },
  {
   "cell_type": "code",
   "execution_count": 9,
   "metadata": {},
   "outputs": [
    {
     "data": {
      "text/plain": [
       "680000.0"
      ]
     },
     "execution_count": 9,
     "metadata": {},
     "output_type": "execute_result"
    }
   ],
   "source": [
    "q1 = df['Price'].describe()['25%']\n",
    "q3 = df['Price'].describe()['75%']\n",
    "\n",
    "iqr = q3 - q1\n",
    "iqr"
   ]
  },
  {
   "cell_type": "code",
   "execution_count": 10,
   "metadata": {},
   "outputs": [],
   "source": [
    "batas_bawah = int(q1 - (1.5 * iqr))\n",
    "batas_atas = int(q3 + (1.5 * iqr))"
   ]
  },
  {
   "cell_type": "code",
   "execution_count": 11,
   "metadata": {},
   "outputs": [
    {
     "data": {
      "text/html": [
       "<div>\n",
       "<style scoped>\n",
       "    .dataframe tbody tr th:only-of-type {\n",
       "        vertical-align: middle;\n",
       "    }\n",
       "\n",
       "    .dataframe tbody tr th {\n",
       "        vertical-align: top;\n",
       "    }\n",
       "\n",
       "    .dataframe thead th {\n",
       "        text-align: right;\n",
       "    }\n",
       "</style>\n",
       "<table border=\"1\" class=\"dataframe\">\n",
       "  <thead>\n",
       "    <tr style=\"text-align: right;\">\n",
       "      <th></th>\n",
       "      <th>Price</th>\n",
       "    </tr>\n",
       "  </thead>\n",
       "  <tbody>\n",
       "    <tr>\n",
       "      <th>80</th>\n",
       "      <td>2850000</td>\n",
       "    </tr>\n",
       "    <tr>\n",
       "      <th>92</th>\n",
       "      <td>2615000</td>\n",
       "    </tr>\n",
       "    <tr>\n",
       "      <th>97</th>\n",
       "      <td>2575000</td>\n",
       "    </tr>\n",
       "    <tr>\n",
       "      <th>102</th>\n",
       "      <td>3010000</td>\n",
       "    </tr>\n",
       "    <tr>\n",
       "      <th>103</th>\n",
       "      <td>2800000</td>\n",
       "    </tr>\n",
       "  </tbody>\n",
       "</table>\n",
       "</div>"
      ],
      "text/plain": [
       "       Price\n",
       "80   2850000\n",
       "92   2615000\n",
       "97   2575000\n",
       "102  3010000\n",
       "103  2800000"
      ]
     },
     "execution_count": 11,
     "metadata": {},
     "output_type": "execute_result"
    }
   ],
   "source": [
    "outlier_price = df[(df['Price'] < batas_bawah) | (df['Price'] > batas_atas)][['Price']]\n",
    "outlier_price.head()"
   ]
  },
  {
   "cell_type": "code",
   "execution_count": 12,
   "metadata": {},
   "outputs": [
    {
     "data": {
      "text/plain": [
       "612"
      ]
     },
     "execution_count": 12,
     "metadata": {},
     "output_type": "execute_result"
    }
   ],
   "source": [
    "# jumlah outlier pada kolom 'Price'\n",
    "len(outlier_price)"
   ]
  },
  {
   "cell_type": "code",
   "execution_count": 13,
   "metadata": {},
   "outputs": [
    {
     "data": {
      "text/plain": [
       "Int64Index([   80,    92,    97,   102,   103,   108,   112,   118,   124,\n",
       "              233,\n",
       "            ...\n",
       "            13466, 13468, 13474, 13483, 13518, 13521, 13523, 13553, 13555,\n",
       "            13578],\n",
       "           dtype='int64', length=612)"
      ]
     },
     "execution_count": 13,
     "metadata": {},
     "output_type": "execute_result"
    }
   ],
   "source": [
    "outlier_price.index"
   ]
  },
  {
   "cell_type": "markdown",
   "metadata": {},
   "source": [
    "<hr>\n",
    "\n",
    "## **Nomor 4**"
   ]
  },
  {
   "cell_type": "markdown",
   "metadata": {},
   "source": [
    "#### **``Shapiro Wilk Test``**\n",
    "\n",
    "Menguji asumsi normalitas variabel ``Price``"
   ]
  },
  {
   "cell_type": "markdown",
   "metadata": {},
   "source": [
    "#### **Interpretation**\n",
    "* If the P-Value of the Shapiro Wilk Test is larger than 0.05, we assume a normal distribution\n",
    "* If the P-Value of the Shapiro Wilk Test is smaller than 0.05, we do not assume a normal distribution"
   ]
  },
  {
   "cell_type": "code",
   "execution_count": 14,
   "metadata": {},
   "outputs": [
    {
     "name": "stdout",
     "output_type": "stream",
     "text": [
      "P-value: 0.0. So, we do not assume a normal distribution\n"
     ]
    },
    {
     "name": "stderr",
     "output_type": "stream",
     "text": [
      "c:\\users\\moham\\appdata\\local\\programs\\python\\python38\\lib\\site-packages\\scipy\\stats\\morestats.py:1681: UserWarning: p-value may not be accurate for N > 5000.\n",
      "  warnings.warn(\"p-value may not be accurate for N > 5000.\")\n"
     ]
    }
   ],
   "source": [
    "from scipy.stats import shapiro\n",
    "\n",
    "sw_statistic, sw_pvalue = shapiro(df['Price'])\n",
    "\n",
    "if sw_pvalue > 0.05:\n",
    "    print(f'P-value: {sw_pvalue}. So, we assume a normal distribution')\n",
    "else:\n",
    "    print(f'P-value: {sw_pvalue}. So, we do not assume a normal distribution')"
   ]
  },
  {
   "cell_type": "markdown",
   "metadata": {},
   "source": [
    "#### **``D’Agostino and Pearson’s Test``**\n",
    "\n",
    "Menguji asumsi normalitas variabel ``Price``"
   ]
  },
  {
   "cell_type": "markdown",
   "metadata": {},
   "source": [
    "#### **Interpretation**\n",
    "* If the P-Value of the D'Agostino-Pearson Test is larger than 0.05, we assume a normal distribution\n",
    "* If the P-Value of the D'Agostino-Pearson Test is smaller than 0.05, we do not assume a normal distribution"
   ]
  },
  {
   "cell_type": "code",
   "execution_count": 15,
   "metadata": {},
   "outputs": [
    {
     "name": "stdout",
     "output_type": "stream",
     "text": [
      "P-value: 0.0. So, we do not assume a normal distribution\n"
     ]
    }
   ],
   "source": [
    "from scipy.stats import normaltest\n",
    "dp_statistic, dp_pvalue = normaltest(df['Price'])\n",
    "\n",
    "if dp_pvalue > 0.05:\n",
    "    print(f'P-value: {dp_pvalue}. So, we assume a normal distribution')\n",
    "else:\n",
    "    print(f'P-value: {dp_pvalue}. So, we do not assume a normal distribution')"
   ]
  },
  {
   "cell_type": "markdown",
   "metadata": {},
   "source": [
    "<hr>\n",
    "\n",
    "## **Nomor 5**"
   ]
  },
  {
   "cell_type": "markdown",
   "metadata": {},
   "source": [
    "Jika diasumsikan telah memenuhi syarat statistik parametrik, hitung seberapa kuat korelasi variabel **Rooms** dengan **Price**, serta arah korelasinya!"
   ]
  },
  {
   "cell_type": "code",
   "execution_count": 16,
   "metadata": {},
   "outputs": [
    {
     "data": {
      "text/plain": [
       "0.49663367618652987"
      ]
     },
     "execution_count": 16,
     "metadata": {},
     "output_type": "execute_result"
    }
   ],
   "source": [
    "df['Rooms'].corr(df['Price'], method = 'pearson')"
   ]
  },
  {
   "cell_type": "markdown",
   "metadata": {},
   "source": [
    "<hr>\n",
    "\n",
    "## **Nomor 6**"
   ]
  },
  {
   "cell_type": "markdown",
   "metadata": {},
   "source": [
    "Jika diasumsikan telah memenuhi syarat statistik parametrik, dari beberapa Regionname manakah **Regionname** yang variabel jumlah kamarnya (**Rooms**) memiliki korelasi terkuat dengan variabel harga rumah (**Price**)!"
   ]
  },
  {
   "cell_type": "code",
   "execution_count": 17,
   "metadata": {},
   "outputs": [
    {
     "data": {
      "text/plain": [
       "array(['Northern Metropolitan', 'Western Metropolitan',\n",
       "       'Southern Metropolitan', 'Eastern Metropolitan',\n",
       "       'South-Eastern Metropolitan', 'Eastern Victoria',\n",
       "       'Northern Victoria', 'Western Victoria'], dtype=object)"
      ]
     },
     "execution_count": 17,
     "metadata": {},
     "output_type": "execute_result"
    }
   ],
   "source": [
    "df['Regionname'].unique()"
   ]
  },
  {
   "cell_type": "code",
   "execution_count": 18,
   "metadata": {},
   "outputs": [
    {
     "name": "stdout",
     "output_type": "stream",
     "text": [
      "Northern Metropolitan = 0.39281345830224074\n",
      "Western Metropolitan = 0.47603029384349793\n",
      "Southern Metropolitan = 0.6837438462796437\n",
      "Eastern Metropolitan = 0.5029928557468845\n",
      "South-Eastern Metropolitan = 0.2677994408114044\n",
      "Eastern Victoria = 0.31442339534695335\n",
      "Northern Victoria = 0.36114429890812727\n",
      "Western Victoria = 0.5518865952271457\n"
     ]
    }
   ],
   "source": [
    "for i in df['Regionname'].unique():\n",
    "    print(f'{i} = ' + str(df[df['Regionname'] == i]['Rooms'].corr(df[df['Regionname']==i]['Price'], method= 'pearson')))"
   ]
  },
  {
   "cell_type": "code",
   "execution_count": 19,
   "metadata": {},
   "outputs": [
    {
     "data": {
      "text/html": [
       "<div>\n",
       "<style scoped>\n",
       "    .dataframe tbody tr th:only-of-type {\n",
       "        vertical-align: middle;\n",
       "    }\n",
       "\n",
       "    .dataframe tbody tr th {\n",
       "        vertical-align: top;\n",
       "    }\n",
       "\n",
       "    .dataframe thead th {\n",
       "        text-align: right;\n",
       "    }\n",
       "</style>\n",
       "<table border=\"1\" class=\"dataframe\">\n",
       "  <thead>\n",
       "    <tr style=\"text-align: right;\">\n",
       "      <th></th>\n",
       "      <th>Correlation Price vs Rooms</th>\n",
       "    </tr>\n",
       "  </thead>\n",
       "  <tbody>\n",
       "    <tr>\n",
       "      <th>Southern Metropolitan</th>\n",
       "      <td>0.683744</td>\n",
       "    </tr>\n",
       "    <tr>\n",
       "      <th>Western Victoria</th>\n",
       "      <td>0.551887</td>\n",
       "    </tr>\n",
       "    <tr>\n",
       "      <th>Eastern Metropolitan</th>\n",
       "      <td>0.502993</td>\n",
       "    </tr>\n",
       "    <tr>\n",
       "      <th>Western Metropolitan</th>\n",
       "      <td>0.476030</td>\n",
       "    </tr>\n",
       "    <tr>\n",
       "      <th>Northern Metropolitan</th>\n",
       "      <td>0.392813</td>\n",
       "    </tr>\n",
       "    <tr>\n",
       "      <th>Northern Victoria</th>\n",
       "      <td>0.361144</td>\n",
       "    </tr>\n",
       "    <tr>\n",
       "      <th>Eastern Victoria</th>\n",
       "      <td>0.314423</td>\n",
       "    </tr>\n",
       "    <tr>\n",
       "      <th>South-Eastern Metropolitan</th>\n",
       "      <td>0.267799</td>\n",
       "    </tr>\n",
       "  </tbody>\n",
       "</table>\n",
       "</div>"
      ],
      "text/plain": [
       "                            Correlation Price vs Rooms\n",
       "Southern Metropolitan                         0.683744\n",
       "Western Victoria                              0.551887\n",
       "Eastern Metropolitan                          0.502993\n",
       "Western Metropolitan                          0.476030\n",
       "Northern Metropolitan                         0.392813\n",
       "Northern Victoria                             0.361144\n",
       "Eastern Victoria                              0.314423\n",
       "South-Eastern Metropolitan                    0.267799"
      ]
     },
     "execution_count": 19,
     "metadata": {},
     "output_type": "execute_result"
    }
   ],
   "source": [
    "corr = []\n",
    "for i in df['Regionname'].unique():\n",
    "    corr.append(df[df['Regionname'] == i]['Rooms'].corr(df[df['Regionname']==i]['Price'], method= 'pearson'))\n",
    "    \n",
    "pd.DataFrame(data = corr, index = df['Regionname'].unique(), columns = ['Correlation Price vs Rooms']\n",
    "            ).sort_values('Correlation Price vs Rooms', ascending=False)"
   ]
  },
  {
   "cell_type": "markdown",
   "metadata": {},
   "source": [
    "<hr>\n",
    "\n",
    "## **Nomor 7**"
   ]
  },
  {
   "cell_type": "markdown",
   "metadata": {},
   "source": [
    "Jika diasumsikan **tidak** memenuhi syarat statistik parametrik, hitung seberapa kuat korelasi variabel **Distance** dengan **Price**, serta arah korelasinya!"
   ]
  },
  {
   "cell_type": "code",
   "execution_count": 20,
   "metadata": {},
   "outputs": [
    {
     "data": {
      "text/plain": [
       "-0.12998984131880323"
      ]
     },
     "execution_count": 20,
     "metadata": {},
     "output_type": "execute_result"
    }
   ],
   "source": [
    "df['Distance'].corr(df['Price'], method='spearman')"
   ]
  },
  {
   "cell_type": "markdown",
   "metadata": {},
   "source": [
    "<hr>\n",
    "\n",
    "## **Nomor 8**"
   ]
  },
  {
   "cell_type": "markdown",
   "metadata": {},
   "source": [
    "Jika diasumsikan telah memenuhi syarat statistik parametrik, dari beberapa Regionname manakah **Regionname** yang variabel jumlah jarak ke CBD (**Distance**) paling tidak berkorelasi dengan variabel harga rumah (**Price**)! Serta tampilkan juga Regionname yang paling berkorelasi kedua variabel ini!"
   ]
  },
  {
   "cell_type": "code",
   "execution_count": 21,
   "metadata": {},
   "outputs": [
    {
     "name": "stdout",
     "output_type": "stream",
     "text": [
      "Northern Metropolitan = -0.368551996179051\n",
      "Western Metropolitan = -0.33408555047092137\n",
      "Southern Metropolitan = 0.002489149218933464\n",
      "Eastern Metropolitan = -0.12435562852683693\n",
      "South-Eastern Metropolitan = -0.2855640518908052\n",
      "Eastern Victoria = -0.34569916122464606\n",
      "Northern Victoria = 0.08956649327360579\n",
      "Western Victoria = -0.04606415345276126\n"
     ]
    }
   ],
   "source": [
    "for i in df['Regionname'].unique():\n",
    "    print(f'{i} = ' + str(df[df['Regionname'] == i]['Distance'].corr(df[df['Regionname']==i]['Price'], method= 'pearson')))"
   ]
  },
  {
   "cell_type": "code",
   "execution_count": 22,
   "metadata": {},
   "outputs": [
    {
     "data": {
      "text/html": [
       "<div>\n",
       "<style scoped>\n",
       "    .dataframe tbody tr th:only-of-type {\n",
       "        vertical-align: middle;\n",
       "    }\n",
       "\n",
       "    .dataframe tbody tr th {\n",
       "        vertical-align: top;\n",
       "    }\n",
       "\n",
       "    .dataframe thead th {\n",
       "        text-align: right;\n",
       "    }\n",
       "</style>\n",
       "<table border=\"1\" class=\"dataframe\">\n",
       "  <thead>\n",
       "    <tr style=\"text-align: right;\">\n",
       "      <th></th>\n",
       "      <th>Correlation Price vs Distance</th>\n",
       "    </tr>\n",
       "  </thead>\n",
       "  <tbody>\n",
       "    <tr>\n",
       "      <th>Northern Metropolitan</th>\n",
       "      <td>-0.368552</td>\n",
       "    </tr>\n",
       "    <tr>\n",
       "      <th>Eastern Victoria</th>\n",
       "      <td>-0.345699</td>\n",
       "    </tr>\n",
       "    <tr>\n",
       "      <th>Western Metropolitan</th>\n",
       "      <td>-0.334086</td>\n",
       "    </tr>\n",
       "    <tr>\n",
       "      <th>South-Eastern Metropolitan</th>\n",
       "      <td>-0.285564</td>\n",
       "    </tr>\n",
       "    <tr>\n",
       "      <th>Eastern Metropolitan</th>\n",
       "      <td>-0.124356</td>\n",
       "    </tr>\n",
       "    <tr>\n",
       "      <th>Western Victoria</th>\n",
       "      <td>-0.046064</td>\n",
       "    </tr>\n",
       "    <tr>\n",
       "      <th>Southern Metropolitan</th>\n",
       "      <td>0.002489</td>\n",
       "    </tr>\n",
       "    <tr>\n",
       "      <th>Northern Victoria</th>\n",
       "      <td>0.089566</td>\n",
       "    </tr>\n",
       "  </tbody>\n",
       "</table>\n",
       "</div>"
      ],
      "text/plain": [
       "                            Correlation Price vs Distance\n",
       "Northern Metropolitan                           -0.368552\n",
       "Eastern Victoria                                -0.345699\n",
       "Western Metropolitan                            -0.334086\n",
       "South-Eastern Metropolitan                      -0.285564\n",
       "Eastern Metropolitan                            -0.124356\n",
       "Western Victoria                                -0.046064\n",
       "Southern Metropolitan                            0.002489\n",
       "Northern Victoria                                0.089566"
      ]
     },
     "execution_count": 22,
     "metadata": {},
     "output_type": "execute_result"
    }
   ],
   "source": [
    "corr = []\n",
    "for i in df['Regionname'].unique():\n",
    "    corr.append(df[df['Regionname'] == i]['Distance'].corr(df[df['Regionname']==i]['Price'], method= 'pearson'))\n",
    "    \n",
    "pd.DataFrame(data = corr, index = df['Regionname'].unique(), columns = ['Correlation Price vs Distance']\n",
    "            ).sort_values('Correlation Price vs Distance', ascending=True)"
   ]
  },
  {
   "cell_type": "markdown",
   "metadata": {},
   "source": [
    "* Regionname yang paling tidak berkorelasi atau korelasinya paling lemah di dua variabel di atas adalah **Sourthern Metropolitan** (0.002489 atau 0.24 persen).\n",
    "* Regionname yang paling berkorelasi di dua variabel di atas adalah **Northern Metropolitan** (-0.368552 atau - 36,86 persen)"
   ]
  },
  {
   "cell_type": "markdown",
   "metadata": {},
   "source": [
    "<hr>\n",
    "\n",
    "## **Nomor 9**"
   ]
  },
  {
   "cell_type": "markdown",
   "metadata": {},
   "source": [
    "Uji hipotesis apakah metode pembelian/**Method** berkaitan dengan **Type** / tipe rumah (dependen) atau tidak saling berkaitan (independen)!"
   ]
  },
  {
   "cell_type": "code",
   "execution_count": 23,
   "metadata": {},
   "outputs": [
    {
     "data": {
      "text/html": [
       "<div>\n",
       "<style scoped>\n",
       "    .dataframe tbody tr th:only-of-type {\n",
       "        vertical-align: middle;\n",
       "    }\n",
       "\n",
       "    .dataframe tbody tr th {\n",
       "        vertical-align: top;\n",
       "    }\n",
       "\n",
       "    .dataframe thead th {\n",
       "        text-align: right;\n",
       "    }\n",
       "</style>\n",
       "<table border=\"1\" class=\"dataframe\">\n",
       "  <thead>\n",
       "    <tr style=\"text-align: right;\">\n",
       "      <th>Method</th>\n",
       "      <th>PI</th>\n",
       "      <th>S</th>\n",
       "      <th>SA</th>\n",
       "      <th>SP</th>\n",
       "      <th>VB</th>\n",
       "    </tr>\n",
       "    <tr>\n",
       "      <th>Type</th>\n",
       "      <th></th>\n",
       "      <th></th>\n",
       "      <th></th>\n",
       "      <th></th>\n",
       "      <th></th>\n",
       "    </tr>\n",
       "  </thead>\n",
       "  <tbody>\n",
       "    <tr>\n",
       "      <th>h</th>\n",
       "      <td>1069</td>\n",
       "      <td>6507</td>\n",
       "      <td>66</td>\n",
       "      <td>1079</td>\n",
       "      <td>728</td>\n",
       "    </tr>\n",
       "    <tr>\n",
       "      <th>t</th>\n",
       "      <td>134</td>\n",
       "      <td>723</td>\n",
       "      <td>7</td>\n",
       "      <td>143</td>\n",
       "      <td>107</td>\n",
       "    </tr>\n",
       "    <tr>\n",
       "      <th>u</th>\n",
       "      <td>361</td>\n",
       "      <td>1792</td>\n",
       "      <td>19</td>\n",
       "      <td>481</td>\n",
       "      <td>364</td>\n",
       "    </tr>\n",
       "  </tbody>\n",
       "</table>\n",
       "</div>"
      ],
      "text/plain": [
       "Method    PI     S  SA    SP   VB\n",
       "Type                             \n",
       "h       1069  6507  66  1079  728\n",
       "t        134   723   7   143  107\n",
       "u        361  1792  19   481  364"
      ]
     },
     "execution_count": 23,
     "metadata": {},
     "output_type": "execute_result"
    }
   ],
   "source": [
    "df_ct = pd.crosstab(df['Type'], df['Method'])\n",
    "df_ct"
   ]
  },
  {
   "cell_type": "markdown",
   "metadata": {},
   "source": [
    "#### **Hypothesis:**\n",
    "* Ho : The two variables are independent\n",
    "* Ha :  The two variables are dependent."
   ]
  },
  {
   "cell_type": "code",
   "execution_count": 24,
   "metadata": {},
   "outputs": [
    {
     "name": "stdout",
     "output_type": "stream",
     "text": [
      "P value: 3.183702485154384e-22\n",
      "Dependent (tolak H0)\n"
     ]
    }
   ],
   "source": [
    "from scipy.stats import chi2_contingency\n",
    "\n",
    "stat, p, dof, expected = chi2_contingency(df_ct)\n",
    "\n",
    "# conclusion\n",
    "alpha = 0.05\n",
    "print('P value:', p)\n",
    "\n",
    "if p <= alpha:\n",
    "    print('Dependent (tolak H0)')\n",
    "else:\n",
    "    print('Independent (terima H0)')"
   ]
  },
  {
   "cell_type": "markdown",
   "metadata": {},
   "source": [
    "<hr>\n",
    "\n",
    "## **Nomor 10**"
   ]
  },
  {
   "cell_type": "markdown",
   "metadata": {},
   "source": [
    "Uji hipotesis apakah rata-rata harga rumah (**Price**) antar Regionname berbeda ataukah sama!\n",
    "\n",
    "Diasumsikan persyaratan statistik parametrik terpenuhi"
   ]
  },
  {
   "cell_type": "markdown",
   "metadata": {},
   "source": [
    "**Hipotesis**:\n",
    "* Ho : μ1 = μ2 = … = μk (Rata-rata harga rumah antar Regionname sama)  \n",
    "* Ha : Setidaknya ada satu pasang Regionname yang rata-rata harga rumahnya tidak sama, tapi kita tidak tahu yang mana"
   ]
  },
  {
   "cell_type": "code",
   "execution_count": 25,
   "metadata": {},
   "outputs": [
    {
     "data": {
      "text/plain": [
       "array(['Northern Metropolitan', 'Western Metropolitan',\n",
       "       'Southern Metropolitan', 'Eastern Metropolitan',\n",
       "       'South-Eastern Metropolitan', 'Eastern Victoria',\n",
       "       'Northern Victoria', 'Western Victoria'], dtype=object)"
      ]
     },
     "execution_count": 25,
     "metadata": {},
     "output_type": "execute_result"
    }
   ],
   "source": [
    "df['Regionname'].unique()"
   ]
  },
  {
   "cell_type": "code",
   "execution_count": 26,
   "metadata": {},
   "outputs": [
    {
     "data": {
      "text/plain": [
       "F_onewayResult(statistic=284.40018651008097, pvalue=0.0)"
      ]
     },
     "execution_count": 26,
     "metadata": {},
     "output_type": "execute_result"
    }
   ],
   "source": [
    "from scipy.stats import f_oneway\n",
    "\n",
    "f_oneway(df[df['Regionname'] == 'Northern Metropolitan']['Price'],\n",
    "         df[df['Regionname'] == 'Western Metropolitan']['Price'],\n",
    "         df[df['Regionname'] == 'Southern Metropolitan']['Price'],\n",
    "         df[df['Regionname'] == 'Eastern Metropolitan']['Price'],\n",
    "         df[df['Regionname'] == 'South-Eastern Metropolitan']['Price'],\n",
    "         df[df['Regionname'] == 'Eastern Victoria']['Price'],\n",
    "         df[df['Regionname'] == 'Northern Victoria']['Price'],\n",
    "         df[df['Regionname'] == 'Western Victoria']['Price'],\n",
    "        )"
   ]
  },
  {
   "cell_type": "markdown",
   "metadata": {},
   "source": [
    "Jika p-value kurang dari sama dengan 0.05 maka cukup bukti untuk menolak Ho.\n",
    "Berarti Ha diterima ada pasangan Regionname yang perbedaan rata-rata harga rumahnya signifikan, tapi tidak tahu yang mana."
   ]
  },
  {
   "cell_type": "code",
   "execution_count": 27,
   "metadata": {},
   "outputs": [
    {
     "data": {
      "text/html": [
       "<div>\n",
       "<style scoped>\n",
       "    .dataframe tbody tr th:only-of-type {\n",
       "        vertical-align: middle;\n",
       "    }\n",
       "\n",
       "    .dataframe tbody tr th {\n",
       "        vertical-align: top;\n",
       "    }\n",
       "\n",
       "    .dataframe thead th {\n",
       "        text-align: right;\n",
       "    }\n",
       "</style>\n",
       "<table border=\"1\" class=\"dataframe\">\n",
       "  <thead>\n",
       "    <tr style=\"text-align: right;\">\n",
       "      <th></th>\n",
       "      <th>Price Mean</th>\n",
       "    </tr>\n",
       "  </thead>\n",
       "  <tbody>\n",
       "    <tr>\n",
       "      <th>Southern Metropolitan</th>\n",
       "      <td>1372963.37</td>\n",
       "    </tr>\n",
       "    <tr>\n",
       "      <th>Eastern Metropolitan</th>\n",
       "      <td>1104079.63</td>\n",
       "    </tr>\n",
       "    <tr>\n",
       "      <th>South-Eastern Metropolitan</th>\n",
       "      <td>922943.78</td>\n",
       "    </tr>\n",
       "    <tr>\n",
       "      <th>Northern Metropolitan</th>\n",
       "      <td>898171.08</td>\n",
       "    </tr>\n",
       "    <tr>\n",
       "      <th>Western Metropolitan</th>\n",
       "      <td>866420.52</td>\n",
       "    </tr>\n",
       "    <tr>\n",
       "      <th>Eastern Victoria</th>\n",
       "      <td>699980.79</td>\n",
       "    </tr>\n",
       "    <tr>\n",
       "      <th>Northern Victoria</th>\n",
       "      <td>594829.27</td>\n",
       "    </tr>\n",
       "    <tr>\n",
       "      <th>Western Victoria</th>\n",
       "      <td>397523.44</td>\n",
       "    </tr>\n",
       "  </tbody>\n",
       "</table>\n",
       "</div>"
      ],
      "text/plain": [
       "                            Price Mean\n",
       "Southern Metropolitan       1372963.37\n",
       "Eastern Metropolitan        1104079.63\n",
       "South-Eastern Metropolitan   922943.78\n",
       "Northern Metropolitan        898171.08\n",
       "Western Metropolitan         866420.52\n",
       "Eastern Victoria             699980.79\n",
       "Northern Victoria            594829.27\n",
       "Western Victoria             397523.44"
      ]
     },
     "execution_count": 27,
     "metadata": {},
     "output_type": "execute_result"
    }
   ],
   "source": [
    "values = []\n",
    "for i in df['Regionname'].unique():\n",
    "    values.append(round(df[df['Regionname']==i]['Price'].mean(), 2))\n",
    "    \n",
    "pd.DataFrame(data=values, index=df['Regionname'].unique(), columns=['Price Mean']\n",
    "            ).sort_values(by='Price Mean', ascending=False)"
   ]
  },
  {
   "cell_type": "markdown",
   "metadata": {},
   "source": [
    "<hr>\n",
    "\n",
    "## **Thank you & Keep Learning**"
   ]
  }
 ],
 "metadata": {
  "kernelspec": {
   "display_name": "Python 3 (ipykernel)",
   "language": "python",
   "name": "python3"
  },
  "language_info": {
   "codemirror_mode": {
    "name": "ipython",
    "version": 3
   },
   "file_extension": ".py",
   "mimetype": "text/x-python",
   "name": "python",
   "nbconvert_exporter": "python",
   "pygments_lexer": "ipython3",
   "version": "3.11.4"
  }
 },
 "nbformat": 4,
 "nbformat_minor": 4
}
