{
 "cells": [
  {
   "cell_type": "code",
   "execution_count": 1,
   "metadata": {
    "colab": {
     "base_uri": "https://localhost:8080/",
     "height": 72
    },
    "colab_type": "code",
    "executionInfo": {
     "elapsed": 1262,
     "status": "ok",
     "timestamp": 1594183267522,
     "user": {
      "displayName": "Fathi Muhyi",
      "photoUrl": "https://lh3.googleusercontent.com/a-/AOh14GhChUnD9lp0uYHDjzFDqClMEcljUKZtuV7ArMBsmA=s64",
      "userId": "15936908794749616962"
     },
     "user_tz": -420
    },
    "id": "vsMIwCfn-Kkk",
    "outputId": "b35b8a52-6329-45a8-cc04-d977e92b533d"
   },
   "outputs": [],
   "source": [
    "#Import the usual library\n",
    "import pandas as pd\n",
    "import numpy as np\n",
    "import matplotlib.pyplot as plt\n",
    "import seaborn as sns\n",
    "%matplotlib inline\n",
    "import random"
   ]
  },
  {
   "cell_type": "markdown",
   "metadata": {
    "colab_type": "text",
    "id": "Y0UlOX9YcWQ-"
   },
   "source": [
    "# Non-Parametric Statistics"
   ]
  },
  {
   "cell_type": "markdown",
   "metadata": {
    "colab_type": "text",
    "id": "ybrF7QMWcs1H"
   },
   "source": [
    "## Mann Whitney"
   ]
  },
  {
   "cell_type": "code",
   "execution_count": 2,
   "metadata": {
    "ExecuteTime": {
     "end_time": "2019-08-21T03:17:24.818364Z",
     "start_time": "2019-08-21T03:17:24.808426Z"
    },
    "colab": {},
    "colab_type": "code",
    "id": "R3PTZdH1dYjX"
   },
   "outputs": [],
   "source": [
    "hat = pd.concat([pd.Series(data = ['Yes', 'No', 'Yes', 'Yes', 'No', 'No', 'No','Yes','Yes', 'No','Yes','Yes','No','Yes','No','Yes','No','No','No','Yes'],name = 'Wearing Hat'),\n",
    "                pd.Series(data = [70,85,80,45,80,70,90,70,55,80,75,60,70,85,80,85,55,75,65,70], name ='Score')],axis = 1)"
   ]
  },
  {
   "cell_type": "code",
   "execution_count": 3,
   "metadata": {
    "colab": {
     "base_uri": "https://localhost:8080/",
     "height": 634
    },
    "colab_type": "code",
    "executionInfo": {
     "elapsed": 803,
     "status": "ok",
     "timestamp": 1593759345897,
     "user": {
      "displayName": "Fathi Muhyi",
      "photoUrl": "https://lh3.googleusercontent.com/a-/AOh14GhChUnD9lp0uYHDjzFDqClMEcljUKZtuV7ArMBsmA=s64",
      "userId": "15936908794749616962"
     },
     "user_tz": -420
    },
    "id": "uHKSv3TidYjd",
    "outputId": "eb9d6b24-8f8b-4616-b407-8f49d9062f48"
   },
   "outputs": [
    {
     "data": {
      "text/html": [
       "<div>\n",
       "<style scoped>\n",
       "    .dataframe tbody tr th:only-of-type {\n",
       "        vertical-align: middle;\n",
       "    }\n",
       "\n",
       "    .dataframe tbody tr th {\n",
       "        vertical-align: top;\n",
       "    }\n",
       "\n",
       "    .dataframe thead th {\n",
       "        text-align: right;\n",
       "    }\n",
       "</style>\n",
       "<table border=\"1\" class=\"dataframe\">\n",
       "  <thead>\n",
       "    <tr style=\"text-align: right;\">\n",
       "      <th></th>\n",
       "      <th>Wearing Hat</th>\n",
       "      <th>Score</th>\n",
       "    </tr>\n",
       "  </thead>\n",
       "  <tbody>\n",
       "    <tr>\n",
       "      <th>0</th>\n",
       "      <td>Yes</td>\n",
       "      <td>70</td>\n",
       "    </tr>\n",
       "    <tr>\n",
       "      <th>1</th>\n",
       "      <td>No</td>\n",
       "      <td>85</td>\n",
       "    </tr>\n",
       "    <tr>\n",
       "      <th>2</th>\n",
       "      <td>Yes</td>\n",
       "      <td>80</td>\n",
       "    </tr>\n",
       "    <tr>\n",
       "      <th>3</th>\n",
       "      <td>Yes</td>\n",
       "      <td>45</td>\n",
       "    </tr>\n",
       "    <tr>\n",
       "      <th>4</th>\n",
       "      <td>No</td>\n",
       "      <td>80</td>\n",
       "    </tr>\n",
       "    <tr>\n",
       "      <th>5</th>\n",
       "      <td>No</td>\n",
       "      <td>70</td>\n",
       "    </tr>\n",
       "    <tr>\n",
       "      <th>6</th>\n",
       "      <td>No</td>\n",
       "      <td>90</td>\n",
       "    </tr>\n",
       "    <tr>\n",
       "      <th>7</th>\n",
       "      <td>Yes</td>\n",
       "      <td>70</td>\n",
       "    </tr>\n",
       "    <tr>\n",
       "      <th>8</th>\n",
       "      <td>Yes</td>\n",
       "      <td>55</td>\n",
       "    </tr>\n",
       "    <tr>\n",
       "      <th>9</th>\n",
       "      <td>No</td>\n",
       "      <td>80</td>\n",
       "    </tr>\n",
       "    <tr>\n",
       "      <th>10</th>\n",
       "      <td>Yes</td>\n",
       "      <td>75</td>\n",
       "    </tr>\n",
       "    <tr>\n",
       "      <th>11</th>\n",
       "      <td>Yes</td>\n",
       "      <td>60</td>\n",
       "    </tr>\n",
       "    <tr>\n",
       "      <th>12</th>\n",
       "      <td>No</td>\n",
       "      <td>70</td>\n",
       "    </tr>\n",
       "    <tr>\n",
       "      <th>13</th>\n",
       "      <td>Yes</td>\n",
       "      <td>85</td>\n",
       "    </tr>\n",
       "    <tr>\n",
       "      <th>14</th>\n",
       "      <td>No</td>\n",
       "      <td>80</td>\n",
       "    </tr>\n",
       "    <tr>\n",
       "      <th>15</th>\n",
       "      <td>Yes</td>\n",
       "      <td>85</td>\n",
       "    </tr>\n",
       "    <tr>\n",
       "      <th>16</th>\n",
       "      <td>No</td>\n",
       "      <td>55</td>\n",
       "    </tr>\n",
       "    <tr>\n",
       "      <th>17</th>\n",
       "      <td>No</td>\n",
       "      <td>75</td>\n",
       "    </tr>\n",
       "    <tr>\n",
       "      <th>18</th>\n",
       "      <td>No</td>\n",
       "      <td>65</td>\n",
       "    </tr>\n",
       "    <tr>\n",
       "      <th>19</th>\n",
       "      <td>Yes</td>\n",
       "      <td>70</td>\n",
       "    </tr>\n",
       "  </tbody>\n",
       "</table>\n",
       "</div>"
      ],
      "text/plain": [
       "   Wearing Hat  Score\n",
       "0          Yes     70\n",
       "1           No     85\n",
       "2          Yes     80\n",
       "3          Yes     45\n",
       "4           No     80\n",
       "5           No     70\n",
       "6           No     90\n",
       "7          Yes     70\n",
       "8          Yes     55\n",
       "9           No     80\n",
       "10         Yes     75\n",
       "11         Yes     60\n",
       "12          No     70\n",
       "13         Yes     85\n",
       "14          No     80\n",
       "15         Yes     85\n",
       "16          No     55\n",
       "17          No     75\n",
       "18          No     65\n",
       "19         Yes     70"
      ]
     },
     "execution_count": 3,
     "metadata": {},
     "output_type": "execute_result"
    }
   ],
   "source": [
    "hat"
   ]
  },
  {
   "cell_type": "code",
   "execution_count": 4,
   "metadata": {
    "ExecuteTime": {
     "end_time": "2019-08-21T03:17:33.208836Z",
     "start_time": "2019-08-21T03:17:31.235622Z"
    },
    "colab": {
     "base_uri": "https://localhost:8080/",
     "height": 297
    },
    "colab_type": "code",
    "executionInfo": {
     "elapsed": 1595,
     "status": "ok",
     "timestamp": 1593759347289,
     "user": {
      "displayName": "Fathi Muhyi",
      "photoUrl": "https://lh3.googleusercontent.com/a-/AOh14GhChUnD9lp0uYHDjzFDqClMEcljUKZtuV7ArMBsmA=s64",
      "userId": "15936908794749616962"
     },
     "user_tz": -420
    },
    "id": "OdVXHYwwdYjg",
    "outputId": "51b2cc8c-a91c-45ea-cdde-afd3f69b27de"
   },
   "outputs": [
    {
     "data": {
      "text/plain": [
       "Text(0, 0.5, 'Frequency')"
      ]
     },
     "execution_count": 4,
     "metadata": {},
     "output_type": "execute_result"
    },
    {
     "data": {
      "image/png": "[encoded data removed]",
      "text/plain": [
       "<Figure size 432x288 with 1 Axes>"
      ]
     },
     "metadata": {},
     "output_type": "display_data"
    }
   ],
   "source": [
    "sns.set_style('darkgrid')\n",
    "sns.distplot(hat[hat['Wearing Hat'] == 'Yes']['Score'], color = 'red', label = 'Wearing Hat')\n",
    "sns.distplot(hat[hat['Wearing Hat'] == 'No']['Score'], color = 'green', label ='Not Wearing Hat')\n",
    "plt.legend()\n",
    "plt.ylabel('Frequency')"
   ]
  },
  {
   "cell_type": "markdown",
   "metadata": {
    "colab_type": "text",
    "id": "Ml8Bg7PudYjj"
   },
   "source": [
    "The distribution is seems to follow the Normal Distribution, let's try use the Independent T-Test from the Scipy"
   ]
  },
  {
   "cell_type": "code",
   "execution_count": 5,
   "metadata": {
    "colab": {
     "base_uri": "https://localhost:8080/",
     "height": 297
    },
    "colab_type": "code",
    "executionInfo": {
     "elapsed": 1420,
     "status": "ok",
     "timestamp": 1593759349375,
     "user": {
      "displayName": "Fathi Muhyi",
      "photoUrl": "https://lh3.googleusercontent.com/a-/AOh14GhChUnD9lp0uYHDjzFDqClMEcljUKZtuV7ArMBsmA=s64",
      "userId": "15936908794749616962"
     },
     "user_tz": -420
    },
    "id": "MADoo3fadYjj",
    "outputId": "c063cee2-6d9b-4cec-baf4-ff8e825d032b"
   },
   "outputs": [
    {
     "data": {
      "text/plain": [
       "<matplotlib.axes._subplots.AxesSubplot at 0x122e7ef8>"
      ]
     },
     "execution_count": 5,
     "metadata": {},
     "output_type": "execute_result"
    },
    {
     "data": {
      "image/png": "[encoded data removed]",
      "text/plain": [
       "<Figure size 432x288 with 1 Axes>"
      ]
     },
     "metadata": {},
     "output_type": "display_data"
    }
   ],
   "source": [
    "sns.boxplot(x = 'Wearing Hat', y = 'Score', data = hat)"
   ]
  },
  {
   "cell_type": "markdown",
   "metadata": {
    "colab_type": "text",
    "id": "Rs9Fa2bKdYjl"
   },
   "source": [
    "Ho : Median Popolation of Score not wearing hat = Median Popolation of Score wearing hat \n",
    "<br>\n",
    "Ha : Median Popolation of Score not wearing hat > Median Popolation of Score wearing hat"
   ]
  },
  {
   "cell_type": "code",
   "execution_count": 6,
   "metadata": {
    "ExecuteTime": {
     "end_time": "2019-08-21T03:17:40.817552Z",
     "start_time": "2019-08-21T03:17:40.809571Z"
    },
    "colab": {
     "base_uri": "https://localhost:8080/",
     "height": 52
    },
    "colab_type": "code",
    "executionInfo": {
     "elapsed": 1209,
     "status": "ok",
     "timestamp": 1593759518659,
     "user": {
      "displayName": "Fathi Muhyi",
      "photoUrl": "https://lh3.googleusercontent.com/a-/AOh14GhChUnD9lp0uYHDjzFDqClMEcljUKZtuV7ArMBsmA=s64",
      "userId": "15936908794749616962"
     },
     "user_tz": -420
    },
    "id": "BWyEcdWZdYjn",
    "outputId": "2db5c907-592c-4a17-925f-4a474c14c376"
   },
   "outputs": [
    {
     "name": "stdout",
     "output_type": "stream",
     "text": [
      "U-Statistic: 61.5\n",
      "P-Value: 0.1996116335589066\n"
     ]
    }
   ],
   "source": [
    "from scipy.stats import mannwhitneyu\n",
    "result = list(mannwhitneyu(\n",
    "    hat[hat['Wearing Hat'] == 'No']['Score'], \n",
    "    hat[hat['Wearing Hat'] == 'Yes']['Score'],\n",
    "    alternative = 'greater' # M (no hat) > M (no hat)\n",
    "))\n",
    "print('U-Statistic:', result[0])\n",
    "print('P-Value:', result[1])"
   ]
  },
  {
   "cell_type": "markdown",
   "metadata": {
    "colab_type": "text",
    "id": "Kd6L-ydBgdgw"
   },
   "source": [
    "The P-value is higher than our significant level 0.05, it means we don't have enough evidence to reject the Null Hypothesis. So, Mean Popolation Median of Score not wearing hat are still aproximately equal to Mean Popolation Median of Score wearing hat."
   ]
  }
 ],
 "metadata": {
  "colab": {
   "name": "Basic Statitsic v2.ipynb",
   "provenance": [],
   "toc_visible": true
  },
  "hide_input": false,
  "kernelspec": {
   "display_name": "Python 3",
   "language": "python",
   "name": "python3"
  },
  "language_info": {
   "codemirror_mode": {
    "name": "ipython",
    "version": 3
   },
   "file_extension": ".py",
   "mimetype": "text/x-python",
   "name": "python",
   "nbconvert_exporter": "python",
   "pygments_lexer": "ipython3",
   "version": "3.8.1"
  },
  "varInspector": {
   "cols": {
    "lenName": 16,
    "lenType": 16,
    "lenVar": 40
   },
   "kernels_config": {
    "python": {
     "delete_cmd_postfix": "",
     "delete_cmd_prefix": "del ",
     "library": "var_list.py",
     "varRefreshCmd": "print(var_dic_list())"
    },
    "r": {
     "delete_cmd_postfix": ") ",
     "delete_cmd_prefix": "rm(",
     "library": "var_list.r",
     "varRefreshCmd": "cat(var_dic_list()) "
    }
   },
   "types_to_exclude": [
    "module",
    "function",
    "builtin_function_or_method",
    "instance",
    "_Feature"
   ],
   "window_display": false
  }
 },
 "nbformat": 4,
 "nbformat_minor": 4
}
