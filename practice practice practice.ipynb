{
 "cells": [
  {
   "cell_type": "code",
   "execution_count": null,
   "id": "b6c804a4",
   "metadata": {},
   "outputs": [],
   "source": [
    "list=[2,4,7,8,3,2]\n",
    "oddlist=[2,2,2,2,1]\n",
    "        "
   ]
  },
  {
   "cell_type": "code",
   "execution_count": null,
   "id": "d91c864b",
   "metadata": {},
   "outputs": [],
   "source": [
    "def check(y):\n",
    "    for x in y:\n",
    "        if x%2!=0:\n",
    "            return \"yeaa! odd number here!\"\n",
    "        else:\n",
    "            pass\n",
    "    \n",
    "    return \"there's no odd number inside the list!\"\n",
    "\n",
    "\n",
    "def returning_even_number(y):\n",
    "    placeholder = []\n",
    "    for x in y:\n",
    "        if x%2==0:\n",
    "            placeholder.append(x)\n",
    "        else:\n",
    "            pass\n",
    "    return placeholder"
   ]
  },
  {
   "cell_type": "code",
   "execution_count": null,
   "id": "ee29e34c",
   "metadata": {},
   "outputs": [],
   "source": [
    "returning_even_number(list)"
   ]
  },
  {
   "cell_type": "code",
   "execution_count": null,
   "id": "03ce7e4a",
   "metadata": {},
   "outputs": [],
   "source": [
    "fx_price = [(\"GJ\",168.021),(\"EU\",1.012),(\"GOLD\",1912.01),(\"UJ\",148.21)]\n",
    "\n",
    "price = 0\n",
    "pair  = ''\n",
    "\n",
    "for x,y in fx_price:\n",
    "    if y>price:\n",
    "        price=y\n",
    "        pair=x\n",
    "    else:\n",
    "        pass\n",
    "\n",
    "price, pair"
   ]
  },
  {
   "cell_type": "markdown",
   "id": "9863f194",
   "metadata": {
    "scrolled": true
   },
   "source": [
    "another practice"
   ]
  },
  {
   "cell_type": "code",
   "execution_count": null,
   "id": "dd90c666",
   "metadata": {},
   "outputs": [],
   "source": [
    "import random as r\n",
    "\n",
    "x = ['','o','']\n",
    "\n",
    "def ngacak(x):\n",
    "    r.shuffle(x)\n",
    "    return x\n",
    "\n",
    "def masukintebakanlo():\n",
    "    a = ''\n",
    "    while a not in ['1','2','0']:\n",
    "        a = input('guess')\n",
    "    return int(a)\n",
    "\n",
    "def check(masukintebakanlo,ngacak):\n",
    "    if x[a] == 'o':\n",
    "        print(\"bener\")\n",
    "        print(x)\n",
    "    else:\n",
    "        print(\"salah\")\n",
    "        print(x)"
   ]
  },
  {
   "cell_type": "code",
   "execution_count": 1,
   "id": "3081ed59",
   "metadata": {},
   "outputs": [],
   "source": [
    "mix = ngacak(x)\n",
    "a = masukintebakanlo()\n",
    "\n",
    "check(a,mix)"
   ]
  },
  {
   "cell_type": "markdown",
   "id": "0020add6",
   "metadata": {},
   "source": [
    "<<<<<<<<<<<<<<<<<<<<>>>>>>>>>>>>>>>>>>>>>>>>>>>>>>"
   ]
  },
  {
   "cell_type": "code",
   "execution_count": 7,
   "id": "19326614",
   "metadata": {},
   "outputs": [],
   "source": [
    "def myfunc(*args):\n",
    "    even_numbers = []\n",
    "    for num in args:\n",
    "        if num % 2 == 0:\n",
    "            even_numbers.append(num)\n",
    "    return even_numbers\n"
   ]
  }
 ],
 "metadata": {
  "kernelspec": {
   "display_name": "Python 3 (ipykernel)",
   "language": "python",
   "name": "python3"
  },
  "language_info": {
   "codemirror_mode": {
    "name": "ipython",
    "version": 3
   },
   "file_extension": ".py",
   "mimetype": "text/x-python",
   "name": "python",
   "nbconvert_exporter": "python",
   "pygments_lexer": "ipython3",
   "version": "3.11.4"
  }
 },
 "nbformat": 4,
 "nbformat_minor": 5
}
