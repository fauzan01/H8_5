{
 "cells": [
  {
   "cell_type": "code",
   "execution_count": 12,
   "id": "b6c804a4",
   "metadata": {},
   "outputs": [],
   "source": [
    "list=[2,4,7,8,3,2]\n",
    "oddlist=[2,2,2,2,1]\n",
    "        "
   ]
  },
  {
   "cell_type": "code",
   "execution_count": 15,
   "id": "d91c864b",
   "metadata": {},
   "outputs": [],
   "source": [
    "def check(y):\n",
    "    for x in y:\n",
    "        if x%2!=0:\n",
    "            return \"yeaa! odd number here!\"\n",
    "        else:\n",
    "            pass\n",
    "    \n",
    "    return \"there's no odd number inside the list!\"\n",
    "\n",
    "\n",
    "def returning_even_number(y):\n",
    "    placeholder = []\n",
    "    for x in y:\n",
    "        if x%2==0:\n",
    "            placeholder.append(x)\n",
    "        else:\n",
    "            pass\n",
    "    return placeholder"
   ]
  },
  {
   "cell_type": "code",
   "execution_count": 16,
   "id": "ee29e34c",
   "metadata": {},
   "outputs": [
    {
     "data": {
      "text/plain": [
       "[2, 4, 8, 2]"
      ]
     },
     "execution_count": 16,
     "metadata": {},
     "output_type": "execute_result"
    }
   ],
   "source": [
    "returning_even_number(list)"
   ]
  },
  {
   "cell_type": "code",
   "execution_count": 16,
   "id": "03ce7e4a",
   "metadata": {},
   "outputs": [
    {
     "data": {
      "text/plain": [
       "(1912.01, 'GOLD')"
      ]
     },
     "execution_count": 16,
     "metadata": {},
     "output_type": "execute_result"
    }
   ],
   "source": [
    "fx_price = [(\"GJ\",168.021),(\"EU\",1.012),(\"GOLD\",1912.01),(\"UJ\",148.21)]\n",
    "\n",
    "price = 0\n",
    "pair  = ''\n",
    "\n",
    "for x,y in fx_price:\n",
    "    if y>price:\n",
    "        price=y\n",
    "        pair=x\n",
    "    else:\n",
    "        pass\n",
    "\n",
    "price, pair"
   ]
  },
  {
   "cell_type": "code",
   "execution_count": 17,
   "id": "cb5e0240",
   "metadata": {},
   "outputs": [
    {
     "data": {
      "text/plain": [
       "1.0"
      ]
     },
     "execution_count": 17,
     "metadata": {},
     "output_type": "execute_result"
    }
   ],
   "source": [
    "1/1"
   ]
  },
  {
   "cell_type": "code",
   "execution_count": 3,
   "id": "a90dea8c",
   "metadata": {},
   "outputs": [
    {
     "ename": "FileNotFoundError",
     "evalue": "[WinError 2] The system cannot find the file specified: 'path_to_new_directory'",
     "output_type": "error",
     "traceback": [
      "\u001b[1;31m---------------------------------------------------------------------------\u001b[0m",
      "\u001b[1;31mFileNotFoundError\u001b[0m                         Traceback (most recent call last)",
      "Cell \u001b[1;32mIn[3], line 3\u001b[0m\n\u001b[0;32m      1\u001b[0m \u001b[38;5;28;01mimport\u001b[39;00m \u001b[38;5;21;01mos\u001b[39;00m\n\u001b[0;32m      2\u001b[0m os\u001b[38;5;241m.\u001b[39mgetcwd()\n\u001b[1;32m----> 3\u001b[0m os\u001b[38;5;241m.\u001b[39mchdir(\u001b[38;5;124m'\u001b[39m\u001b[38;5;124mpath_to_new_directory\u001b[39m\u001b[38;5;124m'\u001b[39m)\n",
      "\u001b[1;31mFileNotFoundError\u001b[0m: [WinError 2] The system cannot find the file specified: 'path_to_new_directory'"
     ]
    }
   ],
   "source": [
    "import os\n",
    "os.getcwd()\n",
    "os.chdir('path_to_new_directory')"
   ]
  }
 ],
 "metadata": {
  "kernelspec": {
   "display_name": "Python 3 (ipykernel)",
   "language": "python",
   "name": "python3"
  },
  "language_info": {
   "codemirror_mode": {
    "name": "ipython",
    "version": 3
   },
   "file_extension": ".py",
   "mimetype": "text/x-python",
   "name": "python",
   "nbconvert_exporter": "python",
   "pygments_lexer": "ipython3",
   "version": "3.11.3"
  }
 },
 "nbformat": 4,
 "nbformat_minor": 5
}
