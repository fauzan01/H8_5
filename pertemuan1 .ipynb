{
  "cells": [
    {
      "cell_type": "code",
      "execution_count": null,
      "metadata": {
        "id": "x6c4_i0eezxL",
        "outputId": "348139e2-56d0-4759-fa6c-d947cbd62ed2"
      },
      "outputs": [
        {
          "name": "stdout",
          "output_type": "stream",
          "text": [
            "helloworld\n"
          ]
        }
      ],
      "source": [
        "print('helloworld')"
      ]
    },
    {
      "cell_type": "markdown",
      "metadata": {
        "id": "kf28ukd4ezxQ"
      },
      "source": [
        "### Integer"
      ]
    },
    {
      "cell_type": "code",
      "execution_count": null,
      "metadata": {
        "id": "uBsw_xVBezxS",
        "outputId": "79706815-127c-41f9-b9a7-4b930fcfc870"
      },
      "outputs": [
        {
          "name": "stdout",
          "output_type": "stream",
          "text": [
            "123123123123123123123123123123123123123123123124\n"
          ]
        }
      ],
      "source": [
        "print(123123123123123123123123123123123123123123123123 + 1)"
      ]
    },
    {
      "cell_type": "code",
      "execution_count": null,
      "metadata": {
        "id": "fBqpH6z2ezxS",
        "outputId": "5eefd2b3-3e4e-447f-9a80-f9ad82087998"
      },
      "outputs": [
        {
          "name": "stdout",
          "output_type": "stream",
          "text": [
            "10\n",
            "<class 'int'>\n"
          ]
        }
      ],
      "source": [
        "print(10)\n",
        "print(type(10))"
      ]
    },
    {
      "cell_type": "markdown",
      "metadata": {
        "id": "DMWJWoThezxT"
      },
      "source": [
        "### Float"
      ]
    },
    {
      "cell_type": "code",
      "execution_count": null,
      "metadata": {
        "id": "GW0PCkedezxT",
        "outputId": "1b63fa11-bf43-47f3-a327-5778a7822908"
      },
      "outputs": [
        {
          "name": "stdout",
          "output_type": "stream",
          "text": [
            "4.2\n",
            "<class 'float'>\n",
            "4.0\n",
            "0.2\n",
            "4000000.0\n",
            "0.00042\n"
          ]
        }
      ],
      "source": [
        "print(4.2)\n",
        "print(type(4.2))\n",
        "\n",
        "print(4.)\n",
        "\n",
        "print(.2)\n",
        "\n",
        "print(.4e7)\n",
        "\n",
        "print(4.2e-4)"
      ]
    },
    {
      "cell_type": "markdown",
      "metadata": {
        "id": "eSpaRD-TezxU"
      },
      "source": [
        "### String"
      ]
    },
    {
      "cell_type": "code",
      "execution_count": null,
      "metadata": {
        "id": "4w2Fkm3rezxV",
        "outputId": "91e5d05f-6ea9-4d1f-cc6f-6dd64647a7ac"
      },
      "outputs": [
        {
          "name": "stdout",
          "output_type": "stream",
          "text": [
            "Hacktiv8\n",
            "<class 'str'>\n"
          ]
        }
      ],
      "source": [
        "print(\"Hacktiv8\")\n",
        "print(type(\"Hacktiv8\"))"
      ]
    },
    {
      "cell_type": "code",
      "execution_count": null,
      "metadata": {
        "id": "86Wb94PeezxV",
        "outputId": "d8641202-ed36-4f57-d078-b10b14589d6c"
      },
      "outputs": [
        {
          "name": "stdout",
          "output_type": "stream",
          "text": [
            "1\n",
            "<class 'str'>\n"
          ]
        }
      ],
      "source": [
        "print('1')\n",
        "print(type('1'))"
      ]
    },
    {
      "cell_type": "code",
      "execution_count": null,
      "metadata": {
        "id": "ppUFJYLnezxW",
        "outputId": "981c988e-6707-4fe1-dcf9-77bfeb288642"
      },
      "outputs": [
        {
          "name": "stdout",
          "output_type": "stream",
          "text": [
            "1\n",
            "<class 'int'>\n"
          ]
        }
      ],
      "source": [
        "print(1)\n",
        "print(type(1))"
      ]
    },
    {
      "cell_type": "markdown",
      "metadata": {
        "id": "1G2hWmNDezxW"
      },
      "source": [
        "### Boolean"
      ]
    },
    {
      "cell_type": "code",
      "execution_count": null,
      "metadata": {
        "id": "25_-uaEbezxW",
        "outputId": "62501f5a-6627-463d-806b-c27646a9a806"
      },
      "outputs": [
        {
          "name": "stdout",
          "output_type": "stream",
          "text": [
            "<class 'bool'>\n",
            "<class 'bool'>\n"
          ]
        }
      ],
      "source": [
        "print(type(True))\n",
        "\n",
        "print(type(False))"
      ]
    },
    {
      "cell_type": "markdown",
      "metadata": {
        "id": "xjQyrszWezxW"
      },
      "source": [
        "### Variable Assignment\n"
      ]
    },
    {
      "cell_type": "code",
      "execution_count": null,
      "metadata": {
        "id": "XpS6A_IYezxX"
      },
      "outputs": [],
      "source": [
        "n = 300"
      ]
    },
    {
      "cell_type": "code",
      "execution_count": null,
      "metadata": {
        "id": "dSuVvcFtezxX",
        "outputId": "61559fed-10c7-4044-9ba3-2e572165621b"
      },
      "outputs": [
        {
          "name": "stdout",
          "output_type": "stream",
          "text": [
            "300\n"
          ]
        }
      ],
      "source": [
        "print(n)"
      ]
    },
    {
      "cell_type": "code",
      "execution_count": null,
      "metadata": {
        "id": "mkcLl0wLezxX",
        "outputId": "bca566e8-393a-47f6-cdb3-41ab6c229cf0"
      },
      "outputs": [
        {
          "name": "stdout",
          "output_type": "stream",
          "text": [
            "<class 'int'>\n"
          ]
        }
      ],
      "source": [
        "print(type(n))"
      ]
    },
    {
      "cell_type": "code",
      "execution_count": null,
      "metadata": {
        "id": "aWl0ySWOezxX"
      },
      "outputs": [],
      "source": [
        "n = 'Nama saya Aldo'"
      ]
    },
    {
      "cell_type": "code",
      "execution_count": null,
      "metadata": {
        "id": "04J6AizAezxY",
        "outputId": "15980551-fc63-4028-f71a-cde31b49224d"
      },
      "outputs": [
        {
          "name": "stdout",
          "output_type": "stream",
          "text": [
            "Nama saya Aldo\n"
          ]
        }
      ],
      "source": [
        "print(n)"
      ]
    },
    {
      "cell_type": "code",
      "execution_count": null,
      "metadata": {
        "id": "EAkKPiJVezxY",
        "outputId": "9e2ef92c-a300-4c28-9506-c9fc01fc0d43"
      },
      "outputs": [
        {
          "name": "stdout",
          "output_type": "stream",
          "text": [
            "<class 'str'>\n"
          ]
        }
      ],
      "source": [
        "print(type(n))"
      ]
    },
    {
      "cell_type": "code",
      "execution_count": null,
      "metadata": {
        "id": "qqvKsugXezxY",
        "outputId": "a65834af-d4c0-4086-b9e9-ccab7d9667db"
      },
      "outputs": [
        {
          "name": "stdout",
          "output_type": "stream",
          "text": [
            "1 2 3 4 5 6 7 8\n"
          ]
        }
      ],
      "source": [
        "age = 1\n",
        "Age = 2\n",
        "aGe = 3\n",
        "AGE = 4\n",
        "a_g_e = 5\n",
        "_age = 6\n",
        "age_ = 7\n",
        "_AGE_ = 8\n",
        "\n",
        "print(age, Age, aGe, AGE, a_g_e, _age, age_, _AGE_)"
      ]
    },
    {
      "cell_type": "code",
      "execution_count": null,
      "metadata": {
        "id": "Gi2GVYhIezxZ",
        "outputId": "856fa788-6b4d-4e55-af6c-db423d773b6a"
      },
      "outputs": [
        {
          "name": "stdout",
          "output_type": "stream",
          "text": [
            "7\n",
            "1\n",
            "12\n",
            "1.3333333333333333\n",
            "1\n",
            "64\n"
          ]
        }
      ],
      "source": [
        "a = 4\n",
        "b = 3\n",
        "\n",
        "print(a + b)\n",
        "print(a - b)\n",
        "print(a * b)\n",
        "print(a / b)\n",
        "print(a % b)\n",
        "print(a ** b)"
      ]
    },
    {
      "cell_type": "code",
      "execution_count": null,
      "metadata": {
        "id": "spjyX9lAezxZ",
        "outputId": "15f33740-9347-487f-e77c-82973fc91d1d"
      },
      "outputs": [
        {
          "name": "stdout",
          "output_type": "stream",
          "text": [
            "False\n",
            "True\n",
            "True\n",
            "False\n",
            "True\n",
            "True\n",
            "True\n"
          ]
        }
      ],
      "source": [
        "a = 10\n",
        "b = 20\n",
        "print(a == b) # False\n",
        "\n",
        "print(a != b) # True\n",
        "\n",
        "print(a <= b) # True\n",
        "\n",
        "print(a >= b) # False\n",
        "\n",
        "\n",
        "a = 30\n",
        "b = 30\n",
        "print(a == b) # True\n",
        "\n",
        "print(a <= b) # True\n",
        "\n",
        "print(a >= b) # True"
      ]
    },
    {
      "cell_type": "code",
      "execution_count": null,
      "metadata": {
        "id": "wdks4zTYezxZ",
        "outputId": "8d667b14-3475-476d-c867-40bfb81f8b99"
      },
      "outputs": [
        {
          "name": "stdout",
          "output_type": "stream",
          "text": [
            "foobar\n",
            "foobarbaz\n",
            "Hacktiv8 PTP\n"
          ]
        }
      ],
      "source": [
        "s = 'foo'\n",
        "t = 'bar'\n",
        "u = 'baz'\n",
        "\n",
        "print(s + t)\n",
        "\n",
        "print(s + t + u)\n",
        "\n",
        "\n",
        "print('Hacktiv8 ' + 'PTP')"
      ]
    },
    {
      "cell_type": "code",
      "execution_count": null,
      "metadata": {
        "id": "0C60Kv1uezxZ",
        "outputId": "d8243e41-7421-4ade-933d-663fa8effea9"
      },
      "outputs": [
        {
          "name": "stdout",
          "output_type": "stream",
          "text": [
            "True\n",
            "False\n"
          ]
        }
      ],
      "source": [
        "# in Operators\n",
        "\n",
        "s = 'foo'\n",
        "\n",
        "print(s in 'That food for us')\n",
        "\n",
        "print(s in 'That good for us')"
      ]
    },
    {
      "cell_type": "code",
      "execution_count": null,
      "metadata": {
        "id": "4Ke0o6FSezxa",
        "outputId": "8c9181be-5f38-4871-8c59-9d03341ba066"
      },
      "outputs": [
        {
          "name": "stdout",
          "output_type": "stream",
          "text": [
            "Hacktiv8\n",
            "hacktiv8\n",
            "hACKtiv8\n",
            "Hacktiv8\n",
            "HACKTIV8\n"
          ]
        }
      ],
      "source": [
        "# Case Conversion\n",
        "s = 'HackTIV8'\n",
        "\n",
        "# Capitalize\n",
        "print(s.capitalize())\n",
        "\n",
        "# Lower\n",
        "print(s.lower())\n",
        "\n",
        "# Swapcase\n",
        "print(s.swapcase())\n",
        "\n",
        "# Title\n",
        "print(s.title())\n",
        "\n",
        "# Uppercase\n",
        "print(s.upper())"
      ]
    },
    {
      "cell_type": "code",
      "execution_count": null,
      "metadata": {
        "id": "fW9C06rYezxa"
      },
      "outputs": [],
      "source": [
        "x = 10"
      ]
    },
    {
      "cell_type": "code",
      "execution_count": null,
      "metadata": {
        "id": "bga8s24hezxa"
      },
      "outputs": [],
      "source": [
        "x = 'oke'"
      ]
    },
    {
      "cell_type": "code",
      "execution_count": null,
      "metadata": {
        "id": "Rf6Ngy31ezxa"
      },
      "outputs": [],
      "source": [
        "x = True"
      ]
    },
    {
      "cell_type": "code",
      "execution_count": null,
      "metadata": {
        "id": "7AbT2Fdrezxa"
      },
      "outputs": [],
      "source": [
        "x = [10, 20, 30, 40]"
      ]
    },
    {
      "cell_type": "code",
      "execution_count": null,
      "metadata": {
        "id": "NKsZ1ARvezxb",
        "outputId": "a409c139-050c-4cee-c558-a160f1946a0a"
      },
      "outputs": [
        {
          "name": "stdout",
          "output_type": "stream",
          "text": [
            "[10, 20, 30, 40]\n"
          ]
        }
      ],
      "source": [
        "print(x)"
      ]
    },
    {
      "cell_type": "code",
      "execution_count": null,
      "metadata": {
        "id": "zMPNWr7-ezxb",
        "outputId": "ec9c3c62-aceb-4b72-ac8e-c7c1b9899b8f"
      },
      "outputs": [
        {
          "data": {
            "text/plain": [
              "20"
            ]
          },
          "execution_count": 27,
          "metadata": {},
          "output_type": "execute_result"
        }
      ],
      "source": [
        "x[1]"
      ]
    },
    {
      "cell_type": "code",
      "execution_count": null,
      "metadata": {
        "id": "dZ10RG96ezxb",
        "outputId": "4379084d-6650-4bc5-a220-7bd9a8e9692f"
      },
      "outputs": [
        {
          "name": "stdout",
          "output_type": "stream",
          "text": [
            "[21.42, 'foobar', 3, 4, 'bark', False, 3.14159]\n"
          ]
        }
      ],
      "source": [
        "a = [21.42, 'foobar', 3, 4, 'bark', False, 3.14159]\n",
        "\n",
        "print(a)"
      ]
    },
    {
      "cell_type": "code",
      "execution_count": null,
      "metadata": {
        "id": "XIA-l48mezxb"
      },
      "outputs": [],
      "source": [
        "a = ['foo', 'bar', 'baz', 'qux', 'quux', 'corge']"
      ]
    },
    {
      "cell_type": "code",
      "execution_count": null,
      "metadata": {
        "id": "PsLzAvOgezxb",
        "outputId": "cd97fcff-0202-442f-a337-04f35f089f61"
      },
      "outputs": [
        {
          "name": "stdout",
          "output_type": "stream",
          "text": [
            "foo\n",
            "corge\n"
          ]
        }
      ],
      "source": [
        "print(a[0])\n",
        "print(a[5])"
      ]
    },
    {
      "cell_type": "code",
      "execution_count": null,
      "metadata": {
        "id": "4UN9pEBDezxb",
        "outputId": "766b54e1-53c5-4cfd-d64d-38b2993ba28a"
      },
      "outputs": [
        {
          "name": "stdout",
          "output_type": "stream",
          "text": [
            "corge\n",
            "foo\n"
          ]
        }
      ],
      "source": [
        "print(a[-1])\n",
        "print(a[-6])"
      ]
    },
    {
      "cell_type": "code",
      "execution_count": null,
      "metadata": {
        "id": "5q7xfsLLezxc",
        "outputId": "3e33f9ae-e579-4b70-b8be-060465435b8b"
      },
      "outputs": [
        {
          "name": "stdout",
          "output_type": "stream",
          "text": [
            "corge\n",
            "foo\n"
          ]
        }
      ],
      "source": [
        "print(a[5])\n",
        "print(a[0])"
      ]
    },
    {
      "cell_type": "code",
      "execution_count": null,
      "metadata": {
        "id": "zVeONkbAezxc",
        "outputId": "675455bf-a2e5-4bb5-abb8-80c60dd0f813"
      },
      "outputs": [
        {
          "name": "stdout",
          "output_type": "stream",
          "text": [
            "['foo', 'bar', 'baz', 'qux', 'quux', 'corge']\n",
            "['foo', 'bar', 'baz', 40, 'quux', True]\n"
          ]
        }
      ],
      "source": [
        "a = ['foo', 'bar', 'baz', 'qux', 'quux', 'corge']\n",
        "\n",
        "print(a)\n",
        "\n",
        "a[3] = 40\n",
        "a[-1] = True\n",
        "\n",
        "print(a)"
      ]
    },
    {
      "cell_type": "code",
      "execution_count": null,
      "metadata": {
        "id": "-eSktevjezxc"
      },
      "outputs": [],
      "source": [
        "del a[3]"
      ]
    },
    {
      "cell_type": "code",
      "execution_count": null,
      "metadata": {
        "id": "0YuDUHfSezxd",
        "outputId": "7350f1f3-88f1-4ee4-8c1b-f419056a6f02"
      },
      "outputs": [
        {
          "data": {
            "text/plain": [
              "['foo', 'bar', 10, 'quux', 20]"
            ]
          },
          "execution_count": 37,
          "metadata": {},
          "output_type": "execute_result"
        }
      ],
      "source": [
        "a"
      ]
    },
    {
      "cell_type": "code",
      "execution_count": null,
      "metadata": {
        "id": "L2-5AA32ezxe",
        "outputId": "8451bcfc-829f-435e-c146-8ede328aae7e"
      },
      "outputs": [
        {
          "name": "stdout",
          "output_type": "stream",
          "text": [
            "['bar', 'baz', 'qux']\n",
            "['foo', 1.1, 2.2, 3.3, 4.4, 5.5, 'quux', 'corge']\n"
          ]
        }
      ],
      "source": [
        "a = ['foo', 'bar', 'baz', 'qux', 'quux', 'corge']\n",
        "\n",
        "print(a[1:4])\n",
        "\n",
        "a[1:4] = [1.1, 2.2, 3.3, 4.4, 5.5]\n",
        "\n",
        "print(a)"
      ]
    },
    {
      "cell_type": "markdown",
      "metadata": {
        "id": "GeiTWjFCezxf"
      },
      "source": [
        "### Collection Data Type\n",
        "\n",
        "1. List []\n",
        "2. Tuple ()\n",
        "3. Dictionary {}\n",
        "4. Set {}"
      ]
    },
    {
      "cell_type": "code",
      "execution_count": null,
      "metadata": {
        "id": "594L9qydezxf"
      },
      "outputs": [],
      "source": [
        "x = (2, 4, 5)"
      ]
    },
    {
      "cell_type": "code",
      "execution_count": null,
      "metadata": {
        "id": "-tJ6ewGyezxf",
        "outputId": "fc81b2e1-6cc9-45a2-bea8-53011808d3a0"
      },
      "outputs": [
        {
          "data": {
            "text/plain": [
              "5"
            ]
          },
          "execution_count": 46,
          "metadata": {},
          "output_type": "execute_result"
        }
      ],
      "source": [
        "x[-1]"
      ]
    },
    {
      "cell_type": "code",
      "execution_count": null,
      "metadata": {
        "id": "R5qSwqt7ezxf",
        "outputId": "b8703c67-e5d6-49c5-84a1-bdf5651e4b99"
      },
      "outputs": [
        {
          "ename": "TypeError",
          "evalue": "'tuple' object does not support item assignment",
          "output_type": "error",
          "traceback": [
            "\u001b[1;31m---------------------------------------------------------------------------\u001b[0m",
            "\u001b[1;31mTypeError\u001b[0m                                 Traceback (most recent call last)",
            "Cell \u001b[1;32mIn[44], line 1\u001b[0m\n\u001b[1;32m----> 1\u001b[0m x[\u001b[39m1\u001b[39;49m] \u001b[39m=\u001b[39m \u001b[39m18\u001b[39m\n",
            "\u001b[1;31mTypeError\u001b[0m: 'tuple' object does not support item assignment"
          ]
        }
      ],
      "source": [
        "x[1] = 18"
      ]
    },
    {
      "cell_type": "code",
      "execution_count": null,
      "metadata": {
        "id": "DrzeoUeGezxg"
      },
      "outputs": [],
      "source": [
        "dct = {'kesatu' : 'saya', 'kedua' : 'bernama'}"
      ]
    },
    {
      "cell_type": "code",
      "execution_count": null,
      "metadata": {
        "id": "71-kngyrezxg",
        "outputId": "44a2c60c-c072-48e1-80ec-9454247ab943"
      },
      "outputs": [
        {
          "data": {
            "text/plain": [
              "'bernama'"
            ]
          },
          "execution_count": 50,
          "metadata": {},
          "output_type": "execute_result"
        }
      ],
      "source": [
        "dct['kedua']"
      ]
    },
    {
      "cell_type": "code",
      "execution_count": null,
      "metadata": {
        "id": "kg9hmYgRezxg"
      },
      "outputs": [],
      "source": [
        "y = {1, 1, 5, 5, 2, 4}"
      ]
    },
    {
      "cell_type": "code",
      "execution_count": null,
      "metadata": {
        "id": "DwfIZO3cezxg",
        "outputId": "b043137c-a926-44f1-aa68-e81a88bebeb4"
      },
      "outputs": [
        {
          "data": {
            "text/plain": [
              "{1, 2, 4, 5}"
            ]
          },
          "execution_count": 52,
          "metadata": {},
          "output_type": "execute_result"
        }
      ],
      "source": [
        "y"
      ]
    },
    {
      "cell_type": "code",
      "execution_count": null,
      "metadata": {
        "id": "5ingMJgoezxg"
      },
      "outputs": [],
      "source": []
    }
  ],
  "metadata": {
    "kernelspec": {
      "display_name": "Python 3",
      "language": "python",
      "name": "python3"
    },
    "language_info": {
      "codemirror_mode": {
        "name": "ipython",
        "version": 3
      },
      "file_extension": ".py",
      "mimetype": "text/x-python",
      "name": "python",
      "nbconvert_exporter": "python",
      "pygments_lexer": "ipython3",
      "version": "3.11.4"
    },
    "orig_nbformat": 4,
    "colab": {
      "provenance": []
    }
  },
  "nbformat": 4,
  "nbformat_minor": 0
}