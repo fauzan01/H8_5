{
 "cells": [
  {
   "cell_type": "code",
   "execution_count": 1,
   "metadata": {
    "colab": {
     "base_uri": "https://localhost:8080/",
     "height": 72
    },
    "colab_type": "code",
    "executionInfo": {
     "elapsed": 1262,
     "status": "ok",
     "timestamp": 1594183267522,
     "user": {
      "displayName": "Fathi Muhyi",
      "photoUrl": "https://lh3.googleusercontent.com/a-/AOh14GhChUnD9lp0uYHDjzFDqClMEcljUKZtuV7ArMBsmA=s64",
      "userId": "15936908794749616962"
     },
     "user_tz": -420
    },
    "id": "vsMIwCfn-Kkk",
    "outputId": "b35b8a52-6329-45a8-cc04-d977e92b533d"
   },
   "outputs": [],
   "source": [
    "#Import the usual library\n",
    "import pandas as pd\n",
    "import numpy as np\n",
    "import matplotlib.pyplot as plt\n",
    "import seaborn as sns\n",
    "%matplotlib inline\n",
    "import random"
   ]
  },
  {
   "cell_type": "markdown",
   "metadata": {
    "colab_type": "text",
    "id": "E-3oXbJq-Kls"
   },
   "source": [
    "# Inferential Statistics"
   ]
  },
  {
   "cell_type": "markdown",
   "metadata": {
    "colab_type": "text",
    "id": "Glg7ECfR-Klt"
   },
   "source": [
    "1. T test single population mean\n",
    "1. T test independence double population mean\n",
    "    1. equal variance\n",
    "    1. non equal variance\n",
    "1. T test paired \n",
    "1. F test for more than two population mean\n",
    "1. Proportion Test"
   ]
  },
  {
   "cell_type": "markdown",
   "metadata": {
    "colab_type": "text",
    "id": "suKndNIW-1z3"
   },
   "source": [
    "## Proportion one population"
   ]
  },
  {
   "cell_type": "markdown",
   "metadata": {
    "colab_type": "text",
    "id": "L-kfSSsiW_oR"
   },
   "source": [
    "An newly launched online store want to test whether their conversion rate is greater than 50% or not. So they gathered 1000 visitor data randomly and observed whether they are buying or not. As a Data Scientist you are asked to perform a hypothesis testing whether their conversion rate is greater than 50%?"
   ]
  },
  {
   "cell_type": "code",
   "execution_count": 2,
   "metadata": {
    "colab": {},
    "colab_type": "code",
    "id": "_PUELMXw-qX-"
   },
   "outputs": [],
   "source": [
    "from statsmodels.stats.proportion import proportions_ztest\n",
    "import pandas as pd\n",
    "import numpy as np"
   ]
  },
  {
   "cell_type": "code",
   "execution_count": 3,
   "metadata": {
    "colab": {},
    "colab_type": "code",
    "id": "1EI7QWLBAKgv"
   },
   "outputs": [],
   "source": [
    "visitor_data = np.array(['buying','buying','no buying','buying','no buying','buying','no buying','buying','buying','no buying','buying','buying','buying','no buying','no buying','no buying'])\n",
    "visitor_data_encoded = np.where(visitor_data == 'buying',1,0)"
   ]
  },
  {
   "cell_type": "code",
   "execution_count": 4,
   "metadata": {
    "colab": {
     "base_uri": "https://localhost:8080/"
    },
    "colab_type": "code",
    "executionInfo": {
     "elapsed": 11694,
     "status": "ok",
     "timestamp": 1593758202649,
     "user": {
      "displayName": "Fathi Muhyi",
      "photoUrl": "https://lh3.googleusercontent.com/a-/AOh14GhChUnD9lp0uYHDjzFDqClMEcljUKZtuV7ArMBsmA=s64",
      "userId": "15936908794749616962"
     },
     "user_tz": -420
    },
    "id": "SImPcvwZAhIJ",
    "outputId": "772584fd-6d92-4897-f1cd-0404aba9770d"
   },
   "outputs": [
    {
     "name": "stdout",
     "output_type": "stream",
     "text": [
      "the succes rate or conversion rate is 0.5625\n"
     ]
    }
   ],
   "source": [
    "n_succes = np.sum(visitor_data_encoded) \n",
    "n = len(visitor_data_encoded)\n",
    "success_rate = n_succes/n\n",
    "print('the succes rate or conversion rate is',success_rate)"
   ]
  },
  {
   "cell_type": "markdown",
   "metadata": {
    "colab_type": "text",
    "id": "gjBU_qWUBUtA"
   },
   "source": [
    "Ho : p = 0.5\n",
    "<br>\n",
    "Ha : p > 0.5 (is the conversion rate is higher than 50%)"
   ]
  },
  {
   "cell_type": "code",
   "execution_count": 5,
   "metadata": {
    "colab": {},
    "colab_type": "code",
    "id": "79liwvKs-qbH"
   },
   "outputs": [],
   "source": [
    "z_stat, p_value = proportions_ztest(n_succes, n, 0.5)"
   ]
  },
  {
   "cell_type": "code",
   "execution_count": 6,
   "metadata": {
    "colab": {
     "base_uri": "https://localhost:8080/"
    },
    "colab_type": "code",
    "executionInfo": {
     "elapsed": 11686,
     "status": "ok",
     "timestamp": 1593758202651,
     "user": {
      "displayName": "Fathi Muhyi",
      "photoUrl": "https://lh3.googleusercontent.com/a-/AOh14GhChUnD9lp0uYHDjzFDqClMEcljUKZtuV7ArMBsmA=s64",
      "userId": "15936908794749616962"
     },
     "user_tz": -420
    },
    "id": "YR_XqsA_-qdt",
    "outputId": "d79e48c7-018c-4c64-a631-45a1f91023f9"
   },
   "outputs": [
    {
     "name": "stdout",
     "output_type": "stream",
     "text": [
      "p-value 0.6142946646634824\n"
     ]
    }
   ],
   "source": [
    "print('p-value',p_value)"
   ]
  },
  {
   "cell_type": "markdown",
   "metadata": {
    "colab_type": "text",
    "id": "zQVAyJ7ICA1u"
   },
   "source": [
    "p-value is greater than 0.05, with significant level 5% there is not enouhg evidence that the conversion rate is greater than 50%. "
   ]
  },
  {
   "cell_type": "markdown",
   "metadata": {
    "colab_type": "text",
    "id": "6uHzhfgtCT9W"
   },
   "source": [
    "## Proportion Two Population : Use Case A/B testing categorical measurement"
   ]
  },
  {
   "cell_type": "markdown",
   "metadata": {
    "colab_type": "text",
    "id": "IBgkrVIlXJdK"
   },
   "source": [
    "A few months later the online store launched a new web design. They randomly assign visitor to layout A or layout B and 1000 for each design. You are asked again to perform hypothesis testing whether the conversion rate is increasing or not ?"
   ]
  },
  {
   "cell_type": "code",
   "execution_count": 7,
   "metadata": {
    "colab": {},
    "colab_type": "code",
    "id": "d18bQUSYFwM1"
   },
   "outputs": [],
   "source": [
    "visitor_data_before = np.random.binomial(1, 0.5, 1000)\n",
    "visitor_data_after = np.random.binomial(1, 0.7, 1000)\n",
    "visitor_data_before = np.where(visitor_data_before == 1, 'buying','no buying')\n",
    "visitor_data_after = np.where(visitor_data_after == 1,'buying','no buying')"
   ]
  },
  {
   "cell_type": "code",
   "execution_count": 8,
   "metadata": {
    "colab": {},
    "colab_type": "code",
    "id": "ayYXxFjxGbPE"
   },
   "outputs": [],
   "source": [
    "df_before = pd.DataFrame({\n",
    "    'layout':'old layout',\n",
    "    'conversion': visitor_data_before\n",
    "})\n",
    "\n",
    "df_after = pd.DataFrame({\n",
    "    'layout':'new layout',\n",
    "    'conversion': visitor_data_after    \n",
    "})"
   ]
  },
  {
   "cell_type": "code",
   "execution_count": 9,
   "metadata": {
    "colab": {
     "base_uri": "https://localhost:8080/"
    },
    "colab_type": "code",
    "executionInfo": {
     "elapsed": 11678,
     "status": "ok",
     "timestamp": 1593758202656,
     "user": {
      "displayName": "Fathi Muhyi",
      "photoUrl": "https://lh3.googleusercontent.com/a-/AOh14GhChUnD9lp0uYHDjzFDqClMEcljUKZtuV7ArMBsmA=s64",
      "userId": "15936908794749616962"
     },
     "user_tz": -420
    },
    "id": "ssLXsDZdHYcX",
    "outputId": "2e1ff01e-d65a-45bc-b437-0f1cc09435f5"
   },
   "outputs": [
    {
     "data": {
      "text/html": [
       "<div>\n",
       "<style scoped>\n",
       "    .dataframe tbody tr th:only-of-type {\n",
       "        vertical-align: middle;\n",
       "    }\n",
       "\n",
       "    .dataframe tbody tr th {\n",
       "        vertical-align: top;\n",
       "    }\n",
       "\n",
       "    .dataframe thead th {\n",
       "        text-align: right;\n",
       "    }\n",
       "</style>\n",
       "<table border=\"1\" class=\"dataframe\">\n",
       "  <thead>\n",
       "    <tr style=\"text-align: right;\">\n",
       "      <th></th>\n",
       "      <th>layout</th>\n",
       "      <th>conversion</th>\n",
       "    </tr>\n",
       "  </thead>\n",
       "  <tbody>\n",
       "    <tr>\n",
       "      <th>0</th>\n",
       "      <td>old layout</td>\n",
       "      <td>no buying</td>\n",
       "    </tr>\n",
       "    <tr>\n",
       "      <th>1</th>\n",
       "      <td>old layout</td>\n",
       "      <td>no buying</td>\n",
       "    </tr>\n",
       "    <tr>\n",
       "      <th>2</th>\n",
       "      <td>old layout</td>\n",
       "      <td>no buying</td>\n",
       "    </tr>\n",
       "    <tr>\n",
       "      <th>3</th>\n",
       "      <td>old layout</td>\n",
       "      <td>buying</td>\n",
       "    </tr>\n",
       "    <tr>\n",
       "      <th>4</th>\n",
       "      <td>old layout</td>\n",
       "      <td>buying</td>\n",
       "    </tr>\n",
       "    <tr>\n",
       "      <th>...</th>\n",
       "      <td>...</td>\n",
       "      <td>...</td>\n",
       "    </tr>\n",
       "    <tr>\n",
       "      <th>995</th>\n",
       "      <td>new layout</td>\n",
       "      <td>no buying</td>\n",
       "    </tr>\n",
       "    <tr>\n",
       "      <th>996</th>\n",
       "      <td>new layout</td>\n",
       "      <td>buying</td>\n",
       "    </tr>\n",
       "    <tr>\n",
       "      <th>997</th>\n",
       "      <td>new layout</td>\n",
       "      <td>no buying</td>\n",
       "    </tr>\n",
       "    <tr>\n",
       "      <th>998</th>\n",
       "      <td>new layout</td>\n",
       "      <td>buying</td>\n",
       "    </tr>\n",
       "    <tr>\n",
       "      <th>999</th>\n",
       "      <td>new layout</td>\n",
       "      <td>buying</td>\n",
       "    </tr>\n",
       "  </tbody>\n",
       "</table>\n",
       "<p>2000 rows × 2 columns</p>\n",
       "</div>"
      ],
      "text/plain": [
       "         layout conversion\n",
       "0    old layout  no buying\n",
       "1    old layout  no buying\n",
       "2    old layout  no buying\n",
       "3    old layout     buying\n",
       "4    old layout     buying\n",
       "..          ...        ...\n",
       "995  new layout  no buying\n",
       "996  new layout     buying\n",
       "997  new layout  no buying\n",
       "998  new layout     buying\n",
       "999  new layout     buying\n",
       "\n",
       "[2000 rows x 2 columns]"
      ]
     },
     "execution_count": 9,
     "metadata": {},
     "output_type": "execute_result"
    }
   ],
   "source": [
    "df_full = df_before.append(df_after)\n",
    "df_full"
   ]
  },
  {
   "cell_type": "code",
   "execution_count": 10,
   "metadata": {
    "colab": {
     "base_uri": "https://localhost:8080/"
    },
    "colab_type": "code",
    "executionInfo": {
     "elapsed": 11672,
     "status": "ok",
     "timestamp": 1593758202657,
     "user": {
      "displayName": "Fathi Muhyi",
      "photoUrl": "https://lh3.googleusercontent.com/a-/AOh14GhChUnD9lp0uYHDjzFDqClMEcljUKZtuV7ArMBsmA=s64",
      "userId": "15936908794749616962"
     },
     "user_tz": -420
    },
    "id": "575-4Q9RWa8d",
    "outputId": "1034e1f4-3f14-49c1-d84d-4150f50276e9"
   },
   "outputs": [
    {
     "data": {
      "text/html": [
       "<div>\n",
       "<style scoped>\n",
       "    .dataframe tbody tr th:only-of-type {\n",
       "        vertical-align: middle;\n",
       "    }\n",
       "\n",
       "    .dataframe tbody tr th {\n",
       "        vertical-align: top;\n",
       "    }\n",
       "\n",
       "    .dataframe thead th {\n",
       "        text-align: right;\n",
       "    }\n",
       "</style>\n",
       "<table border=\"1\" class=\"dataframe\">\n",
       "  <thead>\n",
       "    <tr style=\"text-align: right;\">\n",
       "      <th>conversion</th>\n",
       "      <th>buying</th>\n",
       "      <th>no buying</th>\n",
       "    </tr>\n",
       "    <tr>\n",
       "      <th>layout</th>\n",
       "      <th></th>\n",
       "      <th></th>\n",
       "    </tr>\n",
       "  </thead>\n",
       "  <tbody>\n",
       "    <tr>\n",
       "      <th>new layout</th>\n",
       "      <td>677</td>\n",
       "      <td>323</td>\n",
       "    </tr>\n",
       "    <tr>\n",
       "      <th>old layout</th>\n",
       "      <td>522</td>\n",
       "      <td>478</td>\n",
       "    </tr>\n",
       "  </tbody>\n",
       "</table>\n",
       "</div>"
      ],
      "text/plain": [
       "conversion  buying  no buying\n",
       "layout                       \n",
       "new layout     677        323\n",
       "old layout     522        478"
      ]
     },
     "execution_count": 10,
     "metadata": {},
     "output_type": "execute_result"
    }
   ],
   "source": [
    "pd.crosstab(df_full['layout'], df_full['conversion'])"
   ]
  },
  {
   "cell_type": "code",
   "execution_count": 11,
   "metadata": {
    "colab": {
     "base_uri": "https://localhost:8080/"
    },
    "colab_type": "code",
    "executionInfo": {
     "elapsed": 11664,
     "status": "ok",
     "timestamp": 1593758202657,
     "user": {
      "displayName": "Fathi Muhyi",
      "photoUrl": "https://lh3.googleusercontent.com/a-/AOh14GhChUnD9lp0uYHDjzFDqClMEcljUKZtuV7ArMBsmA=s64",
      "userId": "15936908794749616962"
     },
     "user_tz": -420
    },
    "id": "jfsVMat2WkgN",
    "outputId": "50bf2df9-ac53-41e1-ee06-8a11e2f9a4eb"
   },
   "outputs": [
    {
     "data": {
      "text/html": [
       "<div>\n",
       "<style scoped>\n",
       "    .dataframe tbody tr th:only-of-type {\n",
       "        vertical-align: middle;\n",
       "    }\n",
       "\n",
       "    .dataframe tbody tr th {\n",
       "        vertical-align: top;\n",
       "    }\n",
       "\n",
       "    .dataframe thead th {\n",
       "        text-align: right;\n",
       "    }\n",
       "</style>\n",
       "<table border=\"1\" class=\"dataframe\">\n",
       "  <thead>\n",
       "    <tr style=\"text-align: right;\">\n",
       "      <th>conversion</th>\n",
       "      <th>buying</th>\n",
       "      <th>no buying</th>\n",
       "    </tr>\n",
       "    <tr>\n",
       "      <th>layout</th>\n",
       "      <th></th>\n",
       "      <th></th>\n",
       "    </tr>\n",
       "  </thead>\n",
       "  <tbody>\n",
       "    <tr>\n",
       "      <th>new layout</th>\n",
       "      <td>0.677</td>\n",
       "      <td>0.323</td>\n",
       "    </tr>\n",
       "    <tr>\n",
       "      <th>old layout</th>\n",
       "      <td>0.522</td>\n",
       "      <td>0.478</td>\n",
       "    </tr>\n",
       "  </tbody>\n",
       "</table>\n",
       "</div>"
      ],
      "text/plain": [
       "conversion  buying  no buying\n",
       "layout                       \n",
       "new layout   0.677      0.323\n",
       "old layout   0.522      0.478"
      ]
     },
     "execution_count": 11,
     "metadata": {},
     "output_type": "execute_result"
    }
   ],
   "source": [
    "pd.crosstab(df_full['layout'], df_full['conversion'], normalize = 0)"
   ]
  },
  {
   "cell_type": "code",
   "execution_count": 12,
   "metadata": {
    "colab": {
     "base_uri": "https://localhost:8080/"
    },
    "colab_type": "code",
    "executionInfo": {
     "elapsed": 11658,
     "status": "ok",
     "timestamp": 1593758202658,
     "user": {
      "displayName": "Fathi Muhyi",
      "photoUrl": "https://lh3.googleusercontent.com/a-/AOh14GhChUnD9lp0uYHDjzFDqClMEcljUKZtuV7ArMBsmA=s64",
      "userId": "15936908794749616962"
     },
     "user_tz": -420
    },
    "id": "OqGbnDWmWout",
    "outputId": "ceeed986-0e0c-4d28-fd1f-3aa74d634cf9"
   },
   "outputs": [
    {
     "data": {
      "text/plain": [
       "<matplotlib.axes._subplots.AxesSubplot at 0x116984a8>"
      ]
     },
     "execution_count": 12,
     "metadata": {},
     "output_type": "execute_result"
    },
    {
     "data": {
      "image/png": "[encoded data removed]",
      "text/plain": [
       "<Figure size 432x288 with 1 Axes>"
      ]
     },
     "metadata": {
      "needs_background": "light"
     },
     "output_type": "display_data"
    }
   ],
   "source": [
    "pd.crosstab(df_full['layout'], df_full['conversion'], normalize = 0).plot(kind='bar')"
   ]
  },
  {
   "cell_type": "code",
   "execution_count": 13,
   "metadata": {
    "colab": {
     "base_uri": "https://localhost:8080/"
    },
    "colab_type": "code",
    "executionInfo": {
     "elapsed": 11651,
     "status": "ok",
     "timestamp": 1593758202659,
     "user": {
      "displayName": "Fathi Muhyi",
      "photoUrl": "https://lh3.googleusercontent.com/a-/AOh14GhChUnD9lp0uYHDjzFDqClMEcljUKZtuV7ArMBsmA=s64",
      "userId": "15936908794749616962"
     },
     "user_tz": -420
    },
    "id": "CGL1sSn1CWyX",
    "outputId": "a878ea42-a2e1-4533-e9fd-012d70be59c6"
   },
   "outputs": [
    {
     "name": "stdout",
     "output_type": "stream",
     "text": [
      "the conversion rate before change the web layout is 0.522\n"
     ]
    }
   ],
   "source": [
    "n_succes_before = len(df_full[(df_full['layout']=='old layout')&(df_full['conversion']=='buying')]) \n",
    "n_before = len(df_full[(df_full['layout']=='old layout')])\n",
    "success_rate_before = n_succes_before/n_before\n",
    "print('the conversion rate before change the web layout is',success_rate_before)"
   ]
  },
  {
   "cell_type": "code",
   "execution_count": 14,
   "metadata": {
    "colab": {
     "base_uri": "https://localhost:8080/"
    },
    "colab_type": "code",
    "executionInfo": {
     "elapsed": 11645,
     "status": "ok",
     "timestamp": 1593758202660,
     "user": {
      "displayName": "Fathi Muhyi",
      "photoUrl": "https://lh3.googleusercontent.com/a-/AOh14GhChUnD9lp0uYHDjzFDqClMEcljUKZtuV7ArMBsmA=s64",
      "userId": "15936908794749616962"
     },
     "user_tz": -420
    },
    "id": "Vzm19qr2CW1b",
    "outputId": "8eb24aca-e971-453e-a9ce-8a4e1e3727dc"
   },
   "outputs": [
    {
     "name": "stdout",
     "output_type": "stream",
     "text": [
      "the conversion rate after change the web layout is 0.677\n"
     ]
    }
   ],
   "source": [
    "n_succes_after = len(df_full[(df_full['layout']=='new layout')&(df_full['conversion']=='buying')])\n",
    "n_after = len(df_full[(df_full['layout']=='new layout')])\n",
    "success_rate_after = n_succes_after/n_after\n",
    "print('the conversion rate after change the web layout is',success_rate_after)"
   ]
  },
  {
   "cell_type": "markdown",
   "metadata": {
    "colab_type": "text",
    "id": "wWidjzffDXUA"
   },
   "source": [
    "Ho : p-after = p-before\n",
    "<br>\n",
    "Ha : p-after > p-before (the conversion rate after change the web layout is increasing)\n",
    "<br>\n",
    "or\n",
    "<br>\n",
    "Ho: Amazon.com visitors that receive Layout B will not have higher end-of-visit conversion rates compares to visitors that receive Layout A​\n",
    "​<br>\n",
    "Ha: Amazon.com visitors that receive Layout B will have higher end-of-visit conversion rates compared to visitors that receive layout A​\n"
   ]
  },
  {
   "cell_type": "code",
   "execution_count": 15,
   "metadata": {
    "colab": {},
    "colab_type": "code",
    "id": "ApkKY6XtDWmA"
   },
   "outputs": [],
   "source": [
    "count = np.array([n_succes_before,n_succes_after])\n",
    "n_obs = np.array([n_before,n_after])"
   ]
  },
  {
   "cell_type": "code",
   "execution_count": 16,
   "metadata": {
    "colab": {},
    "colab_type": "code",
    "id": "VLExCnF2DWvH"
   },
   "outputs": [],
   "source": [
    "z_stat, p_value = proportions_ztest(count, n_obs)"
   ]
  },
  {
   "cell_type": "code",
   "execution_count": 17,
   "metadata": {
    "colab": {
     "base_uri": "https://localhost:8080/"
    },
    "colab_type": "code",
    "executionInfo": {
     "elapsed": 11635,
     "status": "ok",
     "timestamp": 1593758202662,
     "user": {
      "displayName": "Fathi Muhyi",
      "photoUrl": "https://lh3.googleusercontent.com/a-/AOh14GhChUnD9lp0uYHDjzFDqClMEcljUKZtuV7ArMBsmA=s64",
      "userId": "15936908794749616962"
     },
     "user_tz": -420
    },
    "id": "CfjpITFnExhH",
    "outputId": "b9844729-9d8c-4ea7-b876-610004a4487f"
   },
   "outputs": [
    {
     "name": "stdout",
     "output_type": "stream",
     "text": [
      "0.00000\n"
     ]
    }
   ],
   "source": [
    "print('{0:0.5f}'.format(p_value))"
   ]
  },
  {
   "cell_type": "markdown",
   "metadata": {
    "colab_type": "text",
    "id": "m4_IvGYtJEOp"
   },
   "source": [
    "p-value is lower than 0.05, with significant level 5% there is enough evidence that Amazon.com visitors that receive Layout B will have higher end-of-visit conversion rates compared to visitors that receive layout A​\n"
   ]
  }
 ],
 "metadata": {
  "colab": {
   "name": "Basic Statitsic v2.ipynb",
   "provenance": [],
   "toc_visible": true
  },
  "hide_input": false,
  "kernelspec": {
   "display_name": "Python 3",
   "language": "python",
   "name": "python3"
  },
  "language_info": {
   "codemirror_mode": {
    "name": "ipython",
    "version": 3
   },
   "file_extension": ".py",
   "mimetype": "text/x-python",
   "name": "python",
   "nbconvert_exporter": "python",
   "pygments_lexer": "ipython3",
   "version": "3.8.1"
  },
  "varInspector": {
   "cols": {
    "lenName": 16,
    "lenType": 16,
    "lenVar": 40
   },
   "kernels_config": {
    "python": {
     "delete_cmd_postfix": "",
     "delete_cmd_prefix": "del ",
     "library": "var_list.py",
     "varRefreshCmd": "print(var_dic_list())"
    },
    "r": {
     "delete_cmd_postfix": ") ",
     "delete_cmd_prefix": "rm(",
     "library": "var_list.r",
     "varRefreshCmd": "cat(var_dic_list()) "
    }
   },
   "types_to_exclude": [
    "module",
    "function",
    "builtin_function_or_method",
    "instance",
    "_Feature"
   ],
   "window_display": false
  }
 },
 "nbformat": 4,
 "nbformat_minor": 4
}
