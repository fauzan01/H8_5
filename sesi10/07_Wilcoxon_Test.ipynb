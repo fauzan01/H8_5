{
 "cells": [
  {
   "cell_type": "code",
   "execution_count": 1,
   "metadata": {
    "colab": {
     "base_uri": "https://localhost:8080/",
     "height": 72
    },
    "colab_type": "code",
    "executionInfo": {
     "elapsed": 1262,
     "status": "ok",
     "timestamp": 1594183267522,
     "user": {
      "displayName": "Fathi Muhyi",
      "photoUrl": "https://lh3.googleusercontent.com/a-/AOh14GhChUnD9lp0uYHDjzFDqClMEcljUKZtuV7ArMBsmA=s64",
      "userId": "15936908794749616962"
     },
     "user_tz": -420
    },
    "id": "vsMIwCfn-Kkk",
    "outputId": "b35b8a52-6329-45a8-cc04-d977e92b533d"
   },
   "outputs": [],
   "source": [
    "#Import the usual library\n",
    "import pandas as pd\n",
    "import numpy as np\n",
    "import matplotlib.pyplot as plt\n",
    "import seaborn as sns\n",
    "%matplotlib inline\n",
    "import random"
   ]
  },
  {
   "cell_type": "markdown",
   "metadata": {
    "colab_type": "text",
    "id": "f9cMpynAcvyE"
   },
   "source": [
    "## Wilcoxon"
   ]
  },
  {
   "cell_type": "markdown",
   "metadata": {
    "colab_type": "text",
    "id": "wAgJ0qXcfX2r"
   },
   "source": [
    "reaction time on driving skill before and while using cell phone"
   ]
  },
  {
   "cell_type": "code",
   "execution_count": 2,
   "metadata": {
    "colab": {},
    "colab_type": "code",
    "id": "rOo-ztbcfX2v"
   },
   "outputs": [],
   "source": [
    "with_cell_phone = [604,556,540,522,469,544,513,470,556,531,599,537,619,536,554,467]\n",
    "without_cell_phone = [636,623,615,672,601,600,542,554,543,520,609,559,595,565,573,554]\n",
    "\n",
    "df_paired = pd.DataFrame({\n",
    "    'no':without_cell_phone,\n",
    "    'yes':with_cell_phone\n",
    "})"
   ]
  },
  {
   "cell_type": "code",
   "execution_count": 3,
   "metadata": {
    "colab": {},
    "colab_type": "code",
    "id": "_I_0kOITfX22"
   },
   "outputs": [],
   "source": [
    "df_paired['diff'] = df_paired['yes'] - df_paired['no']"
   ]
  },
  {
   "cell_type": "code",
   "execution_count": 4,
   "metadata": {
    "colab": {
     "base_uri": "https://localhost:8080/",
     "height": 340
    },
    "colab_type": "code",
    "executionInfo": {
     "elapsed": 952,
     "status": "ok",
     "timestamp": 1593759885235,
     "user": {
      "displayName": "Fathi Muhyi",
      "photoUrl": "https://lh3.googleusercontent.com/a-/AOh14GhChUnD9lp0uYHDjzFDqClMEcljUKZtuV7ArMBsmA=s64",
      "userId": "15936908794749616962"
     },
     "user_tz": -420
    },
    "id": "o1nKAhZVfX27",
    "outputId": "cf125f11-0153-44f8-bc55-b14c7998587e"
   },
   "outputs": [
    {
     "data": {
      "text/html": [
       "<div>\n",
       "<style scoped>\n",
       "    .dataframe tbody tr th:only-of-type {\n",
       "        vertical-align: middle;\n",
       "    }\n",
       "\n",
       "    .dataframe tbody tr th {\n",
       "        vertical-align: top;\n",
       "    }\n",
       "\n",
       "    .dataframe thead th {\n",
       "        text-align: right;\n",
       "    }\n",
       "</style>\n",
       "<table border=\"1\" class=\"dataframe\">\n",
       "  <thead>\n",
       "    <tr style=\"text-align: right;\">\n",
       "      <th></th>\n",
       "      <th>no</th>\n",
       "      <th>yes</th>\n",
       "      <th>diff</th>\n",
       "    </tr>\n",
       "  </thead>\n",
       "  <tbody>\n",
       "    <tr>\n",
       "      <th>0</th>\n",
       "      <td>636</td>\n",
       "      <td>604</td>\n",
       "      <td>-32</td>\n",
       "    </tr>\n",
       "    <tr>\n",
       "      <th>1</th>\n",
       "      <td>623</td>\n",
       "      <td>556</td>\n",
       "      <td>-67</td>\n",
       "    </tr>\n",
       "    <tr>\n",
       "      <th>2</th>\n",
       "      <td>615</td>\n",
       "      <td>540</td>\n",
       "      <td>-75</td>\n",
       "    </tr>\n",
       "    <tr>\n",
       "      <th>3</th>\n",
       "      <td>672</td>\n",
       "      <td>522</td>\n",
       "      <td>-150</td>\n",
       "    </tr>\n",
       "    <tr>\n",
       "      <th>4</th>\n",
       "      <td>601</td>\n",
       "      <td>469</td>\n",
       "      <td>-132</td>\n",
       "    </tr>\n",
       "    <tr>\n",
       "      <th>5</th>\n",
       "      <td>600</td>\n",
       "      <td>544</td>\n",
       "      <td>-56</td>\n",
       "    </tr>\n",
       "    <tr>\n",
       "      <th>6</th>\n",
       "      <td>542</td>\n",
       "      <td>513</td>\n",
       "      <td>-29</td>\n",
       "    </tr>\n",
       "    <tr>\n",
       "      <th>7</th>\n",
       "      <td>554</td>\n",
       "      <td>470</td>\n",
       "      <td>-84</td>\n",
       "    </tr>\n",
       "    <tr>\n",
       "      <th>8</th>\n",
       "      <td>543</td>\n",
       "      <td>556</td>\n",
       "      <td>13</td>\n",
       "    </tr>\n",
       "    <tr>\n",
       "      <th>9</th>\n",
       "      <td>520</td>\n",
       "      <td>531</td>\n",
       "      <td>11</td>\n",
       "    </tr>\n",
       "  </tbody>\n",
       "</table>\n",
       "</div>"
      ],
      "text/plain": [
       "    no  yes  diff\n",
       "0  636  604   -32\n",
       "1  623  556   -67\n",
       "2  615  540   -75\n",
       "3  672  522  -150\n",
       "4  601  469  -132\n",
       "5  600  544   -56\n",
       "6  542  513   -29\n",
       "7  554  470   -84\n",
       "8  543  556    13\n",
       "9  520  531    11"
      ]
     },
     "execution_count": 4,
     "metadata": {},
     "output_type": "execute_result"
    }
   ],
   "source": [
    "df_paired.head(10)"
   ]
  },
  {
   "cell_type": "code",
   "execution_count": 5,
   "metadata": {
    "colab": {
     "base_uri": "https://localhost:8080/",
     "height": 177
    },
    "colab_type": "code",
    "executionInfo": {
     "elapsed": 737,
     "status": "ok",
     "timestamp": 1593759886960,
     "user": {
      "displayName": "Fathi Muhyi",
      "photoUrl": "https://lh3.googleusercontent.com/a-/AOh14GhChUnD9lp0uYHDjzFDqClMEcljUKZtuV7ArMBsmA=s64",
      "userId": "15936908794749616962"
     },
     "user_tz": -420
    },
    "id": "AR8l4XMIfX3B",
    "outputId": "0282faf5-cb05-4757-eb93-954e77b6d0c5"
   },
   "outputs": [
    {
     "data": {
      "text/plain": [
       "count     16.000000\n",
       "mean     -46.500000\n",
       "std       50.146452\n",
       "min     -150.000000\n",
       "25%      -77.250000\n",
       "50%      -30.500000\n",
       "75%      -16.750000\n",
       "max       24.000000\n",
       "Name: diff, dtype: float64"
      ]
     },
     "execution_count": 5,
     "metadata": {},
     "output_type": "execute_result"
    }
   ],
   "source": [
    "df_paired['diff'].describe()"
   ]
  },
  {
   "cell_type": "code",
   "execution_count": 6,
   "metadata": {
    "colab": {
     "base_uri": "https://localhost:8080/",
     "height": 297
    },
    "colab_type": "code",
    "executionInfo": {
     "elapsed": 1524,
     "status": "ok",
     "timestamp": 1593759890131,
     "user": {
      "displayName": "Fathi Muhyi",
      "photoUrl": "https://lh3.googleusercontent.com/a-/AOh14GhChUnD9lp0uYHDjzFDqClMEcljUKZtuV7ArMBsmA=s64",
      "userId": "15936908794749616962"
     },
     "user_tz": -420
    },
    "id": "hsisB7ZsfX3G",
    "outputId": "281b8ede-d4dc-4afa-fa79-81cea12a1bbc"
   },
   "outputs": [
    {
     "data": {
      "text/plain": [
       "<matplotlib.axes._subplots.AxesSubplot at 0x11a167d8>"
      ]
     },
     "execution_count": 6,
     "metadata": {},
     "output_type": "execute_result"
    },
    {
     "data": {
      "image/png": "[encoded data removed]",
      "text/plain": [
       "<Figure size 432x288 with 1 Axes>"
      ]
     },
     "metadata": {
      "needs_background": "light"
     },
     "output_type": "display_data"
    }
   ],
   "source": [
    "sns.boxplot(df_paired['diff'])"
   ]
  },
  {
   "cell_type": "code",
   "execution_count": 7,
   "metadata": {
    "colab": {
     "base_uri": "https://localhost:8080/",
     "height": 297
    },
    "colab_type": "code",
    "executionInfo": {
     "elapsed": 1170,
     "status": "ok",
     "timestamp": 1593759927294,
     "user": {
      "displayName": "Fathi Muhyi",
      "photoUrl": "https://lh3.googleusercontent.com/a-/AOh14GhChUnD9lp0uYHDjzFDqClMEcljUKZtuV7ArMBsmA=s64",
      "userId": "15936908794749616962"
     },
     "user_tz": -420
    },
    "id": "nI9EjkTsfm7h",
    "outputId": "207abf0c-1c2c-4732-c6da-30debf15d90e"
   },
   "outputs": [
    {
     "data": {
      "text/plain": [
       "<matplotlib.axes._subplots.AxesSubplot at 0x12aecda8>"
      ]
     },
     "execution_count": 7,
     "metadata": {},
     "output_type": "execute_result"
    },
    {
     "data": {
      "image/png": "[encoded data removed]",
      "text/plain": [
       "<Figure size 432x288 with 1 Axes>"
      ]
     },
     "metadata": {
      "needs_background": "light"
     },
     "output_type": "display_data"
    }
   ],
   "source": [
    "sns.distplot(df_paired['diff'])"
   ]
  },
  {
   "cell_type": "markdown",
   "metadata": {
    "colab_type": "text",
    "id": "SUIlMCsAfX3K"
   },
   "source": [
    "Ho : Median Population of difference (yes-no) = 0\n",
    "<br>\n",
    "Ha : Median Population of difference (yes-no) < 0"
   ]
  },
  {
   "cell_type": "code",
   "execution_count": 8,
   "metadata": {
    "colab": {},
    "colab_type": "code",
    "id": "TsY1GUEBftk3"
   },
   "outputs": [],
   "source": [
    "from scipy.stats import wilcoxon"
   ]
  },
  {
   "cell_type": "code",
   "execution_count": 9,
   "metadata": {
    "colab": {
     "base_uri": "https://localhost:8080/",
     "height": 52
    },
    "colab_type": "code",
    "executionInfo": {
     "elapsed": 1028,
     "status": "ok",
     "timestamp": 1593760056434,
     "user": {
      "displayName": "Fathi Muhyi",
      "photoUrl": "https://lh3.googleusercontent.com/a-/AOh14GhChUnD9lp0uYHDjzFDqClMEcljUKZtuV7ArMBsmA=s64",
      "userId": "15936908794749616962"
     },
     "user_tz": -420
    },
    "id": "UByEfdHwfX3L",
    "outputId": "60450e5b-0216-42ca-857d-3a896b2e1312"
   },
   "outputs": [
    {
     "name": "stdout",
     "output_type": "stream",
     "text": [
      "0.001599741499196222\n",
      "11.0\n"
     ]
    }
   ],
   "source": [
    "sumrank, pval = wilcoxon(df_paired['diff'], alternative = 'less')\n",
    "print(pval)\n",
    "print(sumrank)"
   ]
  },
  {
   "cell_type": "markdown",
   "metadata": {
    "colab_type": "text",
    "id": "3Z46VoEifX3T"
   },
   "source": [
    "The P-value is lower than our significant level 0.05, it means we have enough evidence to reject the Null Hypothesis. So, reaction time on driving skill after using cell phone are lower than before using cell phone "
   ]
  }
 ],
 "metadata": {
  "colab": {
   "name": "Basic Statitsic v2.ipynb",
   "provenance": [],
   "toc_visible": true
  },
  "hide_input": false,
  "kernelspec": {
   "display_name": "Python 3",
   "language": "python",
   "name": "python3"
  },
  "language_info": {
   "codemirror_mode": {
    "name": "ipython",
    "version": 3
   },
   "file_extension": ".py",
   "mimetype": "text/x-python",
   "name": "python",
   "nbconvert_exporter": "python",
   "pygments_lexer": "ipython3",
   "version": "3.8.1"
  },
  "varInspector": {
   "cols": {
    "lenName": 16,
    "lenType": 16,
    "lenVar": 40
   },
   "kernels_config": {
    "python": {
     "delete_cmd_postfix": "",
     "delete_cmd_prefix": "del ",
     "library": "var_list.py",
     "varRefreshCmd": "print(var_dic_list())"
    },
    "r": {
     "delete_cmd_postfix": ") ",
     "delete_cmd_prefix": "rm(",
     "library": "var_list.r",
     "varRefreshCmd": "cat(var_dic_list()) "
    }
   },
   "types_to_exclude": [
    "module",
    "function",
    "builtin_function_or_method",
    "instance",
    "_Feature"
   ],
   "window_display": false
  }
 },
 "nbformat": 4,
 "nbformat_minor": 4
}
